{
 "cells": [
  {
   "cell_type": "code",
   "execution_count": 1,
   "id": "59266045-c6f9-446f-881a-6f2312c8b2a9",
   "metadata": {},
   "outputs": [],
   "source": [
    "import numpy as np\n",
    "import pandas as pd\n",
    "import os\n",
    "import glob\n",
    "import h5py\n",
    "import wandb\n",
    "\n",
    "import string\n",
    "import random\n",
    "\n",
    "import torch \n",
    "from torch.utils.data import Dataset, DataLoader\n",
    "import torch.nn as nn\n",
    "import torch.nn.functional as F\n",
    "\n",
    "import lightning as L\n",
    "from lightning.pytorch.loggers import WandbLogger\n",
    "from lightning.pytorch.callbacks import ModelCheckpoint\n",
    "\n",
    "\n",
    "from torch import optim, utils, Tensor\n",
    "\n",
    "import matplotlib.pyplot as plt\n",
    "from sklearn.metrics import RocCurveDisplay, PrecisionRecallDisplay\n",
    "import sklearn.linear_model\n",
    "\n",
    "\n",
    "from itables import show\n",
    "from SimpleMILModels import Attention, MaxMIL, AttentionResNet\n",
    "from DataLoaders import RetCCLFeatureLoader, RetCCLFeatureLoaderMem\n",
    "\n",
    "\n",
    "import zarr\n",
    "import seaborn as sns\n",
    "\n",
    "recompute_attn = False"
   ]
  },
  {
   "cell_type": "code",
   "execution_count": 2,
   "id": "451747b6-8b79-4507-bc0e-dc686d1a504c",
   "metadata": {},
   "outputs": [],
   "source": [
    "def sigmoid_array(x):\n",
    "    return 1 / (1 + np.exp(-x))"
   ]
  },
  {
   "cell_type": "code",
   "execution_count": 3,
   "id": "686eaf7a-756c-4295-bc0b-b5c017bd0a8c",
   "metadata": {},
   "outputs": [],
   "source": [
    "\n",
    "\n",
    "import os\n",
    "os.environ['HTTP_PROXY']=\"http://www-int.dkfz-heidelberg.de:80\"\n",
    "os.environ['HTTPS_PROXY']=\"http://www-int.dkfz-heidelberg.de:80\"\n"
   ]
  },
  {
   "cell_type": "code",
   "execution_count": 4,
   "id": "78da8760-889c-4579-91af-d871c3921745",
   "metadata": {},
   "outputs": [],
   "source": [
    "group = \"BGUAJ0\""
   ]
  },
  {
   "cell_type": "code",
   "execution_count": 5,
   "id": "79e534dd-6813-4613-932c-e91515e8dc81",
   "metadata": {},
   "outputs": [],
   "source": [
    "\n",
    "api = wandb.Api()\n"
   ]
  },
  {
   "cell_type": "code",
   "execution_count": 6,
   "id": "793d221d-8f81-46aa-80c1-af0e41b9f4f8",
   "metadata": {},
   "outputs": [],
   "source": [
    "runs = api.runs(path=\"psmirnov/UKHD_RetCLL_299_CT\", filters={\"group\": group})"
   ]
  },
  {
   "cell_type": "code",
   "execution_count": 17,
   "id": "7e4e6452",
   "metadata": {},
   "outputs": [
    {
     "data": {
      "text/plain": [
       "<Runs psmirnov/UKHD_RetCLL_299_CT>"
      ]
     },
     "execution_count": 17,
     "metadata": {},
     "output_type": "execute_result"
    }
   ],
   "source": [
    "runs"
   ]
  },
  {
   "cell_type": "markdown",
   "id": "fc2c9b30-0872-4260-9f2b-7a24ff457977",
   "metadata": {},
   "source": [
    "Load in the features (not too much memory needed)"
   ]
  },
  {
   "cell_type": "code",
   "execution_count": 7,
   "id": "25423f2c-c8c1-4a98-9b94-27a2c8b8f125",
   "metadata": {},
   "outputs": [],
   "source": [
    "path_to_extracted_features = '/home/p163v/histopathology/TCGA/ffpe/299/'"
   ]
  },
  {
   "cell_type": "code",
   "execution_count": 8,
   "id": "54043b22-590a-4eb9-be9b-43a249e7eaf4",
   "metadata": {},
   "outputs": [],
   "source": [
    "slide_meta = pd.read_csv(\"../metadata/tcga_labeled_data.csv\")\n"
   ]
  },
  {
   "cell_type": "code",
   "execution_count": 9,
   "id": "fde25a02-f255-43af-8b42-ff310cc3a36b",
   "metadata": {},
   "outputs": [
    {
     "data": {
      "text/html": [
       "<div>\n",
       "<style scoped>\n",
       "    .dataframe tbody tr th:only-of-type {\n",
       "        vertical-align: middle;\n",
       "    }\n",
       "\n",
       "    .dataframe tbody tr th {\n",
       "        vertical-align: top;\n",
       "    }\n",
       "\n",
       "    .dataframe thead th {\n",
       "        text-align: right;\n",
       "    }\n",
       "</style>\n",
       "<table border=\"1\" class=\"dataframe\">\n",
       "  <thead>\n",
       "    <tr style=\"text-align: right;\">\n",
       "      <th></th>\n",
       "      <th>Unnamed: 0.1</th>\n",
       "      <th>Unnamed: 0</th>\n",
       "      <th>CT_Status</th>\n",
       "      <th>TCGA_Case</th>\n",
       "      <th>0</th>\n",
       "      <th>project</th>\n",
       "      <th>PatientID</th>\n",
       "      <th>slide_id</th>\n",
       "      <th>patches</th>\n",
       "      <th>labels</th>\n",
       "    </tr>\n",
       "  </thead>\n",
       "  <tbody>\n",
       "    <tr>\n",
       "      <th>0</th>\n",
       "      <td>0</td>\n",
       "      <td>/omics/groups/OE0585/internal/p163v/TCGA_downl...</td>\n",
       "      <td>Chromothripsis</td>\n",
       "      <td>TCGA-DC-4745</td>\n",
       "      <td>TCGA-DC-4745-01Z-00-DX1.f5aa77b0-aa9b-4f0c-a00...</td>\n",
       "      <td>READ</td>\n",
       "      <td>TCGA-DC-4745</td>\n",
       "      <td>TCGA-DC-4745-01Z-00-DX1</td>\n",
       "      <td>3779</td>\n",
       "      <td>1</td>\n",
       "    </tr>\n",
       "    <tr>\n",
       "      <th>1</th>\n",
       "      <td>2</td>\n",
       "      <td>/omics/groups/OE0585/internal/p163v/TCGA_downl...</td>\n",
       "      <td>No Chromothripsis</td>\n",
       "      <td>TCGA-02-0003</td>\n",
       "      <td>TCGA-02-0003-01Z-00-DX1.6171b175-0972-4e84-999...</td>\n",
       "      <td>GBM</td>\n",
       "      <td>TCGA-02-0003</td>\n",
       "      <td>TCGA-02-0003-01Z-00-DX1</td>\n",
       "      <td>11146</td>\n",
       "      <td>0</td>\n",
       "    </tr>\n",
       "    <tr>\n",
       "      <th>2</th>\n",
       "      <td>3</td>\n",
       "      <td>/omics/groups/OE0585/internal/p163v/TCGA_downl...</td>\n",
       "      <td>No Chromothripsis</td>\n",
       "      <td>TCGA-02-0003</td>\n",
       "      <td>TCGA-02-0003-01Z-00-DX2.c7652d8d-d78f-49ae-825...</td>\n",
       "      <td>GBM</td>\n",
       "      <td>TCGA-02-0003</td>\n",
       "      <td>TCGA-02-0003-01Z-00-DX2</td>\n",
       "      <td>8501</td>\n",
       "      <td>0</td>\n",
       "    </tr>\n",
       "    <tr>\n",
       "      <th>3</th>\n",
       "      <td>4</td>\n",
       "      <td>/omics/groups/OE0585/internal/p163v/TCGA_downl...</td>\n",
       "      <td>No Chromothripsis</td>\n",
       "      <td>TCGA-02-0003</td>\n",
       "      <td>TCGA-02-0003-01Z-00-DX3.995C2924-E298-4517-82A...</td>\n",
       "      <td>GBM</td>\n",
       "      <td>TCGA-02-0003</td>\n",
       "      <td>TCGA-02-0003-01Z-00-DX3</td>\n",
       "      <td>2998</td>\n",
       "      <td>0</td>\n",
       "    </tr>\n",
       "    <tr>\n",
       "      <th>4</th>\n",
       "      <td>6</td>\n",
       "      <td>/omics/groups/OE0585/internal/p163v/TCGA_downl...</td>\n",
       "      <td>Chromothripsis</td>\n",
       "      <td>TCGA-CH-5767</td>\n",
       "      <td>TCGA-CH-5767-01Z-00-DX1.5a8d8c09-2837-4981-9c4...</td>\n",
       "      <td>PRAD</td>\n",
       "      <td>TCGA-CH-5767</td>\n",
       "      <td>TCGA-CH-5767-01Z-00-DX1</td>\n",
       "      <td>998</td>\n",
       "      <td>1</td>\n",
       "    </tr>\n",
       "    <tr>\n",
       "      <th>...</th>\n",
       "      <td>...</td>\n",
       "      <td>...</td>\n",
       "      <td>...</td>\n",
       "      <td>...</td>\n",
       "      <td>...</td>\n",
       "      <td>...</td>\n",
       "      <td>...</td>\n",
       "      <td>...</td>\n",
       "      <td>...</td>\n",
       "      <td>...</td>\n",
       "    </tr>\n",
       "    <tr>\n",
       "      <th>3155</th>\n",
       "      <td>12587</td>\n",
       "      <td>/omics/groups/OE0585/internal/p163v/TCGA_downl...</td>\n",
       "      <td>Chromothripsis</td>\n",
       "      <td>TCGA-66-2769</td>\n",
       "      <td>TCGA-66-2769-01Z-00-DX1.101b6493-a7b3-42cf-ae2...</td>\n",
       "      <td>LUSC</td>\n",
       "      <td>TCGA-66-2769</td>\n",
       "      <td>TCGA-66-2769-01Z-00-DX1</td>\n",
       "      <td>1796</td>\n",
       "      <td>1</td>\n",
       "    </tr>\n",
       "    <tr>\n",
       "      <th>3156</th>\n",
       "      <td>12594</td>\n",
       "      <td>/omics/groups/OE0585/internal/p163v/TCGA_downl...</td>\n",
       "      <td>No Chromothripsis</td>\n",
       "      <td>TCGA-D1-A17S</td>\n",
       "      <td>TCGA-D1-A17S-01Z-00-DX1.8EBE62E2-B0D1-480D-8A1...</td>\n",
       "      <td>UCEC</td>\n",
       "      <td>TCGA-D1-A17S</td>\n",
       "      <td>TCGA-D1-A17S-01Z-00-DX1</td>\n",
       "      <td>8390</td>\n",
       "      <td>0</td>\n",
       "    </tr>\n",
       "    <tr>\n",
       "      <th>3157</th>\n",
       "      <td>12607</td>\n",
       "      <td>/omics/groups/OE0585/internal/p163v/TCGA_downl...</td>\n",
       "      <td>No Chromothripsis</td>\n",
       "      <td>TCGA-BB-4217</td>\n",
       "      <td>TCGA-BB-4217-01Z-00-DX1.E351C8DB-F6CB-4327-9FE...</td>\n",
       "      <td>HNSC</td>\n",
       "      <td>TCGA-BB-4217</td>\n",
       "      <td>TCGA-BB-4217-01Z-00-DX1</td>\n",
       "      <td>6599</td>\n",
       "      <td>0</td>\n",
       "    </tr>\n",
       "    <tr>\n",
       "      <th>3158</th>\n",
       "      <td>12614</td>\n",
       "      <td>/omics/groups/OE0585/internal/p163v/TCGA_downl...</td>\n",
       "      <td>No Chromothripsis</td>\n",
       "      <td>TCGA-QR-A70E</td>\n",
       "      <td>TCGA-QR-A70E-01Z-00-DX1.1BF4CFF5-C43B-4145-B5A...</td>\n",
       "      <td>PCPG</td>\n",
       "      <td>TCGA-QR-A70E</td>\n",
       "      <td>TCGA-QR-A70E-01Z-00-DX1</td>\n",
       "      <td>4592</td>\n",
       "      <td>0</td>\n",
       "    </tr>\n",
       "    <tr>\n",
       "      <th>3159</th>\n",
       "      <td>12618</td>\n",
       "      <td>/omics/groups/OE0585/internal/p163v/TCGA_downl...</td>\n",
       "      <td>No Chromothripsis</td>\n",
       "      <td>TCGA-KN-8419</td>\n",
       "      <td>TCGA-KN-8419-01Z-00-DX1.15311E57-CCC5-4D15-88D...</td>\n",
       "      <td>KICH</td>\n",
       "      <td>TCGA-KN-8419</td>\n",
       "      <td>TCGA-KN-8419-01Z-00-DX1</td>\n",
       "      <td>7784</td>\n",
       "      <td>0</td>\n",
       "    </tr>\n",
       "  </tbody>\n",
       "</table>\n",
       "<p>3160 rows × 10 columns</p>\n",
       "</div>"
      ],
      "text/plain": [
       "      Unnamed: 0.1                                         Unnamed: 0  \\\n",
       "0                0  /omics/groups/OE0585/internal/p163v/TCGA_downl...   \n",
       "1                2  /omics/groups/OE0585/internal/p163v/TCGA_downl...   \n",
       "2                3  /omics/groups/OE0585/internal/p163v/TCGA_downl...   \n",
       "3                4  /omics/groups/OE0585/internal/p163v/TCGA_downl...   \n",
       "4                6  /omics/groups/OE0585/internal/p163v/TCGA_downl...   \n",
       "...            ...                                                ...   \n",
       "3155         12587  /omics/groups/OE0585/internal/p163v/TCGA_downl...   \n",
       "3156         12594  /omics/groups/OE0585/internal/p163v/TCGA_downl...   \n",
       "3157         12607  /omics/groups/OE0585/internal/p163v/TCGA_downl...   \n",
       "3158         12614  /omics/groups/OE0585/internal/p163v/TCGA_downl...   \n",
       "3159         12618  /omics/groups/OE0585/internal/p163v/TCGA_downl...   \n",
       "\n",
       "              CT_Status     TCGA_Case  \\\n",
       "0        Chromothripsis  TCGA-DC-4745   \n",
       "1     No Chromothripsis  TCGA-02-0003   \n",
       "2     No Chromothripsis  TCGA-02-0003   \n",
       "3     No Chromothripsis  TCGA-02-0003   \n",
       "4        Chromothripsis  TCGA-CH-5767   \n",
       "...                 ...           ...   \n",
       "3155     Chromothripsis  TCGA-66-2769   \n",
       "3156  No Chromothripsis  TCGA-D1-A17S   \n",
       "3157  No Chromothripsis  TCGA-BB-4217   \n",
       "3158  No Chromothripsis  TCGA-QR-A70E   \n",
       "3159  No Chromothripsis  TCGA-KN-8419   \n",
       "\n",
       "                                                      0 project     PatientID  \\\n",
       "0     TCGA-DC-4745-01Z-00-DX1.f5aa77b0-aa9b-4f0c-a00...    READ  TCGA-DC-4745   \n",
       "1     TCGA-02-0003-01Z-00-DX1.6171b175-0972-4e84-999...     GBM  TCGA-02-0003   \n",
       "2     TCGA-02-0003-01Z-00-DX2.c7652d8d-d78f-49ae-825...     GBM  TCGA-02-0003   \n",
       "3     TCGA-02-0003-01Z-00-DX3.995C2924-E298-4517-82A...     GBM  TCGA-02-0003   \n",
       "4     TCGA-CH-5767-01Z-00-DX1.5a8d8c09-2837-4981-9c4...    PRAD  TCGA-CH-5767   \n",
       "...                                                 ...     ...           ...   \n",
       "3155  TCGA-66-2769-01Z-00-DX1.101b6493-a7b3-42cf-ae2...    LUSC  TCGA-66-2769   \n",
       "3156  TCGA-D1-A17S-01Z-00-DX1.8EBE62E2-B0D1-480D-8A1...    UCEC  TCGA-D1-A17S   \n",
       "3157  TCGA-BB-4217-01Z-00-DX1.E351C8DB-F6CB-4327-9FE...    HNSC  TCGA-BB-4217   \n",
       "3158  TCGA-QR-A70E-01Z-00-DX1.1BF4CFF5-C43B-4145-B5A...    PCPG  TCGA-QR-A70E   \n",
       "3159  TCGA-KN-8419-01Z-00-DX1.15311E57-CCC5-4D15-88D...    KICH  TCGA-KN-8419   \n",
       "\n",
       "                     slide_id  patches  labels  \n",
       "0     TCGA-DC-4745-01Z-00-DX1     3779       1  \n",
       "1     TCGA-02-0003-01Z-00-DX1    11146       0  \n",
       "2     TCGA-02-0003-01Z-00-DX2     8501       0  \n",
       "3     TCGA-02-0003-01Z-00-DX3     2998       0  \n",
       "4     TCGA-CH-5767-01Z-00-DX1      998       1  \n",
       "...                       ...      ...     ...  \n",
       "3155  TCGA-66-2769-01Z-00-DX1     1796       1  \n",
       "3156  TCGA-D1-A17S-01Z-00-DX1     8390       0  \n",
       "3157  TCGA-BB-4217-01Z-00-DX1     6599       0  \n",
       "3158  TCGA-QR-A70E-01Z-00-DX1     4592       0  \n",
       "3159  TCGA-KN-8419-01Z-00-DX1     7784       0  \n",
       "\n",
       "[3160 rows x 10 columns]"
      ]
     },
     "execution_count": 9,
     "metadata": {},
     "output_type": "execute_result"
    }
   ],
   "source": [
    "slide_meta\n"
   ]
  },
  {
   "cell_type": "code",
   "execution_count": 10,
   "id": "27345335-4e43-4387-b4e6-8773ab263360",
   "metadata": {},
   "outputs": [],
   "source": [
    "\n",
    "\n",
    "\n",
    "slide_meta = pd.read_csv(\"../metadata/tcga_labeled_data.csv\")\n",
    "\n",
    "# 50 random slides\n",
    "\n",
    "myx = np.random.choice(np.array(range(len(slide_meta[slide_meta.project==\"GBM\"].slide_id))), 50)\n",
    "\n",
    "gbm_slides = slide_meta[slide_meta.project==\"GBM\"].slide_id.iloc[myx]\n",
    "\n",
    "test_labels = slide_meta[slide_meta.project==\"GBM\"].labels.iloc[myx]\n",
    "\n",
    "#all_files = [x for x in slide_annots.file if os.path.isfile(path_to_extracted_features + \"/\" + x)]\n",
    "#    all_features = {file: h5py.File(path_to_extracted_features + \"/\" + file, 'r')['feats'][:] for file in all_files}"
   ]
  },
  {
   "cell_type": "code",
   "execution_count": 11,
   "id": "1733c9d6-02cc-46fb-88ca-50bfc0b53eef",
   "metadata": {},
   "outputs": [
    {
     "data": {
      "text/plain": [
       "0.78"
      ]
     },
     "execution_count": 11,
     "metadata": {},
     "output_type": "execute_result"
    }
   ],
   "source": [
    "test_labels.mean()"
   ]
  },
  {
   "cell_type": "code",
   "execution_count": 12,
   "id": "68421f5d-2c35-4156-bd16-1c28479b457d",
   "metadata": {},
   "outputs": [],
   "source": [
    "test_features = [h5py.File(path_to_extracted_features + \"/\" + file + \".h5\", 'r')['feats'][:] for file in gbm_slides]"
   ]
  },
  {
   "cell_type": "markdown",
   "id": "e86e9442-4c59-4408-ba97-a686866791d3",
   "metadata": {},
   "source": [
    "# Loss"
   ]
  },
  {
   "cell_type": "markdown",
   "id": "efd811b6-abd4-45f2-9b0a-f226f45b290d",
   "metadata": {},
   "source": [
    "We use the loss as the early stopping criteria\n"
   ]
  },
  {
   "cell_type": "code",
   "execution_count": 13,
   "id": "4b017628-c5dc-4e09-95e2-6c75694b1ad4",
   "metadata": {},
   "outputs": [],
   "source": [
    "model_list = list()\n",
    "attention_list = list()\n",
    "prob_list = list()\n",
    "pred_list = list()\n",
    "cv =  lambda x: np.std(x) / np.mean(x)"
   ]
  },
  {
   "cell_type": "code",
   "execution_count": 14,
   "id": "6a41ed02-176f-4332-b86a-ff1bb29cd2fa",
   "metadata": {},
   "outputs": [],
   "source": [
    "test_data = RetCCLFeatureLoaderMem(test_features, np.array(test_labels), patches_per_iter='all')\n",
    "\n",
    "RetCCLTest = DataLoader(test_data, batch_size=1, num_workers=1)#, sampler=valid_Sampler)\n"
   ]
  },
  {
   "cell_type": "code",
   "execution_count": 16,
   "id": "f3fc2638-28d6-473b-915c-b43a9dcdc65a",
   "metadata": {
    "tags": []
   },
   "outputs": [
    {
     "name": "stderr",
     "output_type": "stream",
     "text": [
      "/tmp/ipykernel_53881/1464745967.py:13: UserWarning: To copy construct from a tensor, it is recommended to use sourceTensor.clone().detach() or sourceTensor.clone().detach().requires_grad_(True), rather than torch.tensor(sourceTensor).\n",
      "  model_forward = [model.forward(torch.tensor(x).to(model.device)) for x,y in iter(RetCCLTest)]\n"
     ]
    }
   ],
   "source": [
    "for ii in range(len(runs)):\n",
    "    \n",
    "    arts = runs[ii].logged_artifacts()\n",
    "    arts_dict = {a.name.removesuffix(':'+a.version).split('-')[0]: a for a in arts}\n",
    "    checkpoint_folder_name = arts_dict['model'].name.split('-')[1].removesuffix(':'+arts_dict['model'].version)\n",
    "    args = runs[0].config\n",
    "\n",
    "    model = Attention(2048, lr=args['lr'], weight_decay=args['weight_decay'], hidden_dim=args['hidden_dim'], attention_dim=args['attention_dim'], class_weights=torch.tensor(float(args['class_weights'])))\n",
    "    chkpt_file = glob.glob('lightning_logs/'+checkpoint_folder_name+'/checkpoints/best_loss*')[0]\n",
    "    model = model.load_from_checkpoint(chkpt_file, map_location=torch.device('cpu'))\n",
    "    model.eval()\n",
    "    model_list.append(model)\n",
    "    model_forward = [model.forward(torch.tensor(x).to(model.device)) for x,y in iter(RetCCLTest)]\n",
    "    model_attention = [x[2].detach().numpy() for x in model_forward]\n",
    "    model_prob = [x[0].detach().numpy() for x in model_forward]\n",
    "    model_pred = [x[1].detach().numpy() for x in model_forward]\n",
    "\n",
    "    attention_list.append(model_attention)\n",
    "    prob_list.append(model_prob)\n",
    "    pred_list.append(model_pred)\n",
    "    "
   ]
  },
  {
   "cell_type": "code",
   "execution_count": 18,
   "id": "b488eaf9-dc69-4e0f-8412-608def5f1f46",
   "metadata": {},
   "outputs": [],
   "source": [
    "prob_list = [np.concatenate(x) for x in prob_list]\n",
    "pred_list = [np.concatenate(x) for x in pred_list]\n"
   ]
  },
  {
   "cell_type": "code",
   "execution_count": 19,
   "id": "26ea995b-0f57-4dd9-bc51-bc6e7d50ce10",
   "metadata": {},
   "outputs": [],
   "source": [
    "prob_test = np.mean(np.vstack(prob_list), axis=0)"
   ]
  },
  {
   "cell_type": "code",
   "execution_count": 30,
   "id": "1763f304-ee8e-4104-a037-7dd38b9428d5",
   "metadata": {},
   "outputs": [],
   "source": [
    "prob_test = np.mean(np.vstack([sigmoid_array(x) for x in prob_list]), axis=0)\n",
    "\n",
    "\n",
    "\n"
   ]
  },
  {
   "cell_type": "code",
   "execution_count": 24,
   "id": "d50e3302-3c2b-4bc1-a1df-34ea081d9381",
   "metadata": {},
   "outputs": [
    {
     "data": {
      "text/plain": [
       "1562    0\n",
       "364     1\n",
       "699     1\n",
       "2434    1\n",
       "901     1\n",
       "373     0\n",
       "636     1\n",
       "2917    0\n",
       "3063    0\n",
       "909     1\n",
       "1930    1\n",
       "861     1\n",
       "900     1\n",
       "899     1\n",
       "2686    1\n",
       "2596    0\n",
       "3069    1\n",
       "1612    1\n",
       "382     0\n",
       "681     1\n",
       "910     1\n",
       "567     1\n",
       "373     0\n",
       "1406    1\n",
       "627     1\n",
       "41      1\n",
       "910     1\n",
       "899     1\n",
       "28      1\n",
       "70      1\n",
       "805     1\n",
       "1630    1\n",
       "68      1\n",
       "2102    1\n",
       "2317    0\n",
       "975     1\n",
       "2439    1\n",
       "405     0\n",
       "2478    1\n",
       "1831    0\n",
       "567     1\n",
       "2108    1\n",
       "1096    0\n",
       "2102    1\n",
       "2108    1\n",
       "2439    1\n",
       "969     1\n",
       "2228    1\n",
       "2686    1\n",
       "1406    1\n",
       "Name: labels, dtype: int64"
      ]
     },
     "execution_count": 24,
     "metadata": {},
     "output_type": "execute_result"
    }
   ],
   "source": [
    "test_labels"
   ]
  },
  {
   "cell_type": "code",
   "execution_count": 32,
   "id": "fb438af6-665f-450d-9942-7079675c58e1",
   "metadata": {},
   "outputs": [
    {
     "data": {
      "image/png": "[encoded data removed]",
      "text/plain": [
       "<Figure size 640x480 with 1 Axes>"
      ]
     },
     "metadata": {},
     "output_type": "display_data"
    }
   ],
   "source": [
    "\n",
    "\n",
    "fig, ax = plt.subplots()\n",
    "RocCurveDisplay.from_predictions(\n",
    "    np.array(test_labels),\n",
    "    prob_test,\n",
    "    name=\"CT Prediction Images\",\n",
    "    color=\"darkorange\",\n",
    "    plot_chance_level=True,\n",
    "    ax=ax\n",
    ")\n",
    "plt.axis(\"square\")\n",
    "plt.xlabel(\"False Positive Rate\")\n",
    "plt.ylabel(\"True Positive Rate\")\n",
    "plt.title(\"\")\n",
    "plt.legend()\n",
    "plt.show()"
   ]
  },
  {
   "cell_type": "code",
   "execution_count": 33,
   "id": "deb0769f-8615-4625-9927-74c15c840167",
   "metadata": {},
   "outputs": [],
   "source": [
    "attention_list.append(model_attention)\n",
    "\n"
   ]
  },
  {
   "cell_type": "code",
   "execution_count": 40,
   "id": "9c62fc3c-75c0-4c49-aceb-b96abfbbd791",
   "metadata": {},
   "outputs": [
    {
     "data": {
      "text/plain": [
       "50"
      ]
     },
     "execution_count": 40,
     "metadata": {},
     "output_type": "execute_result"
    }
   ],
   "source": [
    "len(attention_list[0])"
   ]
  },
  {
   "cell_type": "code",
   "execution_count": 42,
   "id": "221b1ee5-bf86-467d-bdf7-140a52ca0b1d",
   "metadata": {},
   "outputs": [],
   "source": [
    "attention_combined = [np.hstack(x) for x in zip(*attention_list)]\n",
    "\n"
   ]
  },
  {
   "cell_type": "code",
   "execution_count": 57,
   "id": "465753bb-eede-4930-9de8-241738c181c2",
   "metadata": {},
   "outputs": [],
   "source": [
    "sns.histplot(np.concatenate([np.std(x, axis=1)/np.mean(x, axis=1) for x in attention_combined], axis=1))\n"
   ]
  },
  {
   "cell_type": "code",
   "execution_count": null,
   "id": "0d2b7b6a-5e0f-40af-98bb-3954b2f045cf",
   "metadata": {},
   "outputs": [],
   "source": []
  }
 ],
 "metadata": {
  "kernelspec": {
   "display_name": "Python 3 (ipykernel)",
   "language": "python",
   "name": "python3"
  },
  "language_info": {
   "codemirror_mode": {
    "name": "ipython",
    "version": 3
   },
   "file_extension": ".py",
   "mimetype": "text/x-python",
   "name": "python",
   "nbconvert_exporter": "python",
   "pygments_lexer": "ipython3",
   "version": "3.9.16"
  }
 },
 "nbformat": 4,
 "nbformat_minor": 5
}
