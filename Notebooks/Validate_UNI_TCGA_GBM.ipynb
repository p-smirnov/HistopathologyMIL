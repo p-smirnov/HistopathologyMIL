{
 "cells": [
  {
   "cell_type": "code",
   "execution_count": 1,
   "id": "59266045-c6f9-446f-881a-6f2312c8b2a9",
   "metadata": {},
   "outputs": [],
   "source": [
    "import numpy as np\n",
    "import pandas as pd\n",
    "import os\n",
    "import glob\n",
    "import h5py\n",
    "import wandb\n",
    "\n",
    "import string\n",
    "import random\n",
    "\n",
    "import torch \n",
    "from torch.utils.data import Dataset, DataLoader\n",
    "import torch.nn as nn\n",
    "import torch.nn.functional as F\n",
    "\n",
    "import lightning as L\n",
    "from lightning.pytorch.loggers import WandbLogger\n",
    "from lightning.pytorch.callbacks import ModelCheckpoint\n",
    "\n",
    "\n",
    "from torch import optim, utils, Tensor\n",
    "\n",
    "import matplotlib.pyplot as plt\n",
    "from sklearn.metrics import RocCurveDisplay, PrecisionRecallDisplay\n",
    "import sklearn.linear_model\n",
    "\n",
    "\n",
    "from itables import show\n",
    "from src.model.SimpleMILModels import Attention, MaxMIL, AttentionResNet\n",
    "from src.dataloaders.DataLoaders import RetCCLFeatureLoader, RetCCLFeatureLoaderMem\n",
    "\n",
    "\n",
    "import zarr\n",
    "import seaborn as sns\n",
    "\n",
    "recompute_attn = False"
   ]
  },
  {
   "cell_type": "code",
   "execution_count": 2,
   "id": "451747b6-8b79-4507-bc0e-dc686d1a504c",
   "metadata": {},
   "outputs": [],
   "source": [
    "def sigmoid_array(x):\n",
    "    return 1 / (1 + np.exp(-x))"
   ]
  },
  {
   "cell_type": "code",
   "execution_count": 3,
   "id": "686eaf7a-756c-4295-bc0b-b5c017bd0a8c",
   "metadata": {},
   "outputs": [],
   "source": [
    "\n",
    "\n",
    "import os\n",
    "os.environ['HTTP_PROXY']=\"http://www-int.dkfz-heidelberg.de:80\"\n",
    "os.environ['HTTPS_PROXY']=\"http://www-int.dkfz-heidelberg.de:80\"\n"
   ]
  },
  {
   "cell_type": "code",
   "execution_count": 4,
   "id": "78da8760-889c-4579-91af-d871c3921745",
   "metadata": {},
   "outputs": [],
   "source": [
    "group = \"WO3OUI\""
   ]
  },
  {
   "cell_type": "code",
   "execution_count": 5,
   "id": "79e534dd-6813-4613-932c-e91515e8dc81",
   "metadata": {},
   "outputs": [],
   "source": [
    "\n",
    "api = wandb.Api()\n"
   ]
  },
  {
   "cell_type": "code",
   "execution_count": 6,
   "id": "793d221d-8f81-46aa-80c1-af0e41b9f4f8",
   "metadata": {},
   "outputs": [],
   "source": [
    "runs = api.runs(path=\"psmirnov/UKHD_RetCLL_299_CT\", filters={\"group\": group})"
   ]
  },
  {
   "cell_type": "code",
   "execution_count": 7,
   "id": "7e4e6452",
   "metadata": {},
   "outputs": [
    {
     "data": {
      "text/plain": [
       "<Runs psmirnov/UKHD_RetCLL_299_CT>"
      ]
     },
     "execution_count": 7,
     "metadata": {},
     "output_type": "execute_result"
    }
   ],
   "source": [
    "runs"
   ]
  },
  {
   "cell_type": "markdown",
   "id": "fc2c9b30-0872-4260-9f2b-7a24ff457977",
   "metadata": {},
   "source": [
    "Load in the features (not too much memory needed)"
   ]
  },
  {
   "cell_type": "code",
   "execution_count": 8,
   "id": "25423f2c-c8c1-4a98-9b94-27a2c8b8f125",
   "metadata": {},
   "outputs": [],
   "source": [
    "path_to_extracted_features = '/omics/odcf/analysis/OE0585_projects/chromothripsis/histopathology/TCGA/ffpe/UNI'"
   ]
  },
  {
   "cell_type": "code",
   "execution_count": 9,
   "id": "54043b22-590a-4eb9-be9b-43a249e7eaf4",
   "metadata": {},
   "outputs": [],
   "source": [
    "slide_meta = pd.read_csv(\"../metadata/tcga_labeled_data.csv\")\n"
   ]
  },
  {
   "cell_type": "code",
   "execution_count": 10,
   "id": "fde25a02-f255-43af-8b42-ff310cc3a36b",
   "metadata": {},
   "outputs": [
    {
     "data": {
      "text/plain": [
       "55"
      ]
     },
     "execution_count": 10,
     "metadata": {},
     "output_type": "execute_result"
    }
   ],
   "source": [
    "(slide_meta.project == \"LGG\").sum()\n"
   ]
  },
  {
   "cell_type": "code",
   "execution_count": 11,
   "id": "596124d8-4cd8-40be-9f22-03f9f61908d0",
   "metadata": {},
   "outputs": [
    {
     "data": {
      "text/html": [
       "<div>\n",
       "<style scoped>\n",
       "    .dataframe tbody tr th:only-of-type {\n",
       "        vertical-align: middle;\n",
       "    }\n",
       "\n",
       "    .dataframe tbody tr th {\n",
       "        vertical-align: top;\n",
       "    }\n",
       "\n",
       "    .dataframe thead th {\n",
       "        text-align: right;\n",
       "    }\n",
       "</style>\n",
       "<table border=\"1\" class=\"dataframe\">\n",
       "  <thead>\n",
       "    <tr style=\"text-align: right;\">\n",
       "      <th></th>\n",
       "      <th>Unnamed: 0.1</th>\n",
       "      <th>Unnamed: 0</th>\n",
       "      <th>CT_Status</th>\n",
       "      <th>TCGA_Case</th>\n",
       "      <th>0</th>\n",
       "      <th>project</th>\n",
       "      <th>PatientID</th>\n",
       "      <th>slide_id</th>\n",
       "      <th>patches</th>\n",
       "      <th>labels</th>\n",
       "    </tr>\n",
       "  </thead>\n",
       "  <tbody>\n",
       "    <tr>\n",
       "      <th>1</th>\n",
       "      <td>2</td>\n",
       "      <td>/omics/groups/OE0585/internal/p163v/TCGA_downl...</td>\n",
       "      <td>No Chromothripsis</td>\n",
       "      <td>TCGA-02-0003</td>\n",
       "      <td>TCGA-02-0003-01Z-00-DX1.6171b175-0972-4e84-999...</td>\n",
       "      <td>GBM</td>\n",
       "      <td>TCGA-02-0003</td>\n",
       "      <td>TCGA-02-0003-01Z-00-DX1</td>\n",
       "      <td>11146</td>\n",
       "      <td>0</td>\n",
       "    </tr>\n",
       "    <tr>\n",
       "      <th>2</th>\n",
       "      <td>3</td>\n",
       "      <td>/omics/groups/OE0585/internal/p163v/TCGA_downl...</td>\n",
       "      <td>No Chromothripsis</td>\n",
       "      <td>TCGA-02-0003</td>\n",
       "      <td>TCGA-02-0003-01Z-00-DX2.c7652d8d-d78f-49ae-825...</td>\n",
       "      <td>GBM</td>\n",
       "      <td>TCGA-02-0003</td>\n",
       "      <td>TCGA-02-0003-01Z-00-DX2</td>\n",
       "      <td>8501</td>\n",
       "      <td>0</td>\n",
       "    </tr>\n",
       "    <tr>\n",
       "      <th>3</th>\n",
       "      <td>4</td>\n",
       "      <td>/omics/groups/OE0585/internal/p163v/TCGA_downl...</td>\n",
       "      <td>No Chromothripsis</td>\n",
       "      <td>TCGA-02-0003</td>\n",
       "      <td>TCGA-02-0003-01Z-00-DX3.995C2924-E298-4517-82A...</td>\n",
       "      <td>GBM</td>\n",
       "      <td>TCGA-02-0003</td>\n",
       "      <td>TCGA-02-0003-01Z-00-DX3</td>\n",
       "      <td>2998</td>\n",
       "      <td>0</td>\n",
       "    </tr>\n",
       "    <tr>\n",
       "      <th>26</th>\n",
       "      <td>89</td>\n",
       "      <td>/omics/groups/OE0585/internal/p163v/TCGA_downl...</td>\n",
       "      <td>Chromothripsis</td>\n",
       "      <td>TCGA-06-0129</td>\n",
       "      <td>TCGA-06-0129-01Z-00-DX1.b7bddf7d-f39e-45e7-a78...</td>\n",
       "      <td>GBM</td>\n",
       "      <td>TCGA-06-0129</td>\n",
       "      <td>TCGA-06-0129-01Z-00-DX1</td>\n",
       "      <td>1291</td>\n",
       "      <td>1</td>\n",
       "    </tr>\n",
       "    <tr>\n",
       "      <th>27</th>\n",
       "      <td>90</td>\n",
       "      <td>/omics/groups/OE0585/internal/p163v/TCGA_downl...</td>\n",
       "      <td>Chromothripsis</td>\n",
       "      <td>TCGA-06-0129</td>\n",
       "      <td>TCGA-06-0129-01Z-00-DX2.1ea78b46-1dc7-44d8-81b...</td>\n",
       "      <td>GBM</td>\n",
       "      <td>TCGA-06-0129</td>\n",
       "      <td>TCGA-06-0129-01Z-00-DX2</td>\n",
       "      <td>208</td>\n",
       "      <td>1</td>\n",
       "    </tr>\n",
       "    <tr>\n",
       "      <th>...</th>\n",
       "      <td>...</td>\n",
       "      <td>...</td>\n",
       "      <td>...</td>\n",
       "      <td>...</td>\n",
       "      <td>...</td>\n",
       "      <td>...</td>\n",
       "      <td>...</td>\n",
       "      <td>...</td>\n",
       "      <td>...</td>\n",
       "      <td>...</td>\n",
       "    </tr>\n",
       "    <tr>\n",
       "      <th>3069</th>\n",
       "      <td>12247</td>\n",
       "      <td>/omics/groups/OE0585/internal/p163v/TCGA_downl...</td>\n",
       "      <td>Chromothripsis</td>\n",
       "      <td>TCGA-12-3651</td>\n",
       "      <td>TCGA-12-3651-01Z-00-DX4.CCABF491-326A-42B1-B10...</td>\n",
       "      <td>GBM</td>\n",
       "      <td>TCGA-12-3651</td>\n",
       "      <td>TCGA-12-3651-01Z-00-DX4</td>\n",
       "      <td>15064</td>\n",
       "      <td>1</td>\n",
       "    </tr>\n",
       "    <tr>\n",
       "      <th>3089</th>\n",
       "      <td>12318</td>\n",
       "      <td>/omics/groups/OE0585/internal/p163v/TCGA_downl...</td>\n",
       "      <td>No Chromothripsis</td>\n",
       "      <td>TCGA-02-0054</td>\n",
       "      <td>TCGA-02-0054-01Z-00-DX1.B8AFCEF2-4ED1-4329-854...</td>\n",
       "      <td>GBM</td>\n",
       "      <td>TCGA-02-0054</td>\n",
       "      <td>TCGA-02-0054-01Z-00-DX1</td>\n",
       "      <td>4555</td>\n",
       "      <td>0</td>\n",
       "    </tr>\n",
       "    <tr>\n",
       "      <th>3129</th>\n",
       "      <td>12493</td>\n",
       "      <td>/omics/groups/OE0585/internal/p163v/TCGA_downl...</td>\n",
       "      <td>No Chromothripsis</td>\n",
       "      <td>TCGA-FG-A4MY</td>\n",
       "      <td>TCGA-FG-A4MY-01Z-00-DX1.EB81EFA3-9B05-4480-857...</td>\n",
       "      <td>LGG</td>\n",
       "      <td>TCGA-FG-A4MY</td>\n",
       "      <td>TCGA-FG-A4MY-01Z-00-DX1</td>\n",
       "      <td>1608</td>\n",
       "      <td>0</td>\n",
       "    </tr>\n",
       "    <tr>\n",
       "      <th>3141</th>\n",
       "      <td>12531</td>\n",
       "      <td>/omics/groups/OE0585/internal/p163v/TCGA_downl...</td>\n",
       "      <td>No Chromothripsis</td>\n",
       "      <td>TCGA-14-1794</td>\n",
       "      <td>TCGA-14-1794-01Z-00-DX1.90a1497f-3308-4c70-afc...</td>\n",
       "      <td>GBM</td>\n",
       "      <td>TCGA-14-1794</td>\n",
       "      <td>TCGA-14-1794-01Z-00-DX1</td>\n",
       "      <td>1877</td>\n",
       "      <td>0</td>\n",
       "    </tr>\n",
       "    <tr>\n",
       "      <th>3142</th>\n",
       "      <td>12532</td>\n",
       "      <td>/omics/groups/OE0585/internal/p163v/TCGA_downl...</td>\n",
       "      <td>No Chromothripsis</td>\n",
       "      <td>TCGA-14-1794</td>\n",
       "      <td>TCGA-14-1794-01Z-00-DX2.3e13a3c1-8a7c-4b0a-8a6...</td>\n",
       "      <td>GBM</td>\n",
       "      <td>TCGA-14-1794</td>\n",
       "      <td>TCGA-14-1794-01Z-00-DX2</td>\n",
       "      <td>766</td>\n",
       "      <td>0</td>\n",
       "    </tr>\n",
       "  </tbody>\n",
       "</table>\n",
       "<p>300 rows × 10 columns</p>\n",
       "</div>"
      ],
      "text/plain": [
       "      Unnamed: 0.1                                         Unnamed: 0  \\\n",
       "1                2  /omics/groups/OE0585/internal/p163v/TCGA_downl...   \n",
       "2                3  /omics/groups/OE0585/internal/p163v/TCGA_downl...   \n",
       "3                4  /omics/groups/OE0585/internal/p163v/TCGA_downl...   \n",
       "26              89  /omics/groups/OE0585/internal/p163v/TCGA_downl...   \n",
       "27              90  /omics/groups/OE0585/internal/p163v/TCGA_downl...   \n",
       "...            ...                                                ...   \n",
       "3069         12247  /omics/groups/OE0585/internal/p163v/TCGA_downl...   \n",
       "3089         12318  /omics/groups/OE0585/internal/p163v/TCGA_downl...   \n",
       "3129         12493  /omics/groups/OE0585/internal/p163v/TCGA_downl...   \n",
       "3141         12531  /omics/groups/OE0585/internal/p163v/TCGA_downl...   \n",
       "3142         12532  /omics/groups/OE0585/internal/p163v/TCGA_downl...   \n",
       "\n",
       "              CT_Status     TCGA_Case  \\\n",
       "1     No Chromothripsis  TCGA-02-0003   \n",
       "2     No Chromothripsis  TCGA-02-0003   \n",
       "3     No Chromothripsis  TCGA-02-0003   \n",
       "26       Chromothripsis  TCGA-06-0129   \n",
       "27       Chromothripsis  TCGA-06-0129   \n",
       "...                 ...           ...   \n",
       "3069     Chromothripsis  TCGA-12-3651   \n",
       "3089  No Chromothripsis  TCGA-02-0054   \n",
       "3129  No Chromothripsis  TCGA-FG-A4MY   \n",
       "3141  No Chromothripsis  TCGA-14-1794   \n",
       "3142  No Chromothripsis  TCGA-14-1794   \n",
       "\n",
       "                                                      0 project     PatientID  \\\n",
       "1     TCGA-02-0003-01Z-00-DX1.6171b175-0972-4e84-999...     GBM  TCGA-02-0003   \n",
       "2     TCGA-02-0003-01Z-00-DX2.c7652d8d-d78f-49ae-825...     GBM  TCGA-02-0003   \n",
       "3     TCGA-02-0003-01Z-00-DX3.995C2924-E298-4517-82A...     GBM  TCGA-02-0003   \n",
       "26    TCGA-06-0129-01Z-00-DX1.b7bddf7d-f39e-45e7-a78...     GBM  TCGA-06-0129   \n",
       "27    TCGA-06-0129-01Z-00-DX2.1ea78b46-1dc7-44d8-81b...     GBM  TCGA-06-0129   \n",
       "...                                                 ...     ...           ...   \n",
       "3069  TCGA-12-3651-01Z-00-DX4.CCABF491-326A-42B1-B10...     GBM  TCGA-12-3651   \n",
       "3089  TCGA-02-0054-01Z-00-DX1.B8AFCEF2-4ED1-4329-854...     GBM  TCGA-02-0054   \n",
       "3129  TCGA-FG-A4MY-01Z-00-DX1.EB81EFA3-9B05-4480-857...     LGG  TCGA-FG-A4MY   \n",
       "3141  TCGA-14-1794-01Z-00-DX1.90a1497f-3308-4c70-afc...     GBM  TCGA-14-1794   \n",
       "3142  TCGA-14-1794-01Z-00-DX2.3e13a3c1-8a7c-4b0a-8a6...     GBM  TCGA-14-1794   \n",
       "\n",
       "                     slide_id  patches  labels  \n",
       "1     TCGA-02-0003-01Z-00-DX1    11146       0  \n",
       "2     TCGA-02-0003-01Z-00-DX2     8501       0  \n",
       "3     TCGA-02-0003-01Z-00-DX3     2998       0  \n",
       "26    TCGA-06-0129-01Z-00-DX1     1291       1  \n",
       "27    TCGA-06-0129-01Z-00-DX2      208       1  \n",
       "...                       ...      ...     ...  \n",
       "3069  TCGA-12-3651-01Z-00-DX4    15064       1  \n",
       "3089  TCGA-02-0054-01Z-00-DX1     4555       0  \n",
       "3129  TCGA-FG-A4MY-01Z-00-DX1     1608       0  \n",
       "3141  TCGA-14-1794-01Z-00-DX1     1877       0  \n",
       "3142  TCGA-14-1794-01Z-00-DX2      766       0  \n",
       "\n",
       "[300 rows x 10 columns]"
      ]
     },
     "execution_count": 11,
     "metadata": {},
     "output_type": "execute_result"
    }
   ],
   "source": [
    "slide_meta[(slide_meta.project==\"LGG\") | (slide_meta.project==\"GBM\")]"
   ]
  },
  {
   "cell_type": "code",
   "execution_count": 12,
   "id": "27345335-4e43-4387-b4e6-8773ab263360",
   "metadata": {},
   "outputs": [],
   "source": [
    "\n",
    "\n",
    "\n",
    "slide_meta = pd.read_csv(\"../metadata/tcga_labeled_data.csv\")\n",
    "\n",
    "# 50 random slides\n",
    "\n",
    "# myx = np.random.choice(np.array(range(len(slide_meta[slide_meta.project==\"GBM\"].slide_id))), 50)\n",
    "myx = range(len(slide_meta[(slide_meta.project==\"LGG\") | (slide_meta.project==\"GBM\")].slide_id))\n",
    "gbm_slides = slide_meta[(slide_meta.project==\"LGG\") | (slide_meta.project==\"GBM\")].slide_id.iloc[myx]\n",
    "\n",
    "test_labels = slide_meta[(slide_meta.project==\"LGG\") | (slide_meta.project==\"GBM\")].labels.iloc[myx]\n",
    "\n",
    "#all_files = [x for x in slide_annots.file if os.path.isfile(path_to_extracted_features + \"/\" + x)]\n",
    "#    all_features = {file: h5py.File(path_to_extracted_features + \"/\" + file, 'r')['feats'][:] for file in all_files}"
   ]
  },
  {
   "cell_type": "code",
   "execution_count": 13,
   "id": "1733c9d6-02cc-46fb-88ca-50bfc0b53eef",
   "metadata": {},
   "outputs": [
    {
     "data": {
      "text/plain": [
       "0.6"
      ]
     },
     "execution_count": 13,
     "metadata": {},
     "output_type": "execute_result"
    }
   ],
   "source": [
    "test_labels.mean()"
   ]
  },
  {
   "cell_type": "code",
   "execution_count": 14,
   "id": "eced778d-e93e-4608-9de0-4636148c6328",
   "metadata": {},
   "outputs": [
    {
     "data": {
      "text/plain": [
       "300"
      ]
     },
     "execution_count": 14,
     "metadata": {},
     "output_type": "execute_result"
    }
   ],
   "source": [
    "test_labels.__len__()"
   ]
  },
  {
   "cell_type": "code",
   "execution_count": 15,
   "id": "de5f7ea8-648a-44dd-b2cf-968f41b47230",
   "metadata": {},
   "outputs": [],
   "source": [
    "\n",
    "# def zarr_loader(path, i, extra_features=None):\n",
    "#     root = zarr.open(path, \"r\")\n",
    "#     x = root['features'][:]\n",
    "#     return x"
   ]
  },
  {
   "cell_type": "code",
   "execution_count": 18,
   "id": "c2e2e311-a879-42bc-9184-88cb5e344ca2",
   "metadata": {},
   "outputs": [
    {
     "data": {
      "text/plain": [
       "1       TCGA-02-0003-01Z-00-DX1\n",
       "2       TCGA-02-0003-01Z-00-DX2\n",
       "3       TCGA-02-0003-01Z-00-DX3\n",
       "26      TCGA-06-0129-01Z-00-DX1\n",
       "27      TCGA-06-0129-01Z-00-DX2\n",
       "                 ...           \n",
       "3069    TCGA-12-3651-01Z-00-DX4\n",
       "3089    TCGA-02-0054-01Z-00-DX1\n",
       "3129    TCGA-FG-A4MY-01Z-00-DX1\n",
       "3141    TCGA-14-1794-01Z-00-DX1\n",
       "3142    TCGA-14-1794-01Z-00-DX2\n",
       "Name: slide_id, Length: 300, dtype: object"
      ]
     },
     "execution_count": 18,
     "metadata": {},
     "output_type": "execute_result"
    }
   ],
   "source": [
    "gbm_slides"
   ]
  },
  {
   "cell_type": "code",
   "execution_count": 19,
   "id": "68421f5d-2c35-4156-bd16-1c28479b457d",
   "metadata": {},
   "outputs": [],
   "source": [
    "test_features = [zarr.open(path_to_extracted_features + \"/\" + file + \"_uni_embedding.zarr\", 'r')['features'][:] for file in gbm_slides]"
   ]
  },
  {
   "cell_type": "markdown",
   "id": "e86e9442-4c59-4408-ba97-a686866791d3",
   "metadata": {},
   "source": [
    "# Loss"
   ]
  },
  {
   "cell_type": "markdown",
   "id": "efd811b6-abd4-45f2-9b0a-f226f45b290d",
   "metadata": {},
   "source": [
    "We use the loss as the early stopping criteria\n"
   ]
  },
  {
   "cell_type": "code",
   "execution_count": 20,
   "id": "4b017628-c5dc-4e09-95e2-6c75694b1ad4",
   "metadata": {},
   "outputs": [],
   "source": [
    "model_list = list()\n",
    "attention_list = list()\n",
    "prob_list = list()\n",
    "pred_list = list()\n",
    "cv =  lambda x: np.std(x) / np.mean(x)"
   ]
  },
  {
   "cell_type": "code",
   "execution_count": 21,
   "id": "6a41ed02-176f-4332-b86a-ff1bb29cd2fa",
   "metadata": {},
   "outputs": [],
   "source": [
    "test_data = RetCCLFeatureLoaderMem(test_features, np.array(test_labels), patches_per_iter='all')\n",
    "\n",
    "RetCCLTest = DataLoader(test_data, batch_size=1, num_workers=1)#, sampler=valid_Sampler)\n"
   ]
  },
  {
   "cell_type": "code",
   "execution_count": 24,
   "id": "f3fc2638-28d6-473b-915c-b43a9dcdc65a",
   "metadata": {
    "tags": []
   },
   "outputs": [],
   "source": [
    "for ii in range(len(runs)):\n",
    "    \n",
    "    arts = runs[ii].logged_artifacts()\n",
    "    arts_dict = {a.name.removesuffix(':'+a.version).split('-')[0]: a for a in arts}\n",
    "    checkpoint_folder_name = arts_dict['model'].name.split('-')[1].removesuffix(':'+arts_dict['model'].version)\n",
    "    args = runs[0].config\n",
    "\n",
    "    model = Attention(1024, lr=args['lr'], weight_decay=args['weight_decay'], hidden_dim=args['hidden_dim'], attention_dim=args['attention_dim'], class_weights=torch.tensor(float(args['class_weights'])))\n",
    "    chkpt_file = glob.glob('lightning_logs/'+checkpoint_folder_name+'/checkpoints/best_loss*')[0]\n",
    "    model = model.load_from_checkpoint(chkpt_file, map_location=torch.device('cpu'))\n",
    "    model.eval()\n",
    "    model_list.append(model)\n",
    "    model_forward = [model.forward(x.to(model.device)) for x,y in iter(RetCCLTest)]\n",
    "    model_attention = [x[2].detach().numpy() for x in model_forward]\n",
    "    model_prob = [x[0].detach().numpy() for x in model_forward]\n",
    "    model_pred = [x[1].detach().numpy() for x in model_forward]\n",
    "\n",
    "    attention_list.append(model_attention)\n",
    "    prob_list.append(model_prob)\n",
    "    pred_list.append(model_pred)\n",
    "    "
   ]
  },
  {
   "cell_type": "code",
   "execution_count": 25,
   "id": "b488eaf9-dc69-4e0f-8412-608def5f1f46",
   "metadata": {},
   "outputs": [],
   "source": [
    "prob_list = [np.concatenate(x) for x in prob_list]\n",
    "pred_list = [np.concatenate(x) for x in pred_list]\n"
   ]
  },
  {
   "cell_type": "code",
   "execution_count": 26,
   "id": "26ea995b-0f57-4dd9-bc51-bc6e7d50ce10",
   "metadata": {},
   "outputs": [],
   "source": [
    "prob_test = np.mean(np.vstack(prob_list), axis=0)"
   ]
  },
  {
   "cell_type": "code",
   "execution_count": 27,
   "id": "1763f304-ee8e-4104-a037-7dd38b9428d5",
   "metadata": {},
   "outputs": [],
   "source": [
    "prob_test = np.mean(np.vstack([sigmoid_array(x) for x in prob_list]), axis=0)\n",
    "\n",
    "\n",
    "\n"
   ]
  },
  {
   "cell_type": "code",
   "execution_count": 29,
   "id": "fb438af6-665f-450d-9942-7079675c58e1",
   "metadata": {},
   "outputs": [
    {
     "ename": "ValueError",
     "evalue": "Found input variables with inconsistent numbers of samples: [300, 5]",
     "output_type": "error",
     "traceback": [
      "\u001b[0;31m---------------------------------------------------------------------------\u001b[0m",
      "\u001b[0;31mValueError\u001b[0m                                Traceback (most recent call last)",
      "Cell \u001b[0;32mIn[29], line 2\u001b[0m\n\u001b[1;32m      1\u001b[0m fig, ax \u001b[38;5;241m=\u001b[39m plt\u001b[38;5;241m.\u001b[39msubplots()\n\u001b[0;32m----> 2\u001b[0m \u001b[43mRocCurveDisplay\u001b[49m\u001b[38;5;241;43m.\u001b[39;49m\u001b[43mfrom_predictions\u001b[49m\u001b[43m(\u001b[49m\n\u001b[1;32m      3\u001b[0m \u001b[43m    \u001b[49m\u001b[43mnp\u001b[49m\u001b[38;5;241;43m.\u001b[39;49m\u001b[43marray\u001b[49m\u001b[43m(\u001b[49m\u001b[43mtest_labels\u001b[49m\u001b[43m)\u001b[49m\u001b[43m,\u001b[49m\n\u001b[1;32m      4\u001b[0m \u001b[43m    \u001b[49m\u001b[43mprob_test\u001b[49m\u001b[43m,\u001b[49m\n\u001b[1;32m      5\u001b[0m \u001b[43m    \u001b[49m\u001b[43mname\u001b[49m\u001b[38;5;241;43m=\u001b[39;49m\u001b[38;5;124;43m\"\u001b[39;49m\u001b[38;5;124;43mCT Prediction Images\u001b[39;49m\u001b[38;5;124;43m\"\u001b[39;49m\u001b[43m,\u001b[49m\n\u001b[1;32m      6\u001b[0m \u001b[43m    \u001b[49m\u001b[43mcolor\u001b[49m\u001b[38;5;241;43m=\u001b[39;49m\u001b[38;5;124;43m\"\u001b[39;49m\u001b[38;5;124;43mdarkorange\u001b[39;49m\u001b[38;5;124;43m\"\u001b[39;49m\u001b[43m,\u001b[49m\n\u001b[1;32m      7\u001b[0m \u001b[43m    \u001b[49m\u001b[43mplot_chance_level\u001b[49m\u001b[38;5;241;43m=\u001b[39;49m\u001b[38;5;28;43;01mTrue\u001b[39;49;00m\u001b[43m,\u001b[49m\n\u001b[1;32m      8\u001b[0m \u001b[43m    \u001b[49m\u001b[43max\u001b[49m\u001b[38;5;241;43m=\u001b[39;49m\u001b[43max\u001b[49m\n\u001b[1;32m      9\u001b[0m \u001b[43m)\u001b[49m\n\u001b[1;32m     10\u001b[0m plt\u001b[38;5;241m.\u001b[39maxis(\u001b[38;5;124m\"\u001b[39m\u001b[38;5;124msquare\u001b[39m\u001b[38;5;124m\"\u001b[39m)\n\u001b[1;32m     11\u001b[0m plt\u001b[38;5;241m.\u001b[39mxlabel(\u001b[38;5;124m\"\u001b[39m\u001b[38;5;124mFalse Positive Rate\u001b[39m\u001b[38;5;124m\"\u001b[39m)\n",
      "File \u001b[0;32m~/mambaforge/envs/marugoto/lib/python3.9/site-packages/sklearn/metrics/_plot/roc_curve.py:386\u001b[0m, in \u001b[0;36mRocCurveDisplay.from_predictions\u001b[0;34m(cls, y_true, y_pred, sample_weight, drop_intermediate, pos_label, name, ax, plot_chance_level, chance_level_kw, **kwargs)\u001b[0m\n\u001b[1;32m    291\u001b[0m \u001b[38;5;129m@classmethod\u001b[39m\n\u001b[1;32m    292\u001b[0m \u001b[38;5;28;01mdef\u001b[39;00m \u001b[38;5;21mfrom_predictions\u001b[39m(\n\u001b[1;32m    293\u001b[0m     \u001b[38;5;28mcls\u001b[39m,\n\u001b[0;32m   (...)\u001b[0m\n\u001b[1;32m    304\u001b[0m     \u001b[38;5;241m*\u001b[39m\u001b[38;5;241m*\u001b[39mkwargs,\n\u001b[1;32m    305\u001b[0m ):\n\u001b[1;32m    306\u001b[0m \u001b[38;5;250m    \u001b[39m\u001b[38;5;124;03m\"\"\"Plot ROC curve given the true and predicted values.\u001b[39;00m\n\u001b[1;32m    307\u001b[0m \n\u001b[1;32m    308\u001b[0m \u001b[38;5;124;03m    Read more in the :ref:`User Guide <visualizations>`.\u001b[39;00m\n\u001b[0;32m   (...)\u001b[0m\n\u001b[1;32m    384\u001b[0m \u001b[38;5;124;03m    >>> plt.show()\u001b[39;00m\n\u001b[1;32m    385\u001b[0m \u001b[38;5;124;03m    \"\"\"\u001b[39;00m\n\u001b[0;32m--> 386\u001b[0m     pos_label_validated, name \u001b[38;5;241m=\u001b[39m \u001b[38;5;28;43mcls\u001b[39;49m\u001b[38;5;241;43m.\u001b[39;49m\u001b[43m_validate_from_predictions_params\u001b[49m\u001b[43m(\u001b[49m\n\u001b[1;32m    387\u001b[0m \u001b[43m        \u001b[49m\u001b[43my_true\u001b[49m\u001b[43m,\u001b[49m\u001b[43m \u001b[49m\u001b[43my_pred\u001b[49m\u001b[43m,\u001b[49m\u001b[43m \u001b[49m\u001b[43msample_weight\u001b[49m\u001b[38;5;241;43m=\u001b[39;49m\u001b[43msample_weight\u001b[49m\u001b[43m,\u001b[49m\u001b[43m \u001b[49m\u001b[43mpos_label\u001b[49m\u001b[38;5;241;43m=\u001b[39;49m\u001b[43mpos_label\u001b[49m\u001b[43m,\u001b[49m\u001b[43m \u001b[49m\u001b[43mname\u001b[49m\u001b[38;5;241;43m=\u001b[39;49m\u001b[43mname\u001b[49m\n\u001b[1;32m    388\u001b[0m \u001b[43m    \u001b[49m\u001b[43m)\u001b[49m\n\u001b[1;32m    390\u001b[0m     fpr, tpr, _ \u001b[38;5;241m=\u001b[39m roc_curve(\n\u001b[1;32m    391\u001b[0m         y_true,\n\u001b[1;32m    392\u001b[0m         y_pred,\n\u001b[0;32m   (...)\u001b[0m\n\u001b[1;32m    395\u001b[0m         drop_intermediate\u001b[38;5;241m=\u001b[39mdrop_intermediate,\n\u001b[1;32m    396\u001b[0m     )\n\u001b[1;32m    397\u001b[0m     roc_auc \u001b[38;5;241m=\u001b[39m auc(fpr, tpr)\n",
      "File \u001b[0;32m~/mambaforge/envs/marugoto/lib/python3.9/site-packages/sklearn/utils/_plotting.py:55\u001b[0m, in \u001b[0;36m_BinaryClassifierCurveDisplayMixin._validate_from_predictions_params\u001b[0;34m(cls, y_true, y_pred, sample_weight, pos_label, name)\u001b[0m\n\u001b[1;32m     49\u001b[0m \u001b[38;5;28;01mif\u001b[39;00m type_of_target(y_true) \u001b[38;5;241m!=\u001b[39m \u001b[38;5;124m\"\u001b[39m\u001b[38;5;124mbinary\u001b[39m\u001b[38;5;124m\"\u001b[39m:\n\u001b[1;32m     50\u001b[0m     \u001b[38;5;28;01mraise\u001b[39;00m \u001b[38;5;167;01mValueError\u001b[39;00m(\n\u001b[1;32m     51\u001b[0m         \u001b[38;5;124mf\u001b[39m\u001b[38;5;124m\"\u001b[39m\u001b[38;5;124mThe target y is not binary. Got \u001b[39m\u001b[38;5;132;01m{\u001b[39;00mtype_of_target(y_true)\u001b[38;5;132;01m}\u001b[39;00m\u001b[38;5;124m type of\u001b[39m\u001b[38;5;124m\"\u001b[39m\n\u001b[1;32m     52\u001b[0m         \u001b[38;5;124m\"\u001b[39m\u001b[38;5;124m target.\u001b[39m\u001b[38;5;124m\"\u001b[39m\n\u001b[1;32m     53\u001b[0m     )\n\u001b[0;32m---> 55\u001b[0m \u001b[43mcheck_consistent_length\u001b[49m\u001b[43m(\u001b[49m\u001b[43my_true\u001b[49m\u001b[43m,\u001b[49m\u001b[43m \u001b[49m\u001b[43my_pred\u001b[49m\u001b[43m,\u001b[49m\u001b[43m \u001b[49m\u001b[43msample_weight\u001b[49m\u001b[43m)\u001b[49m\n\u001b[1;32m     56\u001b[0m pos_label \u001b[38;5;241m=\u001b[39m _check_pos_label_consistency(pos_label, y_true)\n\u001b[1;32m     58\u001b[0m name \u001b[38;5;241m=\u001b[39m name \u001b[38;5;28;01mif\u001b[39;00m name \u001b[38;5;129;01mis\u001b[39;00m \u001b[38;5;129;01mnot\u001b[39;00m \u001b[38;5;28;01mNone\u001b[39;00m \u001b[38;5;28;01melse\u001b[39;00m \u001b[38;5;124m\"\u001b[39m\u001b[38;5;124mClassifier\u001b[39m\u001b[38;5;124m\"\u001b[39m\n",
      "File \u001b[0;32m~/mambaforge/envs/marugoto/lib/python3.9/site-packages/sklearn/utils/validation.py:409\u001b[0m, in \u001b[0;36mcheck_consistent_length\u001b[0;34m(*arrays)\u001b[0m\n\u001b[1;32m    407\u001b[0m uniques \u001b[38;5;241m=\u001b[39m np\u001b[38;5;241m.\u001b[39munique(lengths)\n\u001b[1;32m    408\u001b[0m \u001b[38;5;28;01mif\u001b[39;00m \u001b[38;5;28mlen\u001b[39m(uniques) \u001b[38;5;241m>\u001b[39m \u001b[38;5;241m1\u001b[39m:\n\u001b[0;32m--> 409\u001b[0m     \u001b[38;5;28;01mraise\u001b[39;00m \u001b[38;5;167;01mValueError\u001b[39;00m(\n\u001b[1;32m    410\u001b[0m         \u001b[38;5;124m\"\u001b[39m\u001b[38;5;124mFound input variables with inconsistent numbers of samples: \u001b[39m\u001b[38;5;132;01m%r\u001b[39;00m\u001b[38;5;124m\"\u001b[39m\n\u001b[1;32m    411\u001b[0m         \u001b[38;5;241m%\u001b[39m [\u001b[38;5;28mint\u001b[39m(l) \u001b[38;5;28;01mfor\u001b[39;00m l \u001b[38;5;129;01min\u001b[39;00m lengths]\n\u001b[1;32m    412\u001b[0m     )\n",
      "\u001b[0;31mValueError\u001b[0m: Found input variables with inconsistent numbers of samples: [300, 5]"
     ]
    },
    {
     "data": {
      "image/png": "[encoded data removed]",
      "text/plain": [
       "<Figure size 640x480 with 1 Axes>"
      ]
     },
     "metadata": {},
     "output_type": "display_data"
    }
   ],
   "source": [
    "\n",
    "\n",
    "fig, ax = plt.subplots()\n",
    "RocCurveDisplay.from_predictions(\n",
    "    np.array(test_labels),\n",
    "    prob_test,\n",
    "    name=\"CT Prediction Images\",\n",
    "    color=\"darkorange\",\n",
    "    plot_chance_level=True,\n",
    "    ax=ax\n",
    ")\n",
    "plt.axis(\"square\")\n",
    "plt.xlabel(\"False Positive Rate\")\n",
    "plt.ylabel(\"True Positive Rate\")\n",
    "plt.title(\"\")\n",
    "plt.legend()\n",
    "plt.savefig(\"/home/p163v/histopathology/Notebooks/GBM_Validation_ROC_UNI.png\")\n",
    "plt.show()\n"
   ]
  },
  {
   "cell_type": "code",
   "execution_count": null,
   "id": "8c085cec-69fb-4f78-aee8-64421f942707",
   "metadata": {},
   "outputs": [],
   "source": [
    "fig, ax = plt.subplots()\n",
    "PrecisionRecallDisplay.from_predictions(\n",
    "    np.array(test_labels),\n",
    "    prob_test,\n",
    "    name=\"CT Prediction Images\",\n",
    "    color=\"darkorange\",\n",
    "    plot_chance_level=True,\n",
    "    ax=ax\n",
    ")\n",
    "plt.axis(\"square\")\n",
    "plt.xlabel(\"False Positive Rate\")\n",
    "plt.ylabel(\"True Positive Rate\")\n",
    "plt.title(\"\")\n",
    "plt.legend()\n",
    "plt.savefig(\"/home/p163v/histopathology/Notebooks/GBM_Validation_AUPR_UNI.png\")\n",
    "plt.show()"
   ]
  }
 ],
 "metadata": {
  "kernelspec": {
   "display_name": "marugoto",
   "language": "python",
   "name": "marugoto"
  },
  "language_info": {
   "codemirror_mode": {
    "name": "ipython",
    "version": 3
   },
   "file_extension": ".py",
   "mimetype": "text/x-python",
   "name": "python",
   "nbconvert_exporter": "python",
   "pygments_lexer": "ipython3",
   "version": "3.9.16"
  }
 },
 "nbformat": 4,
 "nbformat_minor": 5
}
