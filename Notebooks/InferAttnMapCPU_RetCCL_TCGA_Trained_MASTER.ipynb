{
 "cells": [
  {
   "cell_type": "code",
   "execution_count": 1,
   "id": "59266045-c6f9-446f-881a-6f2312c8b2a9",
   "metadata": {},
   "outputs": [],
   "source": [
    "import numpy as np\n",
    "import pandas as pd\n",
    "import os\n",
    "import glob\n",
    "import h5py\n",
    "import wandb\n",
    "\n",
    "import string\n",
    "import random\n",
    "\n",
    "import torch \n",
    "from torch.utils.data import Dataset, DataLoader\n",
    "import torch.nn as nn\n",
    "import torch.nn.functional as F\n",
    "\n",
    "import lightning as L\n",
    "from lightning.pytorch.loggers import WandbLogger\n",
    "from lightning.pytorch.callbacks import ModelCheckpoint\n",
    "\n",
    "\n",
    "from torch import optim, utils, Tensor\n",
    "\n",
    "import matplotlib.pyplot as plt\n",
    "from sklearn.metrics import RocCurveDisplay, PrecisionRecallDisplay\n",
    "import sklearn.linear_model\n",
    "\n",
    "\n",
    "from itables import show\n",
    "from src.model.SimpleMILModels import Attention, MaxMIL, AttentionResNet\n",
    "from src.dataloaders.DataLoaders import RetCCLFeatureLoader, RetCCLFeatureLoaderMem\n",
    "\n",
    "\n",
    "import zarr\n",
    "import seaborn as sns\n",
    "\n",
    "recompute_attn = False"
   ]
  },
  {
   "cell_type": "code",
   "execution_count": 2,
   "id": "451747b6-8b79-4507-bc0e-dc686d1a504c",
   "metadata": {},
   "outputs": [],
   "source": [
    "def sigmoid_array(x):\n",
    "    return 1 / (1 + np.exp(-x))"
   ]
  },
  {
   "cell_type": "code",
   "execution_count": null,
   "id": "45f8d459",
   "metadata": {},
   "outputs": [],
   "source": []
  },
  {
   "cell_type": "code",
   "execution_count": 3,
   "id": "686eaf7a-756c-4295-bc0b-b5c017bd0a8c",
   "metadata": {},
   "outputs": [],
   "source": [
    "\n",
    "\n",
    "import os\n",
    "os.environ['HTTP_PROXY']=\"http://www-int.dkfz-heidelberg.de:80\"\n",
    "os.environ['HTTPS_PROXY']=\"http://www-int.dkfz-heidelberg.de:80\"\n"
   ]
  },
  {
   "cell_type": "code",
   "execution_count": 4,
   "id": "78da8760-889c-4579-91af-d871c3921745",
   "metadata": {},
   "outputs": [],
   "source": [
    "group = \"4ZFF4Q\""
   ]
  },
  {
   "cell_type": "code",
   "execution_count": 5,
   "id": "79e534dd-6813-4613-932c-e91515e8dc81",
   "metadata": {},
   "outputs": [],
   "source": [
    "\n",
    "api = wandb.Api()\n"
   ]
  },
  {
   "cell_type": "code",
   "execution_count": 6,
   "id": "793d221d-8f81-46aa-80c1-af0e41b9f4f8",
   "metadata": {},
   "outputs": [],
   "source": [
    "runs = api.runs(path=\"psmirnov/TCGA_RetCLL_299_CT\", filters={\"group\": group})"
   ]
  },
  {
   "cell_type": "code",
   "execution_count": 7,
   "id": "7e4e6452",
   "metadata": {},
   "outputs": [
    {
     "data": {
      "text/plain": [
       "<Runs psmirnov/TCGA_RetCLL_299_CT>"
      ]
     },
     "execution_count": 7,
     "metadata": {},
     "output_type": "execute_result"
    }
   ],
   "source": [
    "runs"
   ]
  },
  {
   "cell_type": "markdown",
   "id": "fc2c9b30-0872-4260-9f2b-7a24ff457977",
   "metadata": {},
   "source": [
    "Load in the features (not too much memory needed)"
   ]
  },
  {
   "cell_type": "code",
   "execution_count": 8,
   "id": "25423f2c-c8c1-4a98-9b94-27a2c8b8f125",
   "metadata": {},
   "outputs": [],
   "source": [
    "path_to_extracted_features = '/home/p163v/histopathology/MASTER/UKHD_1/299/'"
   ]
  },
  {
   "cell_type": "code",
   "execution_count": 9,
   "id": "27345335-4e43-4387-b4e6-8773ab263360",
   "metadata": {},
   "outputs": [],
   "source": [
    "\n",
    "slides_to_infer = ['30435-19_L2-1','30435-19_L2-2']"
   ]
  },
  {
   "cell_type": "code",
   "execution_count": 11,
   "id": "68421f5d-2c35-4156-bd16-1c28479b457d",
   "metadata": {},
   "outputs": [],
   "source": [
    "test_features = [h5py.File(path_to_extracted_features + \"/\" + file + \".h5\", 'r')['feats'][:] for file in slides_to_infer]"
   ]
  },
  {
   "cell_type": "markdown",
   "id": "e86e9442-4c59-4408-ba97-a686866791d3",
   "metadata": {},
   "source": [
    "# Loss"
   ]
  },
  {
   "cell_type": "markdown",
   "id": "efd811b6-abd4-45f2-9b0a-f226f45b290d",
   "metadata": {},
   "source": [
    "We use the loss as the early stopping criteria\n"
   ]
  },
  {
   "cell_type": "code",
   "execution_count": 12,
   "id": "4b017628-c5dc-4e09-95e2-6c75694b1ad4",
   "metadata": {},
   "outputs": [],
   "source": [
    "model_list = list()\n",
    "attention_list = list()\n",
    "cv =  lambda x: np.std(x) / np.mean(x)"
   ]
  },
  {
   "cell_type": "code",
   "execution_count": 13,
   "id": "6a41ed02-176f-4332-b86a-ff1bb29cd2fa",
   "metadata": {},
   "outputs": [],
   "source": [
    "test_data = RetCCLFeatureLoaderMem(test_features, np.array([0,0]), patches_per_iter='all')\n",
    "\n",
    "RetCCLTest = DataLoader(test_data, batch_size=1, num_workers=1)#, sampler=valid_Sampler)\n"
   ]
  },
  {
   "cell_type": "code",
   "execution_count": 14,
   "id": "a5933a66",
   "metadata": {},
   "outputs": [
    {
     "data": {
      "text/plain": [
       "5"
      ]
     },
     "execution_count": 14,
     "metadata": {},
     "output_type": "execute_result"
    }
   ],
   "source": [
    "len(runs)"
   ]
  },
  {
   "cell_type": "code",
   "execution_count": 15,
   "id": "f3fc2638-28d6-473b-915c-b43a9dcdc65a",
   "metadata": {
    "tags": []
   },
   "outputs": [
    {
     "name": "stderr",
     "output_type": "stream",
     "text": [
      "/tmp/ipykernel_53888/764009344.py:13: UserWarning: To copy construct from a tensor, it is recommended to use sourceTensor.clone().detach() or sourceTensor.clone().detach().requires_grad_(True), rather than torch.tensor(sourceTensor).\n",
      "  model_attention = [model.attention_forward(torch.tensor(x).to(model.device)).detach().cpu().numpy() for x,y in iter(RetCCLTest)]\n"
     ]
    }
   ],
   "source": [
    "for ii in range(len(runs)):\n",
    "    \n",
    "    arts = runs[ii].logged_artifacts()\n",
    "    arts_dict = {a.name.removesuffix(':'+a.version).split('-')[0]: a for a in arts}\n",
    "    checkpoint_folder_name = arts_dict['model'].name.split('-')[1].removesuffix(':'+arts_dict['model'].version)\n",
    "    args = runs[0].config\n",
    "\n",
    "    model = Attention(2048, lr=args['lr'], weight_decay=args['weight_decay'], hidden_dim=args['hidden_dim'], attention_dim=args['attention_dim'], class_weights=torch.tensor(float(args['class_weights'])))\n",
    "    chkpt_file = glob.glob('lightning_logs/'+checkpoint_folder_name+'/checkpoints/best_loss*')[0]\n",
    "    model = model.load_from_checkpoint(chkpt_file, map_location=torch.device('cpu'))\n",
    "    model.eval()\n",
    "    model_list.append(model)\n",
    "    model_attention = [model.attention_forward(torch.tensor(x).to(model.device)).detach().cpu().numpy() for x,y in iter(RetCCLTest)]\n",
    "\n",
    "    attention_list.append(model_attention)\n",
    "    "
   ]
  },
  {
   "cell_type": "code",
   "execution_count": 16,
   "id": "8ce444f5",
   "metadata": {},
   "outputs": [
    {
     "data": {
      "text/plain": [
       "5"
      ]
     },
     "execution_count": 16,
     "metadata": {},
     "output_type": "execute_result"
    }
   ],
   "source": [
    "len(attention_list)"
   ]
  },
  {
   "cell_type": "code",
   "execution_count": 17,
   "id": "f9f4a901",
   "metadata": {},
   "outputs": [],
   "source": [
    "attention_combined = [np.hstack(x) for x in zip(*attention_list)]\n"
   ]
  },
  {
   "cell_type": "code",
   "execution_count": 18,
   "id": "f02a4cef",
   "metadata": {},
   "outputs": [
    {
     "data": {
      "text/plain": [
       "(1, 14948)"
      ]
     },
     "execution_count": 18,
     "metadata": {},
     "output_type": "execute_result"
    }
   ],
   "source": [
    "np.mean(attention_combined[0], axis=1).shape\n",
    "\n"
   ]
  },
  {
   "cell_type": "code",
   "execution_count": 19,
   "id": "b488eaf9-dc69-4e0f-8412-608def5f1f46",
   "metadata": {},
   "outputs": [
    {
     "name": "stdout",
     "output_type": "stream",
     "text": [
      "Writing Attention Map 30435-19_L2-1\n",
      "Writing Attention Map 30435-19_L2-2\n"
     ]
    }
   ],
   "source": [
    "for jj in range(len(np.array(slides_to_infer))):\n",
    "        slidename = slides_to_infer[jj]\n",
    "        print('Writing Attention Map ' + slidename)\n",
    "        coords = h5py.File(path_to_extracted_features + \"/\" + slidename + \".h5\", 'r')['coords'][:]\n",
    "        outarray_root = zarr.open(\"/home/p163v/histopathology/attention_maps/MASTER/\"+ group + \"/\"+ slidename + \"_per_tile_attention.zarr\", mode='w') \n",
    "        outarray_root['coords'] = coords\n",
    "        outarray_root['attn'] = np.mean(attention_combined[jj], axis=1)[:].reshape(-1)\n"
   ]
  },
  {
   "cell_type": "code",
   "execution_count": 42,
   "id": "221b1ee5-bf86-467d-bdf7-140a52ca0b1d",
   "metadata": {},
   "outputs": [],
   "source": [
    "\n"
   ]
  },
  {
   "cell_type": "code",
   "execution_count": null,
   "id": "0d2b7b6a-5e0f-40af-98bb-3954b2f045cf",
   "metadata": {},
   "outputs": [],
   "source": []
  }
 ],
 "metadata": {
  "kernelspec": {
   "display_name": "Python 3",
   "language": "python",
   "name": "python3"
  },
  "language_info": {
   "codemirror_mode": {
    "name": "ipython",
    "version": 3
   },
   "file_extension": ".py",
   "mimetype": "text/x-python",
   "name": "python",
   "nbconvert_exporter": "python",
   "pygments_lexer": "ipython3",
   "version": "3.9.16"
  }
 },
 "nbformat": 4,
 "nbformat_minor": 5
}
