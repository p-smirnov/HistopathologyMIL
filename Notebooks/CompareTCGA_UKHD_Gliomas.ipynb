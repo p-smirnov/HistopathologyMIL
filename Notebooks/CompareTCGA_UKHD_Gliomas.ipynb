{
 "cells": [
  {
   "cell_type": "code",
   "execution_count": 1,
   "id": "59266045-c6f9-446f-881a-6f2312c8b2a9",
   "metadata": {},
   "outputs": [],
   "source": [
    "import numpy as np\n",
    "import pandas as pd\n",
    "import os\n",
    "import glob\n",
    "import h5py\n",
    "import wandb\n",
    "\n",
    "import string\n",
    "import random\n",
    "\n",
    "import torch \n",
    "from torch.utils.data import Dataset, DataLoader\n",
    "import torch.nn as nn\n",
    "import torch.nn.functional as F\n",
    "\n",
    "import lightning as L\n",
    "from lightning.pytorch.loggers import WandbLogger\n",
    "from lightning.pytorch.callbacks import ModelCheckpoint\n",
    "\n",
    "\n",
    "from torch import optim, utils, Tensor\n",
    "\n",
    "import matplotlib.pyplot as plt\n",
    "from sklearn.metrics import RocCurveDisplay, PrecisionRecallDisplay\n",
    "import sklearn.linear_model\n",
    "\n",
    "\n",
    "from itables import show\n",
    "from src.model.SimpleMILModels import Attention, MaxMIL, AttentionResNet\n",
    "from src.dataloaders.DataLoaders import RetCCLFeatureLoader, RetCCLFeatureLoaderMem\n",
    "\n",
    "\n",
    "import zarr\n",
    "import seaborn as sns\n",
    "\n",
    "recompute_attn = False"
   ]
  },
  {
   "cell_type": "code",
   "execution_count": 2,
   "id": "451747b6-8b79-4507-bc0e-dc686d1a504c",
   "metadata": {},
   "outputs": [],
   "source": [
    "def sigmoid_array(x):\n",
    "    return 1 / (1 + np.exp(-x))"
   ]
  },
  {
   "cell_type": "code",
   "execution_count": 3,
   "id": "686eaf7a-756c-4295-bc0b-b5c017bd0a8c",
   "metadata": {},
   "outputs": [],
   "source": [
    "\n",
    "\n",
    "import os\n",
    "os.environ['HTTP_PROXY']=\"http://www-int.dkfz-heidelberg.de:80\"\n",
    "os.environ['HTTPS_PROXY']=\"http://www-int.dkfz-heidelberg.de:80\"\n"
   ]
  },
  {
   "cell_type": "code",
   "execution_count": 4,
   "id": "78da8760-889c-4579-91af-d871c3921745",
   "metadata": {},
   "outputs": [],
   "source": [
    "group = \"BGUAJ0\""
   ]
  },
  {
   "cell_type": "code",
   "execution_count": 5,
   "id": "79e534dd-6813-4613-932c-e91515e8dc81",
   "metadata": {},
   "outputs": [],
   "source": [
    "\n",
    "api = wandb.Api()\n"
   ]
  },
  {
   "cell_type": "code",
   "execution_count": 6,
   "id": "793d221d-8f81-46aa-80c1-af0e41b9f4f8",
   "metadata": {},
   "outputs": [],
   "source": [
    "runs = api.runs(path=\"psmirnov/UKHD_RetCLL_299_CT\", filters={\"group\": group})"
   ]
  },
  {
   "cell_type": "markdown",
   "id": "27046f35-901e-4b87-8ede-84618229ec3c",
   "metadata": {},
   "source": [
    "# TCGA"
   ]
  },
  {
   "cell_type": "markdown",
   "id": "fc2c9b30-0872-4260-9f2b-7a24ff457977",
   "metadata": {},
   "source": [
    "Load in the tcga features for 50 random slides (not too much memory needed)."
   ]
  },
  {
   "cell_type": "code",
   "execution_count": 7,
   "id": "25423f2c-c8c1-4a98-9b94-27a2c8b8f125",
   "metadata": {},
   "outputs": [],
   "source": [
    "path_to_extracted_features = '/home/p163v/histopathology/TCGA/ffpe/299/'"
   ]
  },
  {
   "cell_type": "code",
   "execution_count": 8,
   "id": "27345335-4e43-4387-b4e6-8773ab263360",
   "metadata": {},
   "outputs": [],
   "source": [
    "\n",
    "\n",
    "\n",
    "slide_meta_tcga = pd.read_csv(\"../metadata/tcga_labeled_data.csv\")\n",
    "\n",
    "# 50 random slides\n",
    "\n",
    "myx = np.random.choice(np.array(range(len(slide_meta_tcga[slide_meta_tcga.project==\"GBM\"].slide_id))), 50)\n",
    "\n",
    "gbm_slides = slide_meta_tcga[slide_meta_tcga.project==\"GBM\"].slide_id.iloc[myx]\n",
    "\n",
    "test_labels = slide_meta_tcga[slide_meta_tcga.project==\"GBM\"].labels.iloc[myx]\n",
    "\n",
    "#all_files = [x for x in slide_annots.file if os.path.isfile(path_to_extracted_features + \"/\" + x)]\n",
    "#    all_features = {file: h5py.File(path_to_extracted_features + \"/\" + file, 'r')['feats'][:] for file in all_files}"
   ]
  },
  {
   "cell_type": "code",
   "execution_count": 9,
   "id": "1733c9d6-02cc-46fb-88ca-50bfc0b53eef",
   "metadata": {},
   "outputs": [
    {
     "data": {
      "text/plain": [
       "0.68"
      ]
     },
     "execution_count": 9,
     "metadata": {},
     "output_type": "execute_result"
    }
   ],
   "source": [
    "test_labels.mean()"
   ]
  },
  {
   "cell_type": "code",
   "execution_count": 10,
   "id": "68421f5d-2c35-4156-bd16-1c28479b457d",
   "metadata": {},
   "outputs": [],
   "source": [
    "test_features_tcga = [h5py.File(path_to_extracted_features + \"/\" + file + \".h5\", 'r')['feats'][:] for file in gbm_slides]"
   ]
  },
  {
   "cell_type": "markdown",
   "id": "efd811b6-abd4-45f2-9b0a-f226f45b290d",
   "metadata": {},
   "source": [
    "We use the loss as the early stopping criteria\n"
   ]
  },
  {
   "cell_type": "code",
   "execution_count": 11,
   "id": "4b017628-c5dc-4e09-95e2-6c75694b1ad4",
   "metadata": {},
   "outputs": [],
   "source": [
    "model_list = list()\n",
    "attention_list = list()\n",
    "prob_list = list()\n",
    "pred_list = list()\n",
    "cv =  lambda x: np.std(x) / np.mean(x)"
   ]
  },
  {
   "cell_type": "code",
   "execution_count": 12,
   "id": "6a41ed02-176f-4332-b86a-ff1bb29cd2fa",
   "metadata": {},
   "outputs": [
    {
     "ename": "NameError",
     "evalue": "name 'test_features' is not defined",
     "output_type": "error",
     "traceback": [
      "\u001b[0;31m---------------------------------------------------------------------------\u001b[0m",
      "\u001b[0;31mNameError\u001b[0m                                 Traceback (most recent call last)",
      "Cell \u001b[0;32mIn[12], line 1\u001b[0m\n\u001b[0;32m----> 1\u001b[0m test_data \u001b[38;5;241m=\u001b[39m RetCCLFeatureLoaderMem(\u001b[43mtest_features\u001b[49m, np\u001b[38;5;241m.\u001b[39marray(test_labels), patches_per_iter\u001b[38;5;241m=\u001b[39m\u001b[38;5;124m'\u001b[39m\u001b[38;5;124mall\u001b[39m\u001b[38;5;124m'\u001b[39m)\n\u001b[1;32m      3\u001b[0m RetCCLTest \u001b[38;5;241m=\u001b[39m DataLoader(test_data, batch_size\u001b[38;5;241m=\u001b[39m\u001b[38;5;241m1\u001b[39m, num_workers\u001b[38;5;241m=\u001b[39m\u001b[38;5;241m1\u001b[39m)\u001b[38;5;66;03m#, sampler=valid_Sampler)\u001b[39;00m\n",
      "\u001b[0;31mNameError\u001b[0m: name 'test_features' is not defined"
     ]
    }
   ],
   "source": [
    "test_data = RetCCLFeatureLoaderMem(test_features, np.array(test_labels), patches_per_iter='all')\n",
    "\n",
    "RetCCLTest = DataLoader(test_data, batch_size=1, num_workers=1)#, sampler=valid_Sampler)\n"
   ]
  },
  {
   "cell_type": "code",
   "execution_count": null,
   "id": "f3fc2638-28d6-473b-915c-b43a9dcdc65a",
   "metadata": {
    "tags": []
   },
   "outputs": [],
   "source": [
    "for ii in range(len(runs)):\n",
    "    \n",
    "    arts = runs[ii].logged_artifacts()\n",
    "    arts_dict = {a.name.removesuffix(':'+a.version).split('-')[0]: a for a in arts}\n",
    "    checkpoint_folder_name = arts_dict['model'].name.split('-')[1].removesuffix(':'+arts_dict['model'].version)\n",
    "    args = runs[0].config\n",
    "\n",
    "    model = Attention(2048, lr=args['lr'], weight_decay=args['weight_decay'], hidden_dim=args['hidden_dim'], attention_dim=args['attention_dim'], class_weights=torch.tensor(float(args['class_weights'])))\n",
    "    chkpt_file = glob.glob('lightning_logs/'+checkpoint_folder_name+'/checkpoints/best_loss*')[0]\n",
    "    model = model.load_from_checkpoint(chkpt_file, map_location=torch.device('cpu'))\n",
    "    model.eval()\n",
    "    model_list.append(model)\n",
    "    model_forward = [model.forward(torch.tensor(x).to(model.device)) for x,y in iter(RetCCLTest)]\n",
    "    model_attention = [x[2].detach().numpy() for x in model_forward]\n",
    "    model_prob = [x[0].detach().numpy() for x in model_forward]\n",
    "    model_pred = [x[1].detach().numpy() for x in model_forward]\n",
    "\n",
    "    attention_list.append(model_attention)\n",
    "    prob_list.append(model_prob)\n",
    "    pred_list.append(model_pred)\n",
    "    "
   ]
  },
  {
   "cell_type": "code",
   "execution_count": 60,
   "id": "b488eaf9-dc69-4e0f-8412-608def5f1f46",
   "metadata": {},
   "outputs": [],
   "source": [
    "prob_list = [np.concatenate(x) for x in prob_list]\n",
    "pred_list = [np.concatenate(x) for x in pred_list]\n"
   ]
  },
  {
   "cell_type": "code",
   "execution_count": 69,
   "id": "26ea995b-0f57-4dd9-bc51-bc6e7d50ce10",
   "metadata": {},
   "outputs": [],
   "source": [
    "prob_test = np.mean(np.vstack(prob_list), axis=0)"
   ]
  },
  {
   "cell_type": "code",
   "execution_count": 72,
   "id": "1763f304-ee8e-4104-a037-7dd38b9428d5",
   "metadata": {},
   "outputs": [
    {
     "data": {
      "text/plain": [
       "(49,)"
      ]
     },
     "execution_count": 72,
     "metadata": {},
     "output_type": "execute_result"
    }
   ],
   "source": [
    "prob_test.shape"
   ]
  },
  {
   "cell_type": "code",
   "execution_count": 73,
   "id": "d50e3302-3c2b-4bc1-a1df-34ea081d9381",
   "metadata": {},
   "outputs": [
    {
     "data": {
      "text/plain": [
       "(50,)"
      ]
     },
     "execution_count": 73,
     "metadata": {},
     "output_type": "execute_result"
    }
   ],
   "source": [
    "np.array(test_labels).shape"
   ]
  },
  {
   "cell_type": "code",
   "execution_count": 71,
   "id": "fb438af6-665f-450d-9942-7079675c58e1",
   "metadata": {},
   "outputs": [
    {
     "ename": "ValueError",
     "evalue": "Found input variables with inconsistent numbers of samples: [50, 49]",
     "output_type": "error",
     "traceback": [
      "\u001b[0;31m---------------------------------------------------------------------------\u001b[0m",
      "\u001b[0;31mValueError\u001b[0m                                Traceback (most recent call last)",
      "Cell \u001b[0;32mIn[71], line 2\u001b[0m\n\u001b[1;32m      1\u001b[0m fig, ax \u001b[38;5;241m=\u001b[39m plt\u001b[38;5;241m.\u001b[39msubplots()\n\u001b[0;32m----> 2\u001b[0m \u001b[43mRocCurveDisplay\u001b[49m\u001b[38;5;241;43m.\u001b[39;49m\u001b[43mfrom_predictions\u001b[49m\u001b[43m(\u001b[49m\n\u001b[1;32m      3\u001b[0m \u001b[43m    \u001b[49m\u001b[43mnp\u001b[49m\u001b[38;5;241;43m.\u001b[39;49m\u001b[43marray\u001b[49m\u001b[43m(\u001b[49m\u001b[43mtest_labels\u001b[49m\u001b[43m)\u001b[49m\u001b[43m,\u001b[49m\n\u001b[1;32m      4\u001b[0m \u001b[43m    \u001b[49m\u001b[43mnp\u001b[49m\u001b[38;5;241;43m.\u001b[39;49m\u001b[43mmean\u001b[49m\u001b[43m(\u001b[49m\u001b[43mnp\u001b[49m\u001b[38;5;241;43m.\u001b[39;49m\u001b[43mvstack\u001b[49m\u001b[43m(\u001b[49m\u001b[43mprob_list\u001b[49m\u001b[43m)\u001b[49m\u001b[43m,\u001b[49m\u001b[43m \u001b[49m\u001b[43maxis\u001b[49m\u001b[38;5;241;43m=\u001b[39;49m\u001b[38;5;241;43m0\u001b[39;49m\u001b[43m)\u001b[49m\u001b[43m,\u001b[49m\n\u001b[1;32m      5\u001b[0m \u001b[43m    \u001b[49m\u001b[43mname\u001b[49m\u001b[38;5;241;43m=\u001b[39;49m\u001b[38;5;124;43m\"\u001b[39;49m\u001b[38;5;124;43mCT Prediction Images\u001b[39;49m\u001b[38;5;124;43m\"\u001b[39;49m\u001b[43m,\u001b[49m\n\u001b[1;32m      6\u001b[0m \u001b[43m    \u001b[49m\u001b[43mcolor\u001b[49m\u001b[38;5;241;43m=\u001b[39;49m\u001b[38;5;124;43m\"\u001b[39;49m\u001b[38;5;124;43mdarkorange\u001b[39;49m\u001b[38;5;124;43m\"\u001b[39;49m\u001b[43m,\u001b[49m\n\u001b[1;32m      7\u001b[0m \u001b[43m    \u001b[49m\u001b[43mplot_chance_level\u001b[49m\u001b[38;5;241;43m=\u001b[39;49m\u001b[38;5;28;43;01mTrue\u001b[39;49;00m\u001b[43m,\u001b[49m\n\u001b[1;32m      8\u001b[0m \u001b[43m    \u001b[49m\u001b[43max\u001b[49m\u001b[38;5;241;43m=\u001b[39;49m\u001b[43max\u001b[49m\n\u001b[1;32m      9\u001b[0m \u001b[43m)\u001b[49m\n\u001b[1;32m     10\u001b[0m plt\u001b[38;5;241m.\u001b[39maxis(\u001b[38;5;124m\"\u001b[39m\u001b[38;5;124msquare\u001b[39m\u001b[38;5;124m\"\u001b[39m)\n\u001b[1;32m     11\u001b[0m plt\u001b[38;5;241m.\u001b[39mxlabel(\u001b[38;5;124m\"\u001b[39m\u001b[38;5;124mFalse Positive Rate\u001b[39m\u001b[38;5;124m\"\u001b[39m)\n",
      "File \u001b[0;32m~/mambaforge/envs/marugoto/lib/python3.9/site-packages/sklearn/metrics/_plot/roc_curve.py:386\u001b[0m, in \u001b[0;36mRocCurveDisplay.from_predictions\u001b[0;34m(cls, y_true, y_pred, sample_weight, drop_intermediate, pos_label, name, ax, plot_chance_level, chance_level_kw, **kwargs)\u001b[0m\n\u001b[1;32m    291\u001b[0m \u001b[38;5;129m@classmethod\u001b[39m\n\u001b[1;32m    292\u001b[0m \u001b[38;5;28;01mdef\u001b[39;00m \u001b[38;5;21mfrom_predictions\u001b[39m(\n\u001b[1;32m    293\u001b[0m     \u001b[38;5;28mcls\u001b[39m,\n\u001b[0;32m   (...)\u001b[0m\n\u001b[1;32m    304\u001b[0m     \u001b[38;5;241m*\u001b[39m\u001b[38;5;241m*\u001b[39mkwargs,\n\u001b[1;32m    305\u001b[0m ):\n\u001b[1;32m    306\u001b[0m \u001b[38;5;250m    \u001b[39m\u001b[38;5;124;03m\"\"\"Plot ROC curve given the true and predicted values.\u001b[39;00m\n\u001b[1;32m    307\u001b[0m \n\u001b[1;32m    308\u001b[0m \u001b[38;5;124;03m    Read more in the :ref:`User Guide <visualizations>`.\u001b[39;00m\n\u001b[0;32m   (...)\u001b[0m\n\u001b[1;32m    384\u001b[0m \u001b[38;5;124;03m    >>> plt.show()\u001b[39;00m\n\u001b[1;32m    385\u001b[0m \u001b[38;5;124;03m    \"\"\"\u001b[39;00m\n\u001b[0;32m--> 386\u001b[0m     pos_label_validated, name \u001b[38;5;241m=\u001b[39m \u001b[38;5;28;43mcls\u001b[39;49m\u001b[38;5;241;43m.\u001b[39;49m\u001b[43m_validate_from_predictions_params\u001b[49m\u001b[43m(\u001b[49m\n\u001b[1;32m    387\u001b[0m \u001b[43m        \u001b[49m\u001b[43my_true\u001b[49m\u001b[43m,\u001b[49m\u001b[43m \u001b[49m\u001b[43my_pred\u001b[49m\u001b[43m,\u001b[49m\u001b[43m \u001b[49m\u001b[43msample_weight\u001b[49m\u001b[38;5;241;43m=\u001b[39;49m\u001b[43msample_weight\u001b[49m\u001b[43m,\u001b[49m\u001b[43m \u001b[49m\u001b[43mpos_label\u001b[49m\u001b[38;5;241;43m=\u001b[39;49m\u001b[43mpos_label\u001b[49m\u001b[43m,\u001b[49m\u001b[43m \u001b[49m\u001b[43mname\u001b[49m\u001b[38;5;241;43m=\u001b[39;49m\u001b[43mname\u001b[49m\n\u001b[1;32m    388\u001b[0m \u001b[43m    \u001b[49m\u001b[43m)\u001b[49m\n\u001b[1;32m    390\u001b[0m     fpr, tpr, _ \u001b[38;5;241m=\u001b[39m roc_curve(\n\u001b[1;32m    391\u001b[0m         y_true,\n\u001b[1;32m    392\u001b[0m         y_pred,\n\u001b[0;32m   (...)\u001b[0m\n\u001b[1;32m    395\u001b[0m         drop_intermediate\u001b[38;5;241m=\u001b[39mdrop_intermediate,\n\u001b[1;32m    396\u001b[0m     )\n\u001b[1;32m    397\u001b[0m     roc_auc \u001b[38;5;241m=\u001b[39m auc(fpr, tpr)\n",
      "File \u001b[0;32m~/mambaforge/envs/marugoto/lib/python3.9/site-packages/sklearn/utils/_plotting.py:55\u001b[0m, in \u001b[0;36m_BinaryClassifierCurveDisplayMixin._validate_from_predictions_params\u001b[0;34m(cls, y_true, y_pred, sample_weight, pos_label, name)\u001b[0m\n\u001b[1;32m     49\u001b[0m \u001b[38;5;28;01mif\u001b[39;00m type_of_target(y_true) \u001b[38;5;241m!=\u001b[39m \u001b[38;5;124m\"\u001b[39m\u001b[38;5;124mbinary\u001b[39m\u001b[38;5;124m\"\u001b[39m:\n\u001b[1;32m     50\u001b[0m     \u001b[38;5;28;01mraise\u001b[39;00m \u001b[38;5;167;01mValueError\u001b[39;00m(\n\u001b[1;32m     51\u001b[0m         \u001b[38;5;124mf\u001b[39m\u001b[38;5;124m\"\u001b[39m\u001b[38;5;124mThe target y is not binary. Got \u001b[39m\u001b[38;5;132;01m{\u001b[39;00mtype_of_target(y_true)\u001b[38;5;132;01m}\u001b[39;00m\u001b[38;5;124m type of\u001b[39m\u001b[38;5;124m\"\u001b[39m\n\u001b[1;32m     52\u001b[0m         \u001b[38;5;124m\"\u001b[39m\u001b[38;5;124m target.\u001b[39m\u001b[38;5;124m\"\u001b[39m\n\u001b[1;32m     53\u001b[0m     )\n\u001b[0;32m---> 55\u001b[0m \u001b[43mcheck_consistent_length\u001b[49m\u001b[43m(\u001b[49m\u001b[43my_true\u001b[49m\u001b[43m,\u001b[49m\u001b[43m \u001b[49m\u001b[43my_pred\u001b[49m\u001b[43m,\u001b[49m\u001b[43m \u001b[49m\u001b[43msample_weight\u001b[49m\u001b[43m)\u001b[49m\n\u001b[1;32m     56\u001b[0m pos_label \u001b[38;5;241m=\u001b[39m _check_pos_label_consistency(pos_label, y_true)\n\u001b[1;32m     58\u001b[0m name \u001b[38;5;241m=\u001b[39m name \u001b[38;5;28;01mif\u001b[39;00m name \u001b[38;5;129;01mis\u001b[39;00m \u001b[38;5;129;01mnot\u001b[39;00m \u001b[38;5;28;01mNone\u001b[39;00m \u001b[38;5;28;01melse\u001b[39;00m \u001b[38;5;124m\"\u001b[39m\u001b[38;5;124mClassifier\u001b[39m\u001b[38;5;124m\"\u001b[39m\n",
      "File \u001b[0;32m~/mambaforge/envs/marugoto/lib/python3.9/site-packages/sklearn/utils/validation.py:409\u001b[0m, in \u001b[0;36mcheck_consistent_length\u001b[0;34m(*arrays)\u001b[0m\n\u001b[1;32m    407\u001b[0m uniques \u001b[38;5;241m=\u001b[39m np\u001b[38;5;241m.\u001b[39munique(lengths)\n\u001b[1;32m    408\u001b[0m \u001b[38;5;28;01mif\u001b[39;00m \u001b[38;5;28mlen\u001b[39m(uniques) \u001b[38;5;241m>\u001b[39m \u001b[38;5;241m1\u001b[39m:\n\u001b[0;32m--> 409\u001b[0m     \u001b[38;5;28;01mraise\u001b[39;00m \u001b[38;5;167;01mValueError\u001b[39;00m(\n\u001b[1;32m    410\u001b[0m         \u001b[38;5;124m\"\u001b[39m\u001b[38;5;124mFound input variables with inconsistent numbers of samples: \u001b[39m\u001b[38;5;132;01m%r\u001b[39;00m\u001b[38;5;124m\"\u001b[39m\n\u001b[1;32m    411\u001b[0m         \u001b[38;5;241m%\u001b[39m [\u001b[38;5;28mint\u001b[39m(l) \u001b[38;5;28;01mfor\u001b[39;00m l \u001b[38;5;129;01min\u001b[39;00m lengths]\n\u001b[1;32m    412\u001b[0m     )\n",
      "\u001b[0;31mValueError\u001b[0m: Found input variables with inconsistent numbers of samples: [50, 49]"
     ]
    },
    {
     "data": {
      "image/png": "[encoded data removed]",
      "text/plain": [
       "<Figure size 640x480 with 1 Axes>"
      ]
     },
     "metadata": {},
     "output_type": "display_data"
    }
   ],
   "source": [
    "\n",
    "\n",
    "fig, ax = plt.subplots()\n",
    "RocCurveDisplay.from_predictions(\n",
    "    np.array(test_labels),\n",
    "    np.mean(np.vstack(prob_list), axis=0),\n",
    "    name=\"CT Prediction Images\",\n",
    "    color=\"darkorange\",\n",
    "    plot_chance_level=True,\n",
    "    ax=ax\n",
    ")\n",
    "plt.axis(\"square\")\n",
    "plt.xlabel(\"False Positive Rate\")\n",
    "plt.ylabel(\"True Positive Rate\")\n",
    "plt.title(\"\")\n",
    "plt.legend()\n",
    "plt.show()"
   ]
  },
  {
   "cell_type": "code",
   "execution_count": 72,
   "id": "13f49bcd-e744-494c-a6bb-4aada157a6d7",
   "metadata": {},
   "outputs": [],
   "source": [
    "cv_all = np.concatenate(testing_cv)\n",
    "label_all = np.concatenate(testing_labels)\n",
    "pred_all = np.concatenate(testing_preds)\n",
    "prob_all = np.concatenate(testing_probs)\n",
    "slides_all = np.concatenate(testing_slides)"
   ]
  },
  {
   "cell_type": "code",
   "execution_count": 107,
   "id": "71d5900e-b693-45e0-a80e-2ac5ef45b2e8",
   "metadata": {},
   "outputs": [],
   "source": [
    "attn_all = [x for y in testing_attn for x in y]"
   ]
  },
  {
   "cell_type": "code",
   "execution_count": 73,
   "id": "8f9b652c-d556-4dfd-9a1f-a7fd9edc8a92",
   "metadata": {},
   "outputs": [
    {
     "data": {
      "text/plain": [
       "<Axes: ylabel='Count'>"
      ]
     },
     "execution_count": 73,
     "metadata": {},
     "output_type": "execute_result"
    },
    {
     "data": {
      "image/png": "[encoded data removed]",
      "text/plain": [
       "<Figure size 640x480 with 1 Axes>"
      ]
     },
     "metadata": {},
     "output_type": "display_data"
    }
   ],
   "source": [
    "sns.histplot(cv_all)"
   ]
  },
  {
   "cell_type": "code",
   "execution_count": 110,
   "id": "4af25e7b-5d21-4cf0-b6a6-70a4c78e104e",
   "metadata": {},
   "outputs": [
    {
     "data": {
      "text/plain": [
       "array([['902C256C-22E5-427E-9FAF-CAA206CE46C1'],\n",
       "       ['F43222AB-5352-491B-9906-1100A046795D'],\n",
       "       ['95C1EFE3-112A-48EF-A15C-F7A39AC13247']], dtype=object)"
      ]
     },
     "execution_count": 110,
     "metadata": {},
     "output_type": "execute_result"
    }
   ],
   "source": [
    "slides_all[cv_all>1]"
   ]
  },
  {
   "cell_type": "code",
   "execution_count": 112,
   "id": "053b214f-61c4-4297-9c14-9bfb87d212ad",
   "metadata": {},
   "outputs": [
    {
     "data": {
      "text/plain": [
       "<Axes: ylabel='Count'>"
      ]
     },
     "execution_count": 112,
     "metadata": {},
     "output_type": "execute_result"
    },
    {
     "data": {
      "image/png": "[encoded data removed]",
      "text/plain": [
       "<Figure size 640x480 with 1 Axes>"
      ]
     },
     "metadata": {},
     "output_type": "display_data"
    }
   ],
   "source": [
    "sns.histplot(attn_all[np.where(cv_all>1)[0][0]])"
   ]
  },
  {
   "cell_type": "code",
   "execution_count": 113,
   "id": "5b8fcd1b-374f-43a2-9b73-d69e0e92301f",
   "metadata": {},
   "outputs": [
    {
     "data": {
      "text/plain": [
       "<Axes: ylabel='Count'>"
      ]
     },
     "execution_count": 113,
     "metadata": {},
     "output_type": "execute_result"
    },
    {
     "data": {
      "image/png": "[encoded data removed]",
      "text/plain": [
       "<Figure size 640x480 with 1 Axes>"
      ]
     },
     "metadata": {},
     "output_type": "display_data"
    }
   ],
   "source": [
    "sns.histplot(attn_all[np.where(cv_all>1)[0][1]])"
   ]
  },
  {
   "cell_type": "code",
   "execution_count": 115,
   "id": "325002db-79b7-49e3-91a1-bfb3b4111354",
   "metadata": {},
   "outputs": [
    {
     "data": {
      "text/plain": [
       "array(['Adult-type diffuse gliomas', 'Adult-type diffuse gliomas',\n",
       "       'Paediatric-type diffuse high-grade gliomas'], dtype=object)"
      ]
     },
     "execution_count": 115,
     "metadata": {},
     "output_type": "execute_result"
    }
   ],
   "source": [
    "np.concatenate(testing_superfamily)[cv_all>1]"
   ]
  },
  {
   "cell_type": "code",
   "execution_count": 51,
   "id": "eb51c686-5f42-4f4c-b107-5ea0777c36c6",
   "metadata": {},
   "outputs": [
    {
     "data": {
      "text/plain": [
       "array([ True, False,  True])"
      ]
     },
     "execution_count": 51,
     "metadata": {},
     "output_type": "execute_result"
    }
   ],
   "source": [
    "(label_all != pred_all.reshape(-1))[cv_all>1]"
   ]
  },
  {
   "cell_type": "markdown",
   "id": "ba35fd6e-7188-472d-8bf9-633c1a69e18c",
   "metadata": {},
   "source": [
    "Here is what to do next:\n",
    "1. examine these slides manually\n",
    "2. make their attentionmaps \n",
    "3. look at some cases of very little attn map heterogeneity\n",
    "4. make meeting with Ramin\n",
    "5. \n"
   ]
  },
  {
   "cell_type": "code",
   "execution_count": 118,
   "id": "2f254a86-94e4-416c-a00d-e2a9c51e549d",
   "metadata": {
    "tags": []
   },
   "outputs": [
    {
     "data": {
      "text/plain": [
       "array([['64F3A170-DF3D-46D7-828C-58C8C5979C88'],\n",
       "       ['2133F66A-074E-4440-89F7-F0C288519066'],\n",
       "       ['ABE01868-8E8A-49AC-995E-9834B819F27C'],\n",
       "       ['36DA14C8-77AD-4574-B015-5CAAA7A8A6C8'],\n",
       "       ['A566FA6E-052C-4206-AE32-0F7F6DE3EB8D'],\n",
       "       ['0D6B7E38-D4EC-4D21-92B0-195E00990839'],\n",
       "       ['D46198C6-C16E-4A8E-89A6-792E9937A27B'],\n",
       "       ['DB0C22F7-BBB4-42E6-A4AB-476A9D9EEB97']], dtype=object)"
      ]
     },
     "execution_count": 118,
     "metadata": {},
     "output_type": "execute_result"
    }
   ],
   "source": [
    "slides_all[cv_all<0.13]"
   ]
  },
  {
   "cell_type": "code",
   "execution_count": 120,
   "id": "8f7346e1-321a-4fd5-be0f-014e2ff2fba0",
   "metadata": {},
   "outputs": [
    {
     "data": {
      "text/plain": [
       "array(['tumours of the sellar region', 'Adult-type diffuse gliomas',\n",
       "       'Adult-type diffuse gliomas',\n",
       "       'high-grade neuroepithelial tumour with MN1:BEND2 fusion',\n",
       "       'Cranial and paraspinal nerve tumours',\n",
       "       'tumours of the sellar region', 'Ependymal tumours',\n",
       "       'Medulloblastoma', 'meningioma',\n",
       "       'Cranial and paraspinal nerve tumours',\n",
       "       'Cranial and paraspinal nerve tumours',\n",
       "       'Cranial and paraspinal nerve tumours',\n",
       "       'Cranial and paraspinal nerve tumours',\n",
       "       'Low-grade glial/glioneuronal/neuroepithelial tumours',\n",
       "       'Control tissues', 'Control tissues',\n",
       "       'Low-grade glial/glioneuronal/neuroepithelial tumours',\n",
       "       'Other CNS embryonal tumours'], dtype=object)"
      ]
     },
     "execution_count": 120,
     "metadata": {},
     "output_type": "execute_result"
    }
   ],
   "source": [
    "np.concatenate(testing_superfamily)[cv_all<0.13]"
   ]
  },
  {
   "cell_type": "code",
   "execution_count": 126,
   "id": "dc02e053-2b5e-4188-8f9c-b5f10341e864",
   "metadata": {},
   "outputs": [
    {
     "data": {
      "text/plain": [
       "array([['64F3A170-DF3D-46D7-828C-58C8C5979C88'],\n",
       "       ['464F3236-0F1B-4DB0-A74B-92BA8A408630']], dtype=object)"
      ]
     },
     "execution_count": 126,
     "metadata": {},
     "output_type": "execute_result"
    }
   ],
   "source": [
    "slides_all[cv_all<0.13][1:3]"
   ]
  },
  {
   "cell_type": "code",
   "execution_count": 121,
   "id": "14af7712-6bf4-4b71-bb7d-5a263c05be6f",
   "metadata": {},
   "outputs": [
    {
     "data": {
      "text/plain": [
       "array([ True,  True, False,  True,  True, False, False, False,  True,\n",
       "       False, False, False, False, False, False, False, False, False])"
      ]
     },
     "execution_count": 121,
     "metadata": {},
     "output_type": "execute_result"
    }
   ],
   "source": [
    "(label_all != pred_all.reshape(-1))[cv_all<0.13]"
   ]
  },
  {
   "cell_type": "code",
   "execution_count": 124,
   "id": "fcbfaee5-d541-427a-9241-5de5300cf435",
   "metadata": {},
   "outputs": [
    {
     "data": {
      "text/plain": [
       "<Axes: ylabel='Count'>"
      ]
     },
     "execution_count": 124,
     "metadata": {},
     "output_type": "execute_result"
    },
    {
     "data": {
      "image/png": "[encoded data removed]",
      "text/plain": [
       "<Figure size 640x480 with 1 Axes>"
      ]
     },
     "metadata": {},
     "output_type": "display_data"
    }
   ],
   "source": [
    "sns.histplot(attn_all[np.where(cv_all<0.13)[0][1]])"
   ]
  },
  {
   "cell_type": "code",
   "execution_count": 125,
   "id": "f98302ab-c072-4272-a3fc-3c17637a9062",
   "metadata": {},
   "outputs": [
    {
     "data": {
      "text/plain": [
       "<Axes: ylabel='Count'>"
      ]
     },
     "execution_count": 125,
     "metadata": {},
     "output_type": "execute_result"
    },
    {
     "data": {
      "image/png": "[encoded data removed]",
      "text/plain": [
       "<Figure size 640x480 with 1 Axes>"
      ]
     },
     "metadata": {},
     "output_type": "display_data"
    }
   ],
   "source": [
    "sns.histplot(attn_all[np.where(cv_all<0.13)[0][2]])"
   ]
  },
  {
   "cell_type": "markdown",
   "id": "126903cf-1e91-429f-a85b-5d03920891bd",
   "metadata": {},
   "source": [
    "Now lets pick a confident correct and confident incorrect slide"
   ]
  },
  {
   "cell_type": "code",
   "execution_count": 129,
   "id": "06c9bb6c-7ce2-4d1d-871d-8f028610f209",
   "metadata": {},
   "outputs": [],
   "source": [
    "is_glio = np.concatenate(testing_superfamily)=='Adult-type diffuse gliomas'"
   ]
  },
  {
   "cell_type": "code",
   "execution_count": 135,
   "id": "fa337d1d-2dcb-4c3f-9482-989e18ee3b53",
   "metadata": {},
   "outputs": [],
   "source": [
    "pred_all = pred_all.reshape(-1)\n",
    "\n",
    "prob_all = prob_all.reshape(-1)"
   ]
  },
  {
   "cell_type": "code",
   "execution_count": 148,
   "id": "4a79f2c6-1611-48ff-b11e-933aee1fb212",
   "metadata": {},
   "outputs": [
    {
     "data": {
      "text/plain": [
       "array(['2F867856-C7A3-43BA-8A68-8934EB8AD5EA'], dtype=object)"
      ]
     },
     "execution_count": 148,
     "metadata": {},
     "output_type": "execute_result"
    }
   ],
   "source": [
    "glio_probs = F.sigmoid(torch.tensor(prob_all[is_glio]))\n",
    "glio_slides = slides_all[is_glio]\n",
    "glio_tp = np.logical_and(pred_all[is_glio] == label_all[is_glio], label_all[is_glio]==True)\n",
    "glio_fp = np.logical_and(pred_all[is_glio] != label_all[is_glio], label_all[is_glio]==True)\n",
    "glio_tn = np.logical_and(pred_all[is_glio] == label_all[is_glio], label_all[is_glio]==False)\n",
    "glio_fn = np.logical_and(pred_all[is_glio] != label_all[is_glio], label_all[is_glio]==False)\n",
    "\n",
    "glio_slides[glio_tp][np.array(glio_probs[glio_tp]).argmax()]"
   ]
  },
  {
   "cell_type": "code",
   "execution_count": 149,
   "id": "d7be3529-1a09-4698-b0b7-34b070adabb7",
   "metadata": {},
   "outputs": [
    {
     "data": {
      "text/plain": [
       "array(['46FE30DA-4585-45E6-AFB0-9B3AFDD34F13'], dtype=object)"
      ]
     },
     "execution_count": 149,
     "metadata": {},
     "output_type": "execute_result"
    }
   ],
   "source": [
    "glio_slides[glio_fp][np.array(glio_probs[glio_fp]).argmax()]"
   ]
  },
  {
   "cell_type": "code",
   "execution_count": 150,
   "id": "d82a4119-bb20-4264-a543-f5a67d317712",
   "metadata": {},
   "outputs": [
    {
     "data": {
      "text/plain": [
       "array(['0F5C2192-FD1D-4DF1-B232-485A83DCAFA9'], dtype=object)"
      ]
     },
     "execution_count": 150,
     "metadata": {},
     "output_type": "execute_result"
    }
   ],
   "source": [
    "glio_slides[glio_tn][np.array(glio_probs[glio_tn]).argmax()]"
   ]
  },
  {
   "cell_type": "code",
   "execution_count": 151,
   "id": "e4678239-70ca-4145-aa3d-c3c9c9ed48bb",
   "metadata": {},
   "outputs": [
    {
     "data": {
      "text/plain": [
       "array(['A0792521-54D6-4EC8-9F45-B4FF197BFC81'], dtype=object)"
      ]
     },
     "execution_count": 151,
     "metadata": {},
     "output_type": "execute_result"
    }
   ],
   "source": [
    "glio_slides[glio_fn][np.array(glio_probs[glio_fn]).argmax()]"
   ]
  },
  {
   "cell_type": "code",
   "execution_count": null,
   "id": "deb0769f-8615-4625-9927-74c15c840167",
   "metadata": {},
   "outputs": [],
   "source": []
  },
  {
   "cell_type": "code",
   "execution_count": null,
   "id": "9c62fc3c-75c0-4c49-aceb-b96abfbbd791",
   "metadata": {},
   "outputs": [],
   "source": []
  },
  {
   "cell_type": "code",
   "execution_count": null,
   "id": "221b1ee5-bf86-467d-bdf7-140a52ca0b1d",
   "metadata": {},
   "outputs": [],
   "source": []
  },
  {
   "cell_type": "code",
   "execution_count": null,
   "id": "465753bb-eede-4930-9de8-241738c181c2",
   "metadata": {},
   "outputs": [],
   "source": []
  },
  {
   "cell_type": "code",
   "execution_count": 33,
   "id": "6d769890-a936-4fb9-83b4-3fc894076cf9",
   "metadata": {},
   "outputs": [
    {
     "data": {
      "text/plain": [
       "0.42986685766175964"
      ]
     },
     "execution_count": 33,
     "metadata": {},
     "output_type": "execute_result"
    }
   ],
   "source": [
    "np.mean((label_all != pred_all)[np.concatenate(testing_superfamily)=='Medulloblastoma'])\n"
   ]
  },
  {
   "cell_type": "code",
   "execution_count": null,
   "id": "df847b03-ff4e-44b2-a4d8-63764f354a43",
   "metadata": {},
   "outputs": [],
   "source": []
  },
  {
   "cell_type": "markdown",
   "id": "5cebbe3a-fa06-4184-9028-8a80f4378320",
   "metadata": {},
   "source": [
    "Sanity Check:"
   ]
  },
  {
   "cell_type": "code",
   "execution_count": 35,
   "id": "dfc8b52d-ab99-4c96-aade-75174560fe33",
   "metadata": {},
   "outputs": [
    {
     "data": {
      "text/plain": [
       "<sklearn.metrics._plot.roc_curve.RocCurveDisplay at 0x7fea89e02f70>"
      ]
     },
     "execution_count": 37,
     "metadata": {},
     "output_type": "execute_result"
    },
    {
     "data": {
      "image/png": "[encoded data removed]",
      "text/plain": [
       "<Figure size 640x480 with 1 Axes>"
      ]
     },
     "metadata": {},
     "output_type": "display_data"
    }
   ],
   "source": [
    "fig, ax = plt.subplots()\n",
    "RocCurveDisplay.from_predictions(\n",
    "    label_all,\n",
    "    prob_all,\n",
    "    name=\"CT Prediction Images\",\n",
    "    color=\"darkorange\",\n",
    "    plot_chance_level=True,\n",
    "    ax=ax\n",
    ")"
   ]
  },
  {
   "cell_type": "code",
   "execution_count": null,
   "id": "bc6930d3-5264-4689-b2ce-d912f6b07706",
   "metadata": {},
   "outputs": [],
   "source": []
  },
  {
   "cell_type": "code",
   "execution_count": null,
   "id": "89f02254-ed4f-4363-b15d-e70b5aa28670",
   "metadata": {},
   "outputs": [],
   "source": []
  },
  {
   "cell_type": "markdown",
   "id": "01093680-86a4-4397-a4d6-4bcaeaa6a944",
   "metadata": {
    "tags": []
   },
   "source": [
    "# UKHD\n"
   ]
  },
  {
   "cell_type": "code",
   "execution_count": 13,
   "id": "6888edb8-a29a-4ef2-97c9-39dec55e1f26",
   "metadata": {},
   "outputs": [],
   "source": [
    "path_to_extracted_features = '/home/p163v/histopathology/UKHD_Neuro/RetCLL_Features/' \n",
    "\n",
    "\n",
    "\n",
    "slide_meta = pd.read_csv(\"../metadata/labels_with_new_batch.csv\")\n",
    "ct_scoring = pd.read_csv(\"../metadata/CT_3_Class_Draft.csv\")\n",
    "\n",
    "slide_meta_wbt = wandb.Table(dataframe=slide_meta)\n",
    "ct_scoring_wbt = wandb.Table(dataframe=ct_scoring)\n",
    "\n",
    "labels_artifact = wandb.Artifact(\"dataset_labels\", type=\"labels\")\n",
    "labels_artifact.add(slide_meta_wbt, \"slide_meta\")\n",
    "labels_artifact.add(ct_scoring_wbt, \"ct_scoring\")\n",
    "\n",
    "ct_scoring[\"txt_idat\"] = ct_scoring[\"idat\"].astype(\"str\")\n",
    "ct_scoring.index = ct_scoring.txt_idat\n",
    "slide_meta.index = slide_meta.idat\n",
    "ct_scoring = ct_scoring.drop(\"txt_idat\", axis=1)\n",
    "slide_meta = slide_meta.drop(\"idat\", axis=1)\n",
    "slide_annots = slide_meta.join(ct_scoring, lsuffix=\"l\")\n",
    "\n",
    "\n",
    "slide_annots['file'] = slide_annots.uuid + \".h5\"\n",
    "\n",
    "slide_annots.index = slide_annots.uuid\n",
    "\n",
    "\n",
    "\n"
   ]
  },
  {
   "cell_type": "code",
   "execution_count": 14,
   "id": "74240966-2a61-497d-a06e-776506c6b1f3",
   "metadata": {},
   "outputs": [],
   "source": [
    "myx = (slide_annots.max_super_family_class=='Adult-type diffuse gliomas') & (slide_annots.CT_class!='Unsure') & ([os.path.exists(path_to_extracted_features + \"/\" + file + \".h5\") for file in slide_annots.uuid])\n"
   ]
  },
  {
   "cell_type": "code",
   "execution_count": 15,
   "id": "72f0162b-dad9-4e9d-8bab-5c4c273466c9",
   "metadata": {},
   "outputs": [
    {
     "data": {
      "text/html": [
       "<div>\n",
       "<style scoped>\n",
       "    .dataframe tbody tr th:only-of-type {\n",
       "        vertical-align: middle;\n",
       "    }\n",
       "\n",
       "    .dataframe tbody tr th {\n",
       "        vertical-align: top;\n",
       "    }\n",
       "\n",
       "    .dataframe thead th {\n",
       "        text-align: right;\n",
       "    }\n",
       "</style>\n",
       "<table border=\"1\" class=\"dataframe\">\n",
       "  <thead>\n",
       "    <tr style=\"text-align: right;\">\n",
       "      <th></th>\n",
       "      <th>uuid</th>\n",
       "      <th>tumor_id</th>\n",
       "      <th>txt_LOKALISATION</th>\n",
       "      <th>num_ALTERSANGABE</th>\n",
       "      <th>patient_id</th>\n",
       "      <th>max_super_family_class</th>\n",
       "      <th>max_family_class</th>\n",
       "      <th>max_class</th>\n",
       "      <th>max_subclass</th>\n",
       "      <th>relevant Histo prediction</th>\n",
       "      <th>possible further consolidation</th>\n",
       "      <th>classifciation_v11</th>\n",
       "      <th>max_cal_v11</th>\n",
       "      <th>family</th>\n",
       "      <th>file_path</th>\n",
       "      <th>slide</th>\n",
       "      <th>Unnamed: 0</th>\n",
       "      <th>idat</th>\n",
       "      <th>CT_class</th>\n",
       "      <th>file</th>\n",
       "    </tr>\n",
       "    <tr>\n",
       "      <th>uuid</th>\n",
       "      <th></th>\n",
       "      <th></th>\n",
       "      <th></th>\n",
       "      <th></th>\n",
       "      <th></th>\n",
       "      <th></th>\n",
       "      <th></th>\n",
       "      <th></th>\n",
       "      <th></th>\n",
       "      <th></th>\n",
       "      <th></th>\n",
       "      <th></th>\n",
       "      <th></th>\n",
       "      <th></th>\n",
       "      <th></th>\n",
       "      <th></th>\n",
       "      <th></th>\n",
       "      <th></th>\n",
       "      <th></th>\n",
       "      <th></th>\n",
       "    </tr>\n",
       "  </thead>\n",
       "  <tbody>\n",
       "    <tr>\n",
       "      <th>BB53705C-1CF8-456C-848D-5B4E372511B9</th>\n",
       "      <td>BB53705C-1CF8-456C-848D-5B4E372511B9</td>\n",
       "      <td>82436</td>\n",
       "      <td>rechts temporal</td>\n",
       "      <td>NaN</td>\n",
       "      <td>36642</td>\n",
       "      <td>Adult-type diffuse gliomas</td>\n",
       "      <td>Glioblastoma, IDH-wildtype</td>\n",
       "      <td>glioblastoma, IDH-wildtype, mesenchymal type</td>\n",
       "      <td>Glioblastoma, IDH-wildtype, [typical mesenchym...</td>\n",
       "      <td>glioblastoma, IDH-wildtype, mesenchymal type</td>\n",
       "      <td>glioblastoma, IDH-wildtype</td>\n",
       "      <td>methylation class glioblastoma, IDH wildtype, ...</td>\n",
       "      <td>0.986505</td>\n",
       "      <td>glioblastoma</td>\n",
       "      <td>/omics/odcf/analysis/OE0606_projects/pancancer...</td>\n",
       "      <td>BB53705C-1CF8-456C-848D-5B4E372511B9</td>\n",
       "      <td>1136.0</td>\n",
       "      <td>101231000009_R04C01</td>\n",
       "      <td>No Chromothripsis</td>\n",
       "      <td>BB53705C-1CF8-456C-848D-5B4E372511B9.h5</td>\n",
       "    </tr>\n",
       "    <tr>\n",
       "      <th>E7B93080-1B3C-408C-9B82-9B0D25E68B1F</th>\n",
       "      <td>E7B93080-1B3C-408C-9B82-9B0D25E68B1F</td>\n",
       "      <td>82438</td>\n",
       "      <td>supratentoriell, links temporal</td>\n",
       "      <td>NaN</td>\n",
       "      <td>36643</td>\n",
       "      <td>Adult-type diffuse gliomas</td>\n",
       "      <td>Glioblastoma, IDH-wildtype</td>\n",
       "      <td>glioblastoma, IDH-wildtype, mesenchymal type</td>\n",
       "      <td>Glioblastoma, IDH-wildtype, [typical mesenchym...</td>\n",
       "      <td>glioblastoma, IDH-wildtype, mesenchymal type</td>\n",
       "      <td>glioblastoma, IDH-wildtype</td>\n",
       "      <td>methylation class glioblastoma, IDH wildtype, ...</td>\n",
       "      <td>0.433829</td>\n",
       "      <td>glioblastoma</td>\n",
       "      <td>/omics/odcf/analysis/OE0606_projects/pancancer...</td>\n",
       "      <td>E7B93080-1B3C-408C-9B82-9B0D25E68B1F</td>\n",
       "      <td>1138.0</td>\n",
       "      <td>101231000009_R05C01</td>\n",
       "      <td>Chromothripsis</td>\n",
       "      <td>E7B93080-1B3C-408C-9B82-9B0D25E68B1F.h5</td>\n",
       "    </tr>\n",
       "    <tr>\n",
       "      <th>C8CE0A14-161B-4654-9C8B-26E1E46FDD15</th>\n",
       "      <td>C8CE0A14-161B-4654-9C8B-26E1E46FDD15</td>\n",
       "      <td>82538</td>\n",
       "      <td>k. A.</td>\n",
       "      <td>43.0</td>\n",
       "      <td>36679</td>\n",
       "      <td>Adult-type diffuse gliomas</td>\n",
       "      <td>diffuse glioma, IDH mutant</td>\n",
       "      <td>diffuse glioma, IDH-mutant and 1p19q retained ...</td>\n",
       "      <td>Astrocytoma, IDH-mutant; lower grade</td>\n",
       "      <td>Astrocytoma, IDH-mutant; lower grade</td>\n",
       "      <td>Astrocytoma, IDH-mutant</td>\n",
       "      <td>methylation class IDH glioma, subclass astrocy...</td>\n",
       "      <td>0.964166</td>\n",
       "      <td>astrocytoma</td>\n",
       "      <td>/omics/odcf/analysis/OE0606_projects/pancancer...</td>\n",
       "      <td>C8CE0A14-161B-4654-9C8B-26E1E46FDD15</td>\n",
       "      <td>1149.0</td>\n",
       "      <td>101231000014_R04C02</td>\n",
       "      <td>No Chromothripsis</td>\n",
       "      <td>C8CE0A14-161B-4654-9C8B-26E1E46FDD15.h5</td>\n",
       "    </tr>\n",
       "    <tr>\n",
       "      <th>A774D3B3-AE20-4531-B1DA-BFE9982DD86F</th>\n",
       "      <td>A774D3B3-AE20-4531-B1DA-BFE9982DD86F</td>\n",
       "      <td>82698</td>\n",
       "      <td>supratentoriell</td>\n",
       "      <td>40.0</td>\n",
       "      <td>36747</td>\n",
       "      <td>Adult-type diffuse gliomas</td>\n",
       "      <td>Glioblastoma, IDH-wildtype</td>\n",
       "      <td>glioblastoma, IDH-wildtype, mesenchymal type</td>\n",
       "      <td>Glioblastoma, IDH-wildtype, [typical mesenchym...</td>\n",
       "      <td>glioblastoma, IDH-wildtype, mesenchymal type</td>\n",
       "      <td>glioblastoma, IDH-wildtype</td>\n",
       "      <td>methylation class glioblastoma, IDH wildtype, ...</td>\n",
       "      <td>0.915389</td>\n",
       "      <td>glioblastoma</td>\n",
       "      <td>/omics/odcf/analysis/OE0606_projects/pancancer...</td>\n",
       "      <td>A774D3B3-AE20-4531-B1DA-BFE9982DD86F</td>\n",
       "      <td>1193.0</td>\n",
       "      <td>101231000034_R04C02</td>\n",
       "      <td>Chromothripsis</td>\n",
       "      <td>A774D3B3-AE20-4531-B1DA-BFE9982DD86F.h5</td>\n",
       "    </tr>\n",
       "    <tr>\n",
       "      <th>07A87F90-DC34-4DA7-9D01-54CDF62B0331</th>\n",
       "      <td>07A87F90-DC34-4DA7-9D01-54CDF62B0331</td>\n",
       "      <td>83246</td>\n",
       "      <td>supratentoriell, temporal links</td>\n",
       "      <td>25.0</td>\n",
       "      <td>27562</td>\n",
       "      <td>Adult-type diffuse gliomas</td>\n",
       "      <td>diffuse glioma, IDH mutant</td>\n",
       "      <td>diffuse glioma, IDH-mutant and 1p19q retained ...</td>\n",
       "      <td>Astrocytoma, IDH-mutant; lower grade</td>\n",
       "      <td>Astrocytoma, IDH-mutant; lower grade</td>\n",
       "      <td>Astrocytoma, IDH-mutant</td>\n",
       "      <td>methylation class IDH glioma, subclass astrocy...</td>\n",
       "      <td>0.968453</td>\n",
       "      <td>astrocytoma</td>\n",
       "      <td>NaN</td>\n",
       "      <td>07A87F90-DC34-4DA7-9D01-54CDF62B0331</td>\n",
       "      <td>2125.0</td>\n",
       "      <td>200091640007_R04C01</td>\n",
       "      <td>No Chromothripsis</td>\n",
       "      <td>07A87F90-DC34-4DA7-9D01-54CDF62B0331.h5</td>\n",
       "    </tr>\n",
       "    <tr>\n",
       "      <th>...</th>\n",
       "      <td>...</td>\n",
       "      <td>...</td>\n",
       "      <td>...</td>\n",
       "      <td>...</td>\n",
       "      <td>...</td>\n",
       "      <td>...</td>\n",
       "      <td>...</td>\n",
       "      <td>...</td>\n",
       "      <td>...</td>\n",
       "      <td>...</td>\n",
       "      <td>...</td>\n",
       "      <td>...</td>\n",
       "      <td>...</td>\n",
       "      <td>...</td>\n",
       "      <td>...</td>\n",
       "      <td>...</td>\n",
       "      <td>...</td>\n",
       "      <td>...</td>\n",
       "      <td>...</td>\n",
       "      <td>...</td>\n",
       "    </tr>\n",
       "    <tr>\n",
       "      <th>2F343AC0-FF83-46BB-BC13-BA2962DB9FAE</th>\n",
       "      <td>2F343AC0-FF83-46BB-BC13-BA2962DB9FAE</td>\n",
       "      <td>70646</td>\n",
       "      <td>supratentoriell, temporal rechts</td>\n",
       "      <td>68.0</td>\n",
       "      <td>4236</td>\n",
       "      <td>Adult-type diffuse gliomas</td>\n",
       "      <td>Glioblastoma, IDH-wildtype</td>\n",
       "      <td>glioblastoma, IDH-wildtype, mesenchymal type</td>\n",
       "      <td>Glioblastoma, IDH-wildtype, [typical mesenchym...</td>\n",
       "      <td>glioblastoma, IDH-wildtype, mesenchymal type</td>\n",
       "      <td>glioblastoma, IDH-wildtype</td>\n",
       "      <td>methylation class glioblastoma, IDH wildtype, ...</td>\n",
       "      <td>0.353740</td>\n",
       "      <td>glioblastoma</td>\n",
       "      <td>/omics/odcf/analysis/OE0606_projects/pancancer...</td>\n",
       "      <td>2F343AC0-FF83-46BB-BC13-BA2962DB9FAE</td>\n",
       "      <td>124240.0</td>\n",
       "      <td>9969477088_R04C02</td>\n",
       "      <td>No Chromothripsis</td>\n",
       "      <td>2F343AC0-FF83-46BB-BC13-BA2962DB9FAE.h5</td>\n",
       "    </tr>\n",
       "    <tr>\n",
       "      <th>F658F54F-4E2B-41F3-91B6-12B2C7D54FC2</th>\n",
       "      <td>F658F54F-4E2B-41F3-91B6-12B2C7D54FC2</td>\n",
       "      <td>70806</td>\n",
       "      <td>supratentoriell, temporal links</td>\n",
       "      <td>34.0</td>\n",
       "      <td>4283</td>\n",
       "      <td>Adult-type diffuse gliomas</td>\n",
       "      <td>Glioblastoma, IDH-wildtype</td>\n",
       "      <td>glioblastoma, IDH-wildtype, mesenchymal type</td>\n",
       "      <td>Glioblastoma, IDH-wildtype, [typical mesenchym...</td>\n",
       "      <td>glioblastoma, IDH-wildtype, mesenchymal type</td>\n",
       "      <td>glioblastoma, IDH-wildtype</td>\n",
       "      <td>methylation class glioblastoma, IDH wildtype, ...</td>\n",
       "      <td>0.875576</td>\n",
       "      <td>glioblastoma</td>\n",
       "      <td>/omics/odcf/analysis/OE0606_projects/pancancer...</td>\n",
       "      <td>F658F54F-4E2B-41F3-91B6-12B2C7D54FC2</td>\n",
       "      <td>124314.0</td>\n",
       "      <td>9969477102_R02C01</td>\n",
       "      <td>No Chromothripsis</td>\n",
       "      <td>F658F54F-4E2B-41F3-91B6-12B2C7D54FC2.h5</td>\n",
       "    </tr>\n",
       "    <tr>\n",
       "      <th>2B528003-0F65-4A17-BBE3-6120F8CEDA63</th>\n",
       "      <td>2B528003-0F65-4A17-BBE3-6120F8CEDA63</td>\n",
       "      <td>70808</td>\n",
       "      <td>infratentorial</td>\n",
       "      <td>42.0</td>\n",
       "      <td>4288</td>\n",
       "      <td>Adult-type diffuse gliomas</td>\n",
       "      <td>diffuse glioma, IDH mutant</td>\n",
       "      <td>diffuse glioma, IDH-mutant and 1p19q retained ...</td>\n",
       "      <td>Astrocytoma, IDH-mutant; lower grade</td>\n",
       "      <td>Astrocytoma, IDH-mutant; lower grade</td>\n",
       "      <td>Astrocytoma, IDH-mutant</td>\n",
       "      <td>methylation class IDH glioma, subclass astrocy...</td>\n",
       "      <td>0.926260</td>\n",
       "      <td>astrocytoma</td>\n",
       "      <td>/omics/odcf/analysis/OE0606_projects/pancancer...</td>\n",
       "      <td>2B528003-0F65-4A17-BBE3-6120F8CEDA63</td>\n",
       "      <td>124316.0</td>\n",
       "      <td>9969477102_R03C01</td>\n",
       "      <td>No Chromothripsis</td>\n",
       "      <td>2B528003-0F65-4A17-BBE3-6120F8CEDA63.h5</td>\n",
       "    </tr>\n",
       "    <tr>\n",
       "      <th>DC1C6BF7-C346-4100-AE10-17D2CB5787BC</th>\n",
       "      <td>DC1C6BF7-C346-4100-AE10-17D2CB5787BC</td>\n",
       "      <td>70924</td>\n",
       "      <td>supratentoriell, frontal links</td>\n",
       "      <td>66.0</td>\n",
       "      <td>4336</td>\n",
       "      <td>Adult-type diffuse gliomas</td>\n",
       "      <td>Glioblastoma, IDH-wildtype</td>\n",
       "      <td>glioblastoma, IDH-wildtype, RTK1 type</td>\n",
       "      <td>Glioblastoma, IDH-wildtype, RTK1 subtype</td>\n",
       "      <td>Glioblastoma, IDH-wildtype, RTK1 subtype</td>\n",
       "      <td>glioblastoma, IDH-wildtype</td>\n",
       "      <td>methylation class glioblastoma, IDH wildtype, ...</td>\n",
       "      <td>0.991823</td>\n",
       "      <td>glioblastoma</td>\n",
       "      <td>/omics/odcf/analysis/OE0606_projects/pancancer...</td>\n",
       "      <td>DC1C6BF7-C346-4100-AE10-17D2CB5787BC</td>\n",
       "      <td>124372.0</td>\n",
       "      <td>9969477108_R01C01</td>\n",
       "      <td>No Chromothripsis</td>\n",
       "      <td>DC1C6BF7-C346-4100-AE10-17D2CB5787BC.h5</td>\n",
       "    </tr>\n",
       "    <tr>\n",
       "      <th>00D32364-D29A-4636-9A6A-A43D369E7211</th>\n",
       "      <td>00D32364-D29A-4636-9A6A-A43D369E7211</td>\n",
       "      <td>70864</td>\n",
       "      <td>supratentoriell, frontal rechts, kein Kontakt ...</td>\n",
       "      <td>74.0</td>\n",
       "      <td>4296</td>\n",
       "      <td>Adult-type diffuse gliomas</td>\n",
       "      <td>Glioblastoma, IDH-wildtype</td>\n",
       "      <td>glioblastoma, IDH-wildtype, mesenchymal type</td>\n",
       "      <td>Glioblastoma, IDH-wildtype, [typical mesenchym...</td>\n",
       "      <td>glioblastoma, IDH-wildtype, mesenchymal type</td>\n",
       "      <td>glioblastoma, IDH-wildtype</td>\n",
       "      <td>methylation class (anaplastic) pleomorphic xan...</td>\n",
       "      <td>0.379632</td>\n",
       "      <td>pleomorphic xanthoastrocytoma</td>\n",
       "      <td>/omics/odcf/analysis/OE0606_projects/pancancer...</td>\n",
       "      <td>00D32364-D29A-4636-9A6A-A43D369E7211</td>\n",
       "      <td>124373.0</td>\n",
       "      <td>9969477108_R01C02</td>\n",
       "      <td>No Chromothripsis</td>\n",
       "      <td>00D32364-D29A-4636-9A6A-A43D369E7211.h5</td>\n",
       "    </tr>\n",
       "  </tbody>\n",
       "</table>\n",
       "<p>395 rows × 20 columns</p>\n",
       "</div>"
      ],
      "text/plain": [
       "                                                                      uuid  \\\n",
       "uuid                                                                         \n",
       "BB53705C-1CF8-456C-848D-5B4E372511B9  BB53705C-1CF8-456C-848D-5B4E372511B9   \n",
       "E7B93080-1B3C-408C-9B82-9B0D25E68B1F  E7B93080-1B3C-408C-9B82-9B0D25E68B1F   \n",
       "C8CE0A14-161B-4654-9C8B-26E1E46FDD15  C8CE0A14-161B-4654-9C8B-26E1E46FDD15   \n",
       "A774D3B3-AE20-4531-B1DA-BFE9982DD86F  A774D3B3-AE20-4531-B1DA-BFE9982DD86F   \n",
       "07A87F90-DC34-4DA7-9D01-54CDF62B0331  07A87F90-DC34-4DA7-9D01-54CDF62B0331   \n",
       "...                                                                    ...   \n",
       "2F343AC0-FF83-46BB-BC13-BA2962DB9FAE  2F343AC0-FF83-46BB-BC13-BA2962DB9FAE   \n",
       "F658F54F-4E2B-41F3-91B6-12B2C7D54FC2  F658F54F-4E2B-41F3-91B6-12B2C7D54FC2   \n",
       "2B528003-0F65-4A17-BBE3-6120F8CEDA63  2B528003-0F65-4A17-BBE3-6120F8CEDA63   \n",
       "DC1C6BF7-C346-4100-AE10-17D2CB5787BC  DC1C6BF7-C346-4100-AE10-17D2CB5787BC   \n",
       "00D32364-D29A-4636-9A6A-A43D369E7211  00D32364-D29A-4636-9A6A-A43D369E7211   \n",
       "\n",
       "                                      tumor_id  \\\n",
       "uuid                                             \n",
       "BB53705C-1CF8-456C-848D-5B4E372511B9     82436   \n",
       "E7B93080-1B3C-408C-9B82-9B0D25E68B1F     82438   \n",
       "C8CE0A14-161B-4654-9C8B-26E1E46FDD15     82538   \n",
       "A774D3B3-AE20-4531-B1DA-BFE9982DD86F     82698   \n",
       "07A87F90-DC34-4DA7-9D01-54CDF62B0331     83246   \n",
       "...                                        ...   \n",
       "2F343AC0-FF83-46BB-BC13-BA2962DB9FAE     70646   \n",
       "F658F54F-4E2B-41F3-91B6-12B2C7D54FC2     70806   \n",
       "2B528003-0F65-4A17-BBE3-6120F8CEDA63     70808   \n",
       "DC1C6BF7-C346-4100-AE10-17D2CB5787BC     70924   \n",
       "00D32364-D29A-4636-9A6A-A43D369E7211     70864   \n",
       "\n",
       "                                                                       txt_LOKALISATION  \\\n",
       "uuid                                                                                      \n",
       "BB53705C-1CF8-456C-848D-5B4E372511B9                                    rechts temporal   \n",
       "E7B93080-1B3C-408C-9B82-9B0D25E68B1F                    supratentoriell, links temporal   \n",
       "C8CE0A14-161B-4654-9C8B-26E1E46FDD15                                              k. A.   \n",
       "A774D3B3-AE20-4531-B1DA-BFE9982DD86F                                    supratentoriell   \n",
       "07A87F90-DC34-4DA7-9D01-54CDF62B0331                    supratentoriell, temporal links   \n",
       "...                                                                                 ...   \n",
       "2F343AC0-FF83-46BB-BC13-BA2962DB9FAE                   supratentoriell, temporal rechts   \n",
       "F658F54F-4E2B-41F3-91B6-12B2C7D54FC2                    supratentoriell, temporal links   \n",
       "2B528003-0F65-4A17-BBE3-6120F8CEDA63                                     infratentorial   \n",
       "DC1C6BF7-C346-4100-AE10-17D2CB5787BC                     supratentoriell, frontal links   \n",
       "00D32364-D29A-4636-9A6A-A43D369E7211  supratentoriell, frontal rechts, kein Kontakt ...   \n",
       "\n",
       "                                      num_ALTERSANGABE  patient_id  \\\n",
       "uuid                                                                 \n",
       "BB53705C-1CF8-456C-848D-5B4E372511B9               NaN       36642   \n",
       "E7B93080-1B3C-408C-9B82-9B0D25E68B1F               NaN       36643   \n",
       "C8CE0A14-161B-4654-9C8B-26E1E46FDD15              43.0       36679   \n",
       "A774D3B3-AE20-4531-B1DA-BFE9982DD86F              40.0       36747   \n",
       "07A87F90-DC34-4DA7-9D01-54CDF62B0331              25.0       27562   \n",
       "...                                                ...         ...   \n",
       "2F343AC0-FF83-46BB-BC13-BA2962DB9FAE              68.0        4236   \n",
       "F658F54F-4E2B-41F3-91B6-12B2C7D54FC2              34.0        4283   \n",
       "2B528003-0F65-4A17-BBE3-6120F8CEDA63              42.0        4288   \n",
       "DC1C6BF7-C346-4100-AE10-17D2CB5787BC              66.0        4336   \n",
       "00D32364-D29A-4636-9A6A-A43D369E7211              74.0        4296   \n",
       "\n",
       "                                          max_super_family_class  \\\n",
       "uuid                                                               \n",
       "BB53705C-1CF8-456C-848D-5B4E372511B9  Adult-type diffuse gliomas   \n",
       "E7B93080-1B3C-408C-9B82-9B0D25E68B1F  Adult-type diffuse gliomas   \n",
       "C8CE0A14-161B-4654-9C8B-26E1E46FDD15  Adult-type diffuse gliomas   \n",
       "A774D3B3-AE20-4531-B1DA-BFE9982DD86F  Adult-type diffuse gliomas   \n",
       "07A87F90-DC34-4DA7-9D01-54CDF62B0331  Adult-type diffuse gliomas   \n",
       "...                                                          ...   \n",
       "2F343AC0-FF83-46BB-BC13-BA2962DB9FAE  Adult-type diffuse gliomas   \n",
       "F658F54F-4E2B-41F3-91B6-12B2C7D54FC2  Adult-type diffuse gliomas   \n",
       "2B528003-0F65-4A17-BBE3-6120F8CEDA63  Adult-type diffuse gliomas   \n",
       "DC1C6BF7-C346-4100-AE10-17D2CB5787BC  Adult-type diffuse gliomas   \n",
       "00D32364-D29A-4636-9A6A-A43D369E7211  Adult-type diffuse gliomas   \n",
       "\n",
       "                                                max_family_class  \\\n",
       "uuid                                                               \n",
       "BB53705C-1CF8-456C-848D-5B4E372511B9  Glioblastoma, IDH-wildtype   \n",
       "E7B93080-1B3C-408C-9B82-9B0D25E68B1F  Glioblastoma, IDH-wildtype   \n",
       "C8CE0A14-161B-4654-9C8B-26E1E46FDD15  diffuse glioma, IDH mutant   \n",
       "A774D3B3-AE20-4531-B1DA-BFE9982DD86F  Glioblastoma, IDH-wildtype   \n",
       "07A87F90-DC34-4DA7-9D01-54CDF62B0331  diffuse glioma, IDH mutant   \n",
       "...                                                          ...   \n",
       "2F343AC0-FF83-46BB-BC13-BA2962DB9FAE  Glioblastoma, IDH-wildtype   \n",
       "F658F54F-4E2B-41F3-91B6-12B2C7D54FC2  Glioblastoma, IDH-wildtype   \n",
       "2B528003-0F65-4A17-BBE3-6120F8CEDA63  diffuse glioma, IDH mutant   \n",
       "DC1C6BF7-C346-4100-AE10-17D2CB5787BC  Glioblastoma, IDH-wildtype   \n",
       "00D32364-D29A-4636-9A6A-A43D369E7211  Glioblastoma, IDH-wildtype   \n",
       "\n",
       "                                                                              max_class  \\\n",
       "uuid                                                                                      \n",
       "BB53705C-1CF8-456C-848D-5B4E372511B9       glioblastoma, IDH-wildtype, mesenchymal type   \n",
       "E7B93080-1B3C-408C-9B82-9B0D25E68B1F       glioblastoma, IDH-wildtype, mesenchymal type   \n",
       "C8CE0A14-161B-4654-9C8B-26E1E46FDD15  diffuse glioma, IDH-mutant and 1p19q retained ...   \n",
       "A774D3B3-AE20-4531-B1DA-BFE9982DD86F       glioblastoma, IDH-wildtype, mesenchymal type   \n",
       "07A87F90-DC34-4DA7-9D01-54CDF62B0331  diffuse glioma, IDH-mutant and 1p19q retained ...   \n",
       "...                                                                                 ...   \n",
       "2F343AC0-FF83-46BB-BC13-BA2962DB9FAE       glioblastoma, IDH-wildtype, mesenchymal type   \n",
       "F658F54F-4E2B-41F3-91B6-12B2C7D54FC2       glioblastoma, IDH-wildtype, mesenchymal type   \n",
       "2B528003-0F65-4A17-BBE3-6120F8CEDA63  diffuse glioma, IDH-mutant and 1p19q retained ...   \n",
       "DC1C6BF7-C346-4100-AE10-17D2CB5787BC              glioblastoma, IDH-wildtype, RTK1 type   \n",
       "00D32364-D29A-4636-9A6A-A43D369E7211       glioblastoma, IDH-wildtype, mesenchymal type   \n",
       "\n",
       "                                                                           max_subclass  \\\n",
       "uuid                                                                                      \n",
       "BB53705C-1CF8-456C-848D-5B4E372511B9  Glioblastoma, IDH-wildtype, [typical mesenchym...   \n",
       "E7B93080-1B3C-408C-9B82-9B0D25E68B1F  Glioblastoma, IDH-wildtype, [typical mesenchym...   \n",
       "C8CE0A14-161B-4654-9C8B-26E1E46FDD15               Astrocytoma, IDH-mutant; lower grade   \n",
       "A774D3B3-AE20-4531-B1DA-BFE9982DD86F  Glioblastoma, IDH-wildtype, [typical mesenchym...   \n",
       "07A87F90-DC34-4DA7-9D01-54CDF62B0331               Astrocytoma, IDH-mutant; lower grade   \n",
       "...                                                                                 ...   \n",
       "2F343AC0-FF83-46BB-BC13-BA2962DB9FAE  Glioblastoma, IDH-wildtype, [typical mesenchym...   \n",
       "F658F54F-4E2B-41F3-91B6-12B2C7D54FC2  Glioblastoma, IDH-wildtype, [typical mesenchym...   \n",
       "2B528003-0F65-4A17-BBE3-6120F8CEDA63               Astrocytoma, IDH-mutant; lower grade   \n",
       "DC1C6BF7-C346-4100-AE10-17D2CB5787BC           Glioblastoma, IDH-wildtype, RTK1 subtype   \n",
       "00D32364-D29A-4636-9A6A-A43D369E7211  Glioblastoma, IDH-wildtype, [typical mesenchym...   \n",
       "\n",
       "                                                         relevant Histo prediction  \\\n",
       "uuid                                                                                 \n",
       "BB53705C-1CF8-456C-848D-5B4E372511B9  glioblastoma, IDH-wildtype, mesenchymal type   \n",
       "E7B93080-1B3C-408C-9B82-9B0D25E68B1F  glioblastoma, IDH-wildtype, mesenchymal type   \n",
       "C8CE0A14-161B-4654-9C8B-26E1E46FDD15          Astrocytoma, IDH-mutant; lower grade   \n",
       "A774D3B3-AE20-4531-B1DA-BFE9982DD86F  glioblastoma, IDH-wildtype, mesenchymal type   \n",
       "07A87F90-DC34-4DA7-9D01-54CDF62B0331          Astrocytoma, IDH-mutant; lower grade   \n",
       "...                                                                            ...   \n",
       "2F343AC0-FF83-46BB-BC13-BA2962DB9FAE  glioblastoma, IDH-wildtype, mesenchymal type   \n",
       "F658F54F-4E2B-41F3-91B6-12B2C7D54FC2  glioblastoma, IDH-wildtype, mesenchymal type   \n",
       "2B528003-0F65-4A17-BBE3-6120F8CEDA63          Astrocytoma, IDH-mutant; lower grade   \n",
       "DC1C6BF7-C346-4100-AE10-17D2CB5787BC      Glioblastoma, IDH-wildtype, RTK1 subtype   \n",
       "00D32364-D29A-4636-9A6A-A43D369E7211  glioblastoma, IDH-wildtype, mesenchymal type   \n",
       "\n",
       "                                     possible further consolidation  \\\n",
       "uuid                                                                  \n",
       "BB53705C-1CF8-456C-848D-5B4E372511B9     glioblastoma, IDH-wildtype   \n",
       "E7B93080-1B3C-408C-9B82-9B0D25E68B1F     glioblastoma, IDH-wildtype   \n",
       "C8CE0A14-161B-4654-9C8B-26E1E46FDD15        Astrocytoma, IDH-mutant   \n",
       "A774D3B3-AE20-4531-B1DA-BFE9982DD86F     glioblastoma, IDH-wildtype   \n",
       "07A87F90-DC34-4DA7-9D01-54CDF62B0331        Astrocytoma, IDH-mutant   \n",
       "...                                                             ...   \n",
       "2F343AC0-FF83-46BB-BC13-BA2962DB9FAE     glioblastoma, IDH-wildtype   \n",
       "F658F54F-4E2B-41F3-91B6-12B2C7D54FC2     glioblastoma, IDH-wildtype   \n",
       "2B528003-0F65-4A17-BBE3-6120F8CEDA63        Astrocytoma, IDH-mutant   \n",
       "DC1C6BF7-C346-4100-AE10-17D2CB5787BC     glioblastoma, IDH-wildtype   \n",
       "00D32364-D29A-4636-9A6A-A43D369E7211     glioblastoma, IDH-wildtype   \n",
       "\n",
       "                                                                     classifciation_v11  \\\n",
       "uuid                                                                                      \n",
       "BB53705C-1CF8-456C-848D-5B4E372511B9  methylation class glioblastoma, IDH wildtype, ...   \n",
       "E7B93080-1B3C-408C-9B82-9B0D25E68B1F  methylation class glioblastoma, IDH wildtype, ...   \n",
       "C8CE0A14-161B-4654-9C8B-26E1E46FDD15  methylation class IDH glioma, subclass astrocy...   \n",
       "A774D3B3-AE20-4531-B1DA-BFE9982DD86F  methylation class glioblastoma, IDH wildtype, ...   \n",
       "07A87F90-DC34-4DA7-9D01-54CDF62B0331  methylation class IDH glioma, subclass astrocy...   \n",
       "...                                                                                 ...   \n",
       "2F343AC0-FF83-46BB-BC13-BA2962DB9FAE  methylation class glioblastoma, IDH wildtype, ...   \n",
       "F658F54F-4E2B-41F3-91B6-12B2C7D54FC2  methylation class glioblastoma, IDH wildtype, ...   \n",
       "2B528003-0F65-4A17-BBE3-6120F8CEDA63  methylation class IDH glioma, subclass astrocy...   \n",
       "DC1C6BF7-C346-4100-AE10-17D2CB5787BC  methylation class glioblastoma, IDH wildtype, ...   \n",
       "00D32364-D29A-4636-9A6A-A43D369E7211  methylation class (anaplastic) pleomorphic xan...   \n",
       "\n",
       "                                      max_cal_v11  \\\n",
       "uuid                                                \n",
       "BB53705C-1CF8-456C-848D-5B4E372511B9     0.986505   \n",
       "E7B93080-1B3C-408C-9B82-9B0D25E68B1F     0.433829   \n",
       "C8CE0A14-161B-4654-9C8B-26E1E46FDD15     0.964166   \n",
       "A774D3B3-AE20-4531-B1DA-BFE9982DD86F     0.915389   \n",
       "07A87F90-DC34-4DA7-9D01-54CDF62B0331     0.968453   \n",
       "...                                           ...   \n",
       "2F343AC0-FF83-46BB-BC13-BA2962DB9FAE     0.353740   \n",
       "F658F54F-4E2B-41F3-91B6-12B2C7D54FC2     0.875576   \n",
       "2B528003-0F65-4A17-BBE3-6120F8CEDA63     0.926260   \n",
       "DC1C6BF7-C346-4100-AE10-17D2CB5787BC     0.991823   \n",
       "00D32364-D29A-4636-9A6A-A43D369E7211     0.379632   \n",
       "\n",
       "                                                             family  \\\n",
       "uuid                                                                  \n",
       "BB53705C-1CF8-456C-848D-5B4E372511B9                   glioblastoma   \n",
       "E7B93080-1B3C-408C-9B82-9B0D25E68B1F                   glioblastoma   \n",
       "C8CE0A14-161B-4654-9C8B-26E1E46FDD15                    astrocytoma   \n",
       "A774D3B3-AE20-4531-B1DA-BFE9982DD86F                   glioblastoma   \n",
       "07A87F90-DC34-4DA7-9D01-54CDF62B0331                    astrocytoma   \n",
       "...                                                             ...   \n",
       "2F343AC0-FF83-46BB-BC13-BA2962DB9FAE                   glioblastoma   \n",
       "F658F54F-4E2B-41F3-91B6-12B2C7D54FC2                   glioblastoma   \n",
       "2B528003-0F65-4A17-BBE3-6120F8CEDA63                    astrocytoma   \n",
       "DC1C6BF7-C346-4100-AE10-17D2CB5787BC                   glioblastoma   \n",
       "00D32364-D29A-4636-9A6A-A43D369E7211  pleomorphic xanthoastrocytoma   \n",
       "\n",
       "                                                                              file_path  \\\n",
       "uuid                                                                                      \n",
       "BB53705C-1CF8-456C-848D-5B4E372511B9  /omics/odcf/analysis/OE0606_projects/pancancer...   \n",
       "E7B93080-1B3C-408C-9B82-9B0D25E68B1F  /omics/odcf/analysis/OE0606_projects/pancancer...   \n",
       "C8CE0A14-161B-4654-9C8B-26E1E46FDD15  /omics/odcf/analysis/OE0606_projects/pancancer...   \n",
       "A774D3B3-AE20-4531-B1DA-BFE9982DD86F  /omics/odcf/analysis/OE0606_projects/pancancer...   \n",
       "07A87F90-DC34-4DA7-9D01-54CDF62B0331                                                NaN   \n",
       "...                                                                                 ...   \n",
       "2F343AC0-FF83-46BB-BC13-BA2962DB9FAE  /omics/odcf/analysis/OE0606_projects/pancancer...   \n",
       "F658F54F-4E2B-41F3-91B6-12B2C7D54FC2  /omics/odcf/analysis/OE0606_projects/pancancer...   \n",
       "2B528003-0F65-4A17-BBE3-6120F8CEDA63  /omics/odcf/analysis/OE0606_projects/pancancer...   \n",
       "DC1C6BF7-C346-4100-AE10-17D2CB5787BC  /omics/odcf/analysis/OE0606_projects/pancancer...   \n",
       "00D32364-D29A-4636-9A6A-A43D369E7211  /omics/odcf/analysis/OE0606_projects/pancancer...   \n",
       "\n",
       "                                                                     slide  \\\n",
       "uuid                                                                         \n",
       "BB53705C-1CF8-456C-848D-5B4E372511B9  BB53705C-1CF8-456C-848D-5B4E372511B9   \n",
       "E7B93080-1B3C-408C-9B82-9B0D25E68B1F  E7B93080-1B3C-408C-9B82-9B0D25E68B1F   \n",
       "C8CE0A14-161B-4654-9C8B-26E1E46FDD15  C8CE0A14-161B-4654-9C8B-26E1E46FDD15   \n",
       "A774D3B3-AE20-4531-B1DA-BFE9982DD86F  A774D3B3-AE20-4531-B1DA-BFE9982DD86F   \n",
       "07A87F90-DC34-4DA7-9D01-54CDF62B0331  07A87F90-DC34-4DA7-9D01-54CDF62B0331   \n",
       "...                                                                    ...   \n",
       "2F343AC0-FF83-46BB-BC13-BA2962DB9FAE  2F343AC0-FF83-46BB-BC13-BA2962DB9FAE   \n",
       "F658F54F-4E2B-41F3-91B6-12B2C7D54FC2  F658F54F-4E2B-41F3-91B6-12B2C7D54FC2   \n",
       "2B528003-0F65-4A17-BBE3-6120F8CEDA63  2B528003-0F65-4A17-BBE3-6120F8CEDA63   \n",
       "DC1C6BF7-C346-4100-AE10-17D2CB5787BC  DC1C6BF7-C346-4100-AE10-17D2CB5787BC   \n",
       "00D32364-D29A-4636-9A6A-A43D369E7211  00D32364-D29A-4636-9A6A-A43D369E7211   \n",
       "\n",
       "                                      Unnamed: 0                 idat  \\\n",
       "uuid                                                                    \n",
       "BB53705C-1CF8-456C-848D-5B4E372511B9      1136.0  101231000009_R04C01   \n",
       "E7B93080-1B3C-408C-9B82-9B0D25E68B1F      1138.0  101231000009_R05C01   \n",
       "C8CE0A14-161B-4654-9C8B-26E1E46FDD15      1149.0  101231000014_R04C02   \n",
       "A774D3B3-AE20-4531-B1DA-BFE9982DD86F      1193.0  101231000034_R04C02   \n",
       "07A87F90-DC34-4DA7-9D01-54CDF62B0331      2125.0  200091640007_R04C01   \n",
       "...                                          ...                  ...   \n",
       "2F343AC0-FF83-46BB-BC13-BA2962DB9FAE    124240.0    9969477088_R04C02   \n",
       "F658F54F-4E2B-41F3-91B6-12B2C7D54FC2    124314.0    9969477102_R02C01   \n",
       "2B528003-0F65-4A17-BBE3-6120F8CEDA63    124316.0    9969477102_R03C01   \n",
       "DC1C6BF7-C346-4100-AE10-17D2CB5787BC    124372.0    9969477108_R01C01   \n",
       "00D32364-D29A-4636-9A6A-A43D369E7211    124373.0    9969477108_R01C02   \n",
       "\n",
       "                                               CT_class  \\\n",
       "uuid                                                      \n",
       "BB53705C-1CF8-456C-848D-5B4E372511B9  No Chromothripsis   \n",
       "E7B93080-1B3C-408C-9B82-9B0D25E68B1F     Chromothripsis   \n",
       "C8CE0A14-161B-4654-9C8B-26E1E46FDD15  No Chromothripsis   \n",
       "A774D3B3-AE20-4531-B1DA-BFE9982DD86F     Chromothripsis   \n",
       "07A87F90-DC34-4DA7-9D01-54CDF62B0331  No Chromothripsis   \n",
       "...                                                 ...   \n",
       "2F343AC0-FF83-46BB-BC13-BA2962DB9FAE  No Chromothripsis   \n",
       "F658F54F-4E2B-41F3-91B6-12B2C7D54FC2  No Chromothripsis   \n",
       "2B528003-0F65-4A17-BBE3-6120F8CEDA63  No Chromothripsis   \n",
       "DC1C6BF7-C346-4100-AE10-17D2CB5787BC  No Chromothripsis   \n",
       "00D32364-D29A-4636-9A6A-A43D369E7211  No Chromothripsis   \n",
       "\n",
       "                                                                         file  \n",
       "uuid                                                                           \n",
       "BB53705C-1CF8-456C-848D-5B4E372511B9  BB53705C-1CF8-456C-848D-5B4E372511B9.h5  \n",
       "E7B93080-1B3C-408C-9B82-9B0D25E68B1F  E7B93080-1B3C-408C-9B82-9B0D25E68B1F.h5  \n",
       "C8CE0A14-161B-4654-9C8B-26E1E46FDD15  C8CE0A14-161B-4654-9C8B-26E1E46FDD15.h5  \n",
       "A774D3B3-AE20-4531-B1DA-BFE9982DD86F  A774D3B3-AE20-4531-B1DA-BFE9982DD86F.h5  \n",
       "07A87F90-DC34-4DA7-9D01-54CDF62B0331  07A87F90-DC34-4DA7-9D01-54CDF62B0331.h5  \n",
       "...                                                                       ...  \n",
       "2F343AC0-FF83-46BB-BC13-BA2962DB9FAE  2F343AC0-FF83-46BB-BC13-BA2962DB9FAE.h5  \n",
       "F658F54F-4E2B-41F3-91B6-12B2C7D54FC2  F658F54F-4E2B-41F3-91B6-12B2C7D54FC2.h5  \n",
       "2B528003-0F65-4A17-BBE3-6120F8CEDA63  2B528003-0F65-4A17-BBE3-6120F8CEDA63.h5  \n",
       "DC1C6BF7-C346-4100-AE10-17D2CB5787BC  DC1C6BF7-C346-4100-AE10-17D2CB5787BC.h5  \n",
       "00D32364-D29A-4636-9A6A-A43D369E7211  00D32364-D29A-4636-9A6A-A43D369E7211.h5  \n",
       "\n",
       "[395 rows x 20 columns]"
      ]
     },
     "execution_count": 15,
     "metadata": {},
     "output_type": "execute_result"
    }
   ],
   "source": [
    "slide_annots.loc[myx]"
   ]
  },
  {
   "cell_type": "code",
   "execution_count": 16,
   "id": "174c5af4-6930-4415-a0c6-5e476846d364",
   "metadata": {},
   "outputs": [],
   "source": [
    "test_features_ukhd = [h5py.File(path_to_extracted_features + \"/\" + file + \".h5\", 'r')['feats'][:] for file in slide_annots.loc[myx].uuid]"
   ]
  },
  {
   "cell_type": "code",
   "execution_count": null,
   "id": "ebbc51a4-2e6d-4370-8fc0-30615f07cda7",
   "metadata": {},
   "outputs": [],
   "source": []
  },
  {
   "cell_type": "code",
   "execution_count": 17,
   "id": "e5ea3ff6-3ce3-4580-a66a-21c6bc13494e",
   "metadata": {},
   "outputs": [
    {
     "name": "stderr",
     "output_type": "stream",
     "text": [
      "/home/p163v/mambaforge/envs/marugoto/lib/python3.9/site-packages/umap/distances.py:1063: NumbaDeprecationWarning: \u001b[1mThe 'nopython' keyword argument was not supplied to the 'numba.jit' decorator. The implicit default value for this argument is currently False, but it will be changed to True in Numba 0.59.0. See https://numba.readthedocs.io/en/stable/reference/deprecation.html#deprecation-of-object-mode-fall-back-behaviour-when-using-jit for details.\u001b[0m\n",
      "  @numba.jit()\n",
      "/home/p163v/mambaforge/envs/marugoto/lib/python3.9/site-packages/umap/distances.py:1071: NumbaDeprecationWarning: \u001b[1mThe 'nopython' keyword argument was not supplied to the 'numba.jit' decorator. The implicit default value for this argument is currently False, but it will be changed to True in Numba 0.59.0. See https://numba.readthedocs.io/en/stable/reference/deprecation.html#deprecation-of-object-mode-fall-back-behaviour-when-using-jit for details.\u001b[0m\n",
      "  @numba.jit()\n",
      "/home/p163v/mambaforge/envs/marugoto/lib/python3.9/site-packages/umap/distances.py:1086: NumbaDeprecationWarning: \u001b[1mThe 'nopython' keyword argument was not supplied to the 'numba.jit' decorator. The implicit default value for this argument is currently False, but it will be changed to True in Numba 0.59.0. See https://numba.readthedocs.io/en/stable/reference/deprecation.html#deprecation-of-object-mode-fall-back-behaviour-when-using-jit for details.\u001b[0m\n",
      "  @numba.jit()\n",
      "/home/p163v/mambaforge/envs/marugoto/lib/python3.9/site-packages/umap/umap_.py:660: NumbaDeprecationWarning: \u001b[1mThe 'nopython' keyword argument was not supplied to the 'numba.jit' decorator. The implicit default value for this argument is currently False, but it will be changed to True in Numba 0.59.0. See https://numba.readthedocs.io/en/stable/reference/deprecation.html#deprecation-of-object-mode-fall-back-behaviour-when-using-jit for details.\u001b[0m\n",
      "  @numba.jit()\n"
     ]
    }
   ],
   "source": [
    "import umap"
   ]
  },
  {
   "cell_type": "code",
   "execution_count": 18,
   "id": "f9b7f6df-15c3-419c-8af1-4ee7b246f750",
   "metadata": {},
   "outputs": [],
   "source": [
    "ukhd_concat = np.concatenate(test_features_ukhd[0:10],axis=0)"
   ]
  },
  {
   "cell_type": "code",
   "execution_count": 19,
   "id": "536fec03-62b5-42de-b823-f8c4a0512029",
   "metadata": {},
   "outputs": [],
   "source": [
    "tcga_concat = np.concatenate(test_features_tcga[0:10],axis=0)"
   ]
  },
  {
   "cell_type": "code",
   "execution_count": 20,
   "id": "fa1c14f5-bd97-453d-a2a0-2964d5290173",
   "metadata": {},
   "outputs": [],
   "source": [
    "all_concat = np.concatenate([tcga_concat, ukhd_concat],axis=0)"
   ]
  },
  {
   "cell_type": "code",
   "execution_count": null,
   "id": "343b8f1b-c75e-4609-a558-2fbcae1a7e2c",
   "metadata": {},
   "outputs": [],
   "source": []
  },
  {
   "cell_type": "code",
   "execution_count": 21,
   "id": "96b71243-f406-4eaa-95f3-4b20f47173b1",
   "metadata": {},
   "outputs": [
    {
     "ename": "KeyboardInterrupt",
     "evalue": "",
     "output_type": "error",
     "traceback": [
      "\u001b[0;31m---------------------------------------------------------------------------\u001b[0m",
      "\u001b[0;31mKeyboardInterrupt\u001b[0m                         Traceback (most recent call last)",
      "Cell \u001b[0;32mIn[21], line 1\u001b[0m\n\u001b[0;32m----> 1\u001b[0m embedding \u001b[38;5;241m=\u001b[39m \u001b[43mumap\u001b[49m\u001b[38;5;241;43m.\u001b[39;49m\u001b[43mUMAP\u001b[49m\u001b[43m(\u001b[49m\u001b[43mn_neighbors\u001b[49m\u001b[38;5;241;43m=\u001b[39;49m\u001b[38;5;241;43m50\u001b[39;49m\u001b[43m,\u001b[49m\n\u001b[1;32m      2\u001b[0m \u001b[43m                      \u001b[49m\u001b[43mmetric\u001b[49m\u001b[38;5;241;43m=\u001b[39;49m\u001b[38;5;124;43m'\u001b[39;49m\u001b[38;5;124;43mcorrelation\u001b[39;49m\u001b[38;5;124;43m'\u001b[39;49m\u001b[43m)\u001b[49m\u001b[38;5;241;43m.\u001b[39;49m\u001b[43mfit_transform\u001b[49m\u001b[43m(\u001b[49m\u001b[43mall_concat\u001b[49m\u001b[43m)\u001b[49m\n",
      "File \u001b[0;32m~/mambaforge/envs/marugoto/lib/python3.9/site-packages/umap/umap_.py:2772\u001b[0m, in \u001b[0;36mUMAP.fit_transform\u001b[0;34m(self, X, y)\u001b[0m\n\u001b[1;32m   2742\u001b[0m \u001b[38;5;28;01mdef\u001b[39;00m \u001b[38;5;21mfit_transform\u001b[39m(\u001b[38;5;28mself\u001b[39m, X, y\u001b[38;5;241m=\u001b[39m\u001b[38;5;28;01mNone\u001b[39;00m):\n\u001b[1;32m   2743\u001b[0m \u001b[38;5;250m    \u001b[39m\u001b[38;5;124;03m\"\"\"Fit X into an embedded space and return that transformed\u001b[39;00m\n\u001b[1;32m   2744\u001b[0m \u001b[38;5;124;03m    output.\u001b[39;00m\n\u001b[1;32m   2745\u001b[0m \n\u001b[0;32m   (...)\u001b[0m\n\u001b[1;32m   2770\u001b[0m \u001b[38;5;124;03m        Local radii of data points in the embedding (log-transformed).\u001b[39;00m\n\u001b[1;32m   2771\u001b[0m \u001b[38;5;124;03m    \"\"\"\u001b[39;00m\n\u001b[0;32m-> 2772\u001b[0m     \u001b[38;5;28;43mself\u001b[39;49m\u001b[38;5;241;43m.\u001b[39;49m\u001b[43mfit\u001b[49m\u001b[43m(\u001b[49m\u001b[43mX\u001b[49m\u001b[43m,\u001b[49m\u001b[43m \u001b[49m\u001b[43my\u001b[49m\u001b[43m)\u001b[49m\n\u001b[1;32m   2773\u001b[0m     \u001b[38;5;28;01mif\u001b[39;00m \u001b[38;5;28mself\u001b[39m\u001b[38;5;241m.\u001b[39mtransform_mode \u001b[38;5;241m==\u001b[39m \u001b[38;5;124m\"\u001b[39m\u001b[38;5;124membedding\u001b[39m\u001b[38;5;124m\"\u001b[39m:\n\u001b[1;32m   2774\u001b[0m         \u001b[38;5;28;01mif\u001b[39;00m \u001b[38;5;28mself\u001b[39m\u001b[38;5;241m.\u001b[39moutput_dens:\n",
      "File \u001b[0;32m~/mambaforge/envs/marugoto/lib/python3.9/site-packages/umap/umap_.py:2684\u001b[0m, in \u001b[0;36mUMAP.fit\u001b[0;34m(self, X, y)\u001b[0m\n\u001b[1;32m   2681\u001b[0m     \u001b[38;5;28mprint\u001b[39m(ts(), \u001b[38;5;124m\"\u001b[39m\u001b[38;5;124mConstruct embedding\u001b[39m\u001b[38;5;124m\"\u001b[39m)\n\u001b[1;32m   2683\u001b[0m \u001b[38;5;28;01mif\u001b[39;00m \u001b[38;5;28mself\u001b[39m\u001b[38;5;241m.\u001b[39mtransform_mode \u001b[38;5;241m==\u001b[39m \u001b[38;5;124m\"\u001b[39m\u001b[38;5;124membedding\u001b[39m\u001b[38;5;124m\"\u001b[39m:\n\u001b[0;32m-> 2684\u001b[0m     \u001b[38;5;28mself\u001b[39m\u001b[38;5;241m.\u001b[39membedding_, aux_data \u001b[38;5;241m=\u001b[39m \u001b[38;5;28;43mself\u001b[39;49m\u001b[38;5;241;43m.\u001b[39;49m\u001b[43m_fit_embed_data\u001b[49m\u001b[43m(\u001b[49m\n\u001b[1;32m   2685\u001b[0m \u001b[43m        \u001b[49m\u001b[38;5;28;43mself\u001b[39;49m\u001b[38;5;241;43m.\u001b[39;49m\u001b[43m_raw_data\u001b[49m\u001b[43m[\u001b[49m\u001b[43mindex\u001b[49m\u001b[43m]\u001b[49m\u001b[43m,\u001b[49m\n\u001b[1;32m   2686\u001b[0m \u001b[43m        \u001b[49m\u001b[38;5;28;43mself\u001b[39;49m\u001b[38;5;241;43m.\u001b[39;49m\u001b[43mn_epochs\u001b[49m\u001b[43m,\u001b[49m\n\u001b[1;32m   2687\u001b[0m \u001b[43m        \u001b[49m\u001b[43minit\u001b[49m\u001b[43m,\u001b[49m\n\u001b[1;32m   2688\u001b[0m \u001b[43m        \u001b[49m\u001b[43mrandom_state\u001b[49m\u001b[43m,\u001b[49m\u001b[43m  \u001b[49m\u001b[38;5;66;43;03m# JH why raw data?\u001b[39;49;00m\n\u001b[1;32m   2689\u001b[0m \u001b[43m    \u001b[49m\u001b[43m)\u001b[49m\n\u001b[1;32m   2690\u001b[0m     \u001b[38;5;66;03m# Assign any points that are fully disconnected from our manifold(s) to have embedding\u001b[39;00m\n\u001b[1;32m   2691\u001b[0m     \u001b[38;5;66;03m# coordinates of np.nan.  These will be filtered by our plotting functions automatically.\u001b[39;00m\n\u001b[1;32m   2692\u001b[0m     \u001b[38;5;66;03m# They also prevent users from being deceived a distance query to one of these points.\u001b[39;00m\n\u001b[1;32m   2693\u001b[0m     \u001b[38;5;66;03m# Might be worth moving this into simplicial_set_embedding or _fit_embed_data\u001b[39;00m\n\u001b[1;32m   2694\u001b[0m     disconnected_vertices \u001b[38;5;241m=\u001b[39m np\u001b[38;5;241m.\u001b[39marray(\u001b[38;5;28mself\u001b[39m\u001b[38;5;241m.\u001b[39mgraph_\u001b[38;5;241m.\u001b[39msum(axis\u001b[38;5;241m=\u001b[39m\u001b[38;5;241m1\u001b[39m))\u001b[38;5;241m.\u001b[39mflatten() \u001b[38;5;241m==\u001b[39m \u001b[38;5;241m0\u001b[39m\n",
      "File \u001b[0;32m~/mambaforge/envs/marugoto/lib/python3.9/site-packages/umap/umap_.py:2717\u001b[0m, in \u001b[0;36mUMAP._fit_embed_data\u001b[0;34m(self, X, n_epochs, init, random_state)\u001b[0m\n\u001b[1;32m   2713\u001b[0m \u001b[38;5;28;01mdef\u001b[39;00m \u001b[38;5;21m_fit_embed_data\u001b[39m(\u001b[38;5;28mself\u001b[39m, X, n_epochs, init, random_state):\n\u001b[1;32m   2714\u001b[0m \u001b[38;5;250m    \u001b[39m\u001b[38;5;124;03m\"\"\"A method wrapper for simplicial_set_embedding that can be\u001b[39;00m\n\u001b[1;32m   2715\u001b[0m \u001b[38;5;124;03m    replaced by subclasses.\u001b[39;00m\n\u001b[1;32m   2716\u001b[0m \u001b[38;5;124;03m    \"\"\"\u001b[39;00m\n\u001b[0;32m-> 2717\u001b[0m     \u001b[38;5;28;01mreturn\u001b[39;00m \u001b[43msimplicial_set_embedding\u001b[49m\u001b[43m(\u001b[49m\n\u001b[1;32m   2718\u001b[0m \u001b[43m        \u001b[49m\u001b[43mX\u001b[49m\u001b[43m,\u001b[49m\n\u001b[1;32m   2719\u001b[0m \u001b[43m        \u001b[49m\u001b[38;5;28;43mself\u001b[39;49m\u001b[38;5;241;43m.\u001b[39;49m\u001b[43mgraph_\u001b[49m\u001b[43m,\u001b[49m\n\u001b[1;32m   2720\u001b[0m \u001b[43m        \u001b[49m\u001b[38;5;28;43mself\u001b[39;49m\u001b[38;5;241;43m.\u001b[39;49m\u001b[43mn_components\u001b[49m\u001b[43m,\u001b[49m\n\u001b[1;32m   2721\u001b[0m \u001b[43m        \u001b[49m\u001b[38;5;28;43mself\u001b[39;49m\u001b[38;5;241;43m.\u001b[39;49m\u001b[43m_initial_alpha\u001b[49m\u001b[43m,\u001b[49m\n\u001b[1;32m   2722\u001b[0m \u001b[43m        \u001b[49m\u001b[38;5;28;43mself\u001b[39;49m\u001b[38;5;241;43m.\u001b[39;49m\u001b[43m_a\u001b[49m\u001b[43m,\u001b[49m\n\u001b[1;32m   2723\u001b[0m \u001b[43m        \u001b[49m\u001b[38;5;28;43mself\u001b[39;49m\u001b[38;5;241;43m.\u001b[39;49m\u001b[43m_b\u001b[49m\u001b[43m,\u001b[49m\n\u001b[1;32m   2724\u001b[0m \u001b[43m        \u001b[49m\u001b[38;5;28;43mself\u001b[39;49m\u001b[38;5;241;43m.\u001b[39;49m\u001b[43mrepulsion_strength\u001b[49m\u001b[43m,\u001b[49m\n\u001b[1;32m   2725\u001b[0m \u001b[43m        \u001b[49m\u001b[38;5;28;43mself\u001b[39;49m\u001b[38;5;241;43m.\u001b[39;49m\u001b[43mnegative_sample_rate\u001b[49m\u001b[43m,\u001b[49m\n\u001b[1;32m   2726\u001b[0m \u001b[43m        \u001b[49m\u001b[43mn_epochs\u001b[49m\u001b[43m,\u001b[49m\n\u001b[1;32m   2727\u001b[0m \u001b[43m        \u001b[49m\u001b[43minit\u001b[49m\u001b[43m,\u001b[49m\n\u001b[1;32m   2728\u001b[0m \u001b[43m        \u001b[49m\u001b[43mrandom_state\u001b[49m\u001b[43m,\u001b[49m\n\u001b[1;32m   2729\u001b[0m \u001b[43m        \u001b[49m\u001b[38;5;28;43mself\u001b[39;49m\u001b[38;5;241;43m.\u001b[39;49m\u001b[43m_input_distance_func\u001b[49m\u001b[43m,\u001b[49m\n\u001b[1;32m   2730\u001b[0m \u001b[43m        \u001b[49m\u001b[38;5;28;43mself\u001b[39;49m\u001b[38;5;241;43m.\u001b[39;49m\u001b[43m_metric_kwds\u001b[49m\u001b[43m,\u001b[49m\n\u001b[1;32m   2731\u001b[0m \u001b[43m        \u001b[49m\u001b[38;5;28;43mself\u001b[39;49m\u001b[38;5;241;43m.\u001b[39;49m\u001b[43mdensmap\u001b[49m\u001b[43m,\u001b[49m\n\u001b[1;32m   2732\u001b[0m \u001b[43m        \u001b[49m\u001b[38;5;28;43mself\u001b[39;49m\u001b[38;5;241;43m.\u001b[39;49m\u001b[43m_densmap_kwds\u001b[49m\u001b[43m,\u001b[49m\n\u001b[1;32m   2733\u001b[0m \u001b[43m        \u001b[49m\u001b[38;5;28;43mself\u001b[39;49m\u001b[38;5;241;43m.\u001b[39;49m\u001b[43moutput_dens\u001b[49m\u001b[43m,\u001b[49m\n\u001b[1;32m   2734\u001b[0m \u001b[43m        \u001b[49m\u001b[38;5;28;43mself\u001b[39;49m\u001b[38;5;241;43m.\u001b[39;49m\u001b[43m_output_distance_func\u001b[49m\u001b[43m,\u001b[49m\n\u001b[1;32m   2735\u001b[0m \u001b[43m        \u001b[49m\u001b[38;5;28;43mself\u001b[39;49m\u001b[38;5;241;43m.\u001b[39;49m\u001b[43m_output_metric_kwds\u001b[49m\u001b[43m,\u001b[49m\n\u001b[1;32m   2736\u001b[0m \u001b[43m        \u001b[49m\u001b[38;5;28;43mself\u001b[39;49m\u001b[38;5;241;43m.\u001b[39;49m\u001b[43moutput_metric\u001b[49m\u001b[43m \u001b[49m\u001b[38;5;129;43;01min\u001b[39;49;00m\u001b[43m \u001b[49m\u001b[43m(\u001b[49m\u001b[38;5;124;43m\"\u001b[39;49m\u001b[38;5;124;43meuclidean\u001b[39;49m\u001b[38;5;124;43m\"\u001b[39;49m\u001b[43m,\u001b[49m\u001b[43m \u001b[49m\u001b[38;5;124;43m\"\u001b[39;49m\u001b[38;5;124;43ml2\u001b[39;49m\u001b[38;5;124;43m\"\u001b[39;49m\u001b[43m)\u001b[49m\u001b[43m,\u001b[49m\n\u001b[1;32m   2737\u001b[0m \u001b[43m        \u001b[49m\u001b[38;5;28;43mself\u001b[39;49m\u001b[38;5;241;43m.\u001b[39;49m\u001b[43mrandom_state\u001b[49m\u001b[43m \u001b[49m\u001b[38;5;129;43;01mis\u001b[39;49;00m\u001b[43m \u001b[49m\u001b[38;5;28;43;01mNone\u001b[39;49;00m\u001b[43m,\u001b[49m\n\u001b[1;32m   2738\u001b[0m \u001b[43m        \u001b[49m\u001b[38;5;28;43mself\u001b[39;49m\u001b[38;5;241;43m.\u001b[39;49m\u001b[43mverbose\u001b[49m\u001b[43m,\u001b[49m\n\u001b[1;32m   2739\u001b[0m \u001b[43m        \u001b[49m\u001b[43mtqdm_kwds\u001b[49m\u001b[38;5;241;43m=\u001b[39;49m\u001b[38;5;28;43mself\u001b[39;49m\u001b[38;5;241;43m.\u001b[39;49m\u001b[43mtqdm_kwds\u001b[49m\u001b[43m,\u001b[49m\n\u001b[1;32m   2740\u001b[0m \u001b[43m    \u001b[49m\u001b[43m)\u001b[49m\n",
      "File \u001b[0;32m~/mambaforge/envs/marugoto/lib/python3.9/site-packages/umap/umap_.py:1078\u001b[0m, in \u001b[0;36msimplicial_set_embedding\u001b[0;34m(data, graph, n_components, initial_alpha, a, b, gamma, negative_sample_rate, n_epochs, init, random_state, metric, metric_kwds, densmap, densmap_kwds, output_dens, output_metric, output_metric_kwds, euclidean_output, parallel, verbose, tqdm_kwds)\u001b[0m\n\u001b[1;32m   1073\u001b[0m     embedding \u001b[38;5;241m=\u001b[39m random_state\u001b[38;5;241m.\u001b[39muniform(\n\u001b[1;32m   1074\u001b[0m         low\u001b[38;5;241m=\u001b[39m\u001b[38;5;241m-\u001b[39m\u001b[38;5;241m10.0\u001b[39m, high\u001b[38;5;241m=\u001b[39m\u001b[38;5;241m10.0\u001b[39m, size\u001b[38;5;241m=\u001b[39m(graph\u001b[38;5;241m.\u001b[39mshape[\u001b[38;5;241m0\u001b[39m], n_components)\n\u001b[1;32m   1075\u001b[0m     )\u001b[38;5;241m.\u001b[39mastype(np\u001b[38;5;241m.\u001b[39mfloat32)\n\u001b[1;32m   1076\u001b[0m \u001b[38;5;28;01melif\u001b[39;00m \u001b[38;5;28misinstance\u001b[39m(init, \u001b[38;5;28mstr\u001b[39m) \u001b[38;5;129;01mand\u001b[39;00m init \u001b[38;5;241m==\u001b[39m \u001b[38;5;124m\"\u001b[39m\u001b[38;5;124mspectral\u001b[39m\u001b[38;5;124m\"\u001b[39m:\n\u001b[1;32m   1077\u001b[0m     \u001b[38;5;66;03m# We add a little noise to avoid local minima for optimization to come\u001b[39;00m\n\u001b[0;32m-> 1078\u001b[0m     initialisation \u001b[38;5;241m=\u001b[39m \u001b[43mspectral_layout\u001b[49m\u001b[43m(\u001b[49m\n\u001b[1;32m   1079\u001b[0m \u001b[43m        \u001b[49m\u001b[43mdata\u001b[49m\u001b[43m,\u001b[49m\n\u001b[1;32m   1080\u001b[0m \u001b[43m        \u001b[49m\u001b[43mgraph\u001b[49m\u001b[43m,\u001b[49m\n\u001b[1;32m   1081\u001b[0m \u001b[43m        \u001b[49m\u001b[43mn_components\u001b[49m\u001b[43m,\u001b[49m\n\u001b[1;32m   1082\u001b[0m \u001b[43m        \u001b[49m\u001b[43mrandom_state\u001b[49m\u001b[43m,\u001b[49m\n\u001b[1;32m   1083\u001b[0m \u001b[43m        \u001b[49m\u001b[43mmetric\u001b[49m\u001b[38;5;241;43m=\u001b[39;49m\u001b[43mmetric\u001b[49m\u001b[43m,\u001b[49m\n\u001b[1;32m   1084\u001b[0m \u001b[43m        \u001b[49m\u001b[43mmetric_kwds\u001b[49m\u001b[38;5;241;43m=\u001b[39;49m\u001b[43mmetric_kwds\u001b[49m\u001b[43m,\u001b[49m\n\u001b[1;32m   1085\u001b[0m \u001b[43m    \u001b[49m\u001b[43m)\u001b[49m\n\u001b[1;32m   1086\u001b[0m     expansion \u001b[38;5;241m=\u001b[39m \u001b[38;5;241m10.0\u001b[39m \u001b[38;5;241m/\u001b[39m np\u001b[38;5;241m.\u001b[39mabs(initialisation)\u001b[38;5;241m.\u001b[39mmax()\n\u001b[1;32m   1087\u001b[0m     embedding \u001b[38;5;241m=\u001b[39m (initialisation \u001b[38;5;241m*\u001b[39m expansion)\u001b[38;5;241m.\u001b[39mastype(\n\u001b[1;32m   1088\u001b[0m         np\u001b[38;5;241m.\u001b[39mfloat32\n\u001b[1;32m   1089\u001b[0m     ) \u001b[38;5;241m+\u001b[39m random_state\u001b[38;5;241m.\u001b[39mnormal(\n\u001b[0;32m   (...)\u001b[0m\n\u001b[1;32m   1092\u001b[0m         np\u001b[38;5;241m.\u001b[39mfloat32\n\u001b[1;32m   1093\u001b[0m     )\n",
      "File \u001b[0;32m~/mambaforge/envs/marugoto/lib/python3.9/site-packages/umap/spectral.py:332\u001b[0m, in \u001b[0;36mspectral_layout\u001b[0;34m(data, graph, dim, random_state, metric, metric_kwds)\u001b[0m\n\u001b[1;32m    330\u001b[0m \u001b[38;5;28;01mtry\u001b[39;00m:\n\u001b[1;32m    331\u001b[0m     \u001b[38;5;28;01mif\u001b[39;00m L\u001b[38;5;241m.\u001b[39mshape[\u001b[38;5;241m0\u001b[39m] \u001b[38;5;241m<\u001b[39m \u001b[38;5;241m2000000\u001b[39m:\n\u001b[0;32m--> 332\u001b[0m         eigenvalues, eigenvectors \u001b[38;5;241m=\u001b[39m \u001b[43mscipy\u001b[49m\u001b[38;5;241;43m.\u001b[39;49m\u001b[43msparse\u001b[49m\u001b[38;5;241;43m.\u001b[39;49m\u001b[43mlinalg\u001b[49m\u001b[38;5;241;43m.\u001b[39;49m\u001b[43meigsh\u001b[49m\u001b[43m(\u001b[49m\n\u001b[1;32m    333\u001b[0m \u001b[43m            \u001b[49m\u001b[43mL\u001b[49m\u001b[43m,\u001b[49m\n\u001b[1;32m    334\u001b[0m \u001b[43m            \u001b[49m\u001b[43mk\u001b[49m\u001b[43m,\u001b[49m\n\u001b[1;32m    335\u001b[0m \u001b[43m            \u001b[49m\u001b[43mwhich\u001b[49m\u001b[38;5;241;43m=\u001b[39;49m\u001b[38;5;124;43m\"\u001b[39;49m\u001b[38;5;124;43mSM\u001b[39;49m\u001b[38;5;124;43m\"\u001b[39;49m\u001b[43m,\u001b[49m\n\u001b[1;32m    336\u001b[0m \u001b[43m            \u001b[49m\u001b[43mncv\u001b[49m\u001b[38;5;241;43m=\u001b[39;49m\u001b[43mnum_lanczos_vectors\u001b[49m\u001b[43m,\u001b[49m\n\u001b[1;32m    337\u001b[0m \u001b[43m            \u001b[49m\u001b[43mtol\u001b[49m\u001b[38;5;241;43m=\u001b[39;49m\u001b[38;5;241;43m1e-4\u001b[39;49m\u001b[43m,\u001b[49m\n\u001b[1;32m    338\u001b[0m \u001b[43m            \u001b[49m\u001b[43mv0\u001b[49m\u001b[38;5;241;43m=\u001b[39;49m\u001b[43mnp\u001b[49m\u001b[38;5;241;43m.\u001b[39;49m\u001b[43mones\u001b[49m\u001b[43m(\u001b[49m\u001b[43mL\u001b[49m\u001b[38;5;241;43m.\u001b[39;49m\u001b[43mshape\u001b[49m\u001b[43m[\u001b[49m\u001b[38;5;241;43m0\u001b[39;49m\u001b[43m]\u001b[49m\u001b[43m)\u001b[49m\u001b[43m,\u001b[49m\n\u001b[1;32m    339\u001b[0m \u001b[43m            \u001b[49m\u001b[43mmaxiter\u001b[49m\u001b[38;5;241;43m=\u001b[39;49m\u001b[43mgraph\u001b[49m\u001b[38;5;241;43m.\u001b[39;49m\u001b[43mshape\u001b[49m\u001b[43m[\u001b[49m\u001b[38;5;241;43m0\u001b[39;49m\u001b[43m]\u001b[49m\u001b[43m \u001b[49m\u001b[38;5;241;43m*\u001b[39;49m\u001b[43m \u001b[49m\u001b[38;5;241;43m5\u001b[39;49m\u001b[43m,\u001b[49m\n\u001b[1;32m    340\u001b[0m \u001b[43m        \u001b[49m\u001b[43m)\u001b[49m\n\u001b[1;32m    341\u001b[0m     \u001b[38;5;28;01melse\u001b[39;00m:\n\u001b[1;32m    342\u001b[0m         eigenvalues, eigenvectors \u001b[38;5;241m=\u001b[39m scipy\u001b[38;5;241m.\u001b[39msparse\u001b[38;5;241m.\u001b[39mlinalg\u001b[38;5;241m.\u001b[39mlobpcg(\n\u001b[1;32m    343\u001b[0m             L, random_state\u001b[38;5;241m.\u001b[39mnormal(size\u001b[38;5;241m=\u001b[39m(L\u001b[38;5;241m.\u001b[39mshape[\u001b[38;5;241m0\u001b[39m], k)), largest\u001b[38;5;241m=\u001b[39m\u001b[38;5;28;01mFalse\u001b[39;00m, tol\u001b[38;5;241m=\u001b[39m\u001b[38;5;241m1e-8\u001b[39m\n\u001b[1;32m    344\u001b[0m         )\n",
      "File \u001b[0;32m~/mambaforge/envs/marugoto/lib/python3.9/site-packages/scipy/sparse/linalg/_eigen/arpack/arpack.py:1697\u001b[0m, in \u001b[0;36meigsh\u001b[0;34m(A, k, M, sigma, which, v0, ncv, maxiter, tol, return_eigenvectors, Minv, OPinv, mode)\u001b[0m\n\u001b[1;32m   1695\u001b[0m \u001b[38;5;28;01mwith\u001b[39;00m _ARPACK_LOCK:\n\u001b[1;32m   1696\u001b[0m     \u001b[38;5;28;01mwhile\u001b[39;00m \u001b[38;5;129;01mnot\u001b[39;00m params\u001b[38;5;241m.\u001b[39mconverged:\n\u001b[0;32m-> 1697\u001b[0m         \u001b[43mparams\u001b[49m\u001b[38;5;241;43m.\u001b[39;49m\u001b[43miterate\u001b[49m\u001b[43m(\u001b[49m\u001b[43m)\u001b[49m\n\u001b[1;32m   1699\u001b[0m     \u001b[38;5;28;01mreturn\u001b[39;00m params\u001b[38;5;241m.\u001b[39mextract(return_eigenvectors)\n",
      "File \u001b[0;32m~/mambaforge/envs/marugoto/lib/python3.9/site-packages/scipy/sparse/linalg/_eigen/arpack/arpack.py:537\u001b[0m, in \u001b[0;36m_SymmetricArpackParams.iterate\u001b[0;34m(self)\u001b[0m\n\u001b[1;32m    535\u001b[0m \u001b[38;5;28;01mdef\u001b[39;00m \u001b[38;5;21miterate\u001b[39m(\u001b[38;5;28mself\u001b[39m):\n\u001b[1;32m    536\u001b[0m     \u001b[38;5;28mself\u001b[39m\u001b[38;5;241m.\u001b[39mido, \u001b[38;5;28mself\u001b[39m\u001b[38;5;241m.\u001b[39mtol, \u001b[38;5;28mself\u001b[39m\u001b[38;5;241m.\u001b[39mresid, \u001b[38;5;28mself\u001b[39m\u001b[38;5;241m.\u001b[39mv, \u001b[38;5;28mself\u001b[39m\u001b[38;5;241m.\u001b[39miparam, \u001b[38;5;28mself\u001b[39m\u001b[38;5;241m.\u001b[39mipntr, \u001b[38;5;28mself\u001b[39m\u001b[38;5;241m.\u001b[39minfo \u001b[38;5;241m=\u001b[39m \\\n\u001b[0;32m--> 537\u001b[0m         \u001b[38;5;28;43mself\u001b[39;49m\u001b[38;5;241;43m.\u001b[39;49m\u001b[43m_arpack_solver\u001b[49m\u001b[43m(\u001b[49m\u001b[38;5;28;43mself\u001b[39;49m\u001b[38;5;241;43m.\u001b[39;49m\u001b[43mido\u001b[49m\u001b[43m,\u001b[49m\u001b[43m \u001b[49m\u001b[38;5;28;43mself\u001b[39;49m\u001b[38;5;241;43m.\u001b[39;49m\u001b[43mbmat\u001b[49m\u001b[43m,\u001b[49m\u001b[43m \u001b[49m\u001b[38;5;28;43mself\u001b[39;49m\u001b[38;5;241;43m.\u001b[39;49m\u001b[43mwhich\u001b[49m\u001b[43m,\u001b[49m\u001b[43m \u001b[49m\u001b[38;5;28;43mself\u001b[39;49m\u001b[38;5;241;43m.\u001b[39;49m\u001b[43mk\u001b[49m\u001b[43m,\u001b[49m\n\u001b[1;32m    538\u001b[0m \u001b[43m                            \u001b[49m\u001b[38;5;28;43mself\u001b[39;49m\u001b[38;5;241;43m.\u001b[39;49m\u001b[43mtol\u001b[49m\u001b[43m,\u001b[49m\u001b[43m \u001b[49m\u001b[38;5;28;43mself\u001b[39;49m\u001b[38;5;241;43m.\u001b[39;49m\u001b[43mresid\u001b[49m\u001b[43m,\u001b[49m\u001b[43m \u001b[49m\u001b[38;5;28;43mself\u001b[39;49m\u001b[38;5;241;43m.\u001b[39;49m\u001b[43mv\u001b[49m\u001b[43m,\u001b[49m\u001b[43m \u001b[49m\u001b[38;5;28;43mself\u001b[39;49m\u001b[38;5;241;43m.\u001b[39;49m\u001b[43miparam\u001b[49m\u001b[43m,\u001b[49m\n\u001b[1;32m    539\u001b[0m \u001b[43m                            \u001b[49m\u001b[38;5;28;43mself\u001b[39;49m\u001b[38;5;241;43m.\u001b[39;49m\u001b[43mipntr\u001b[49m\u001b[43m,\u001b[49m\u001b[43m \u001b[49m\u001b[38;5;28;43mself\u001b[39;49m\u001b[38;5;241;43m.\u001b[39;49m\u001b[43mworkd\u001b[49m\u001b[43m,\u001b[49m\u001b[43m \u001b[49m\u001b[38;5;28;43mself\u001b[39;49m\u001b[38;5;241;43m.\u001b[39;49m\u001b[43mworkl\u001b[49m\u001b[43m,\u001b[49m\u001b[43m \u001b[49m\u001b[38;5;28;43mself\u001b[39;49m\u001b[38;5;241;43m.\u001b[39;49m\u001b[43minfo\u001b[49m\u001b[43m)\u001b[49m\n\u001b[1;32m    541\u001b[0m     xslice \u001b[38;5;241m=\u001b[39m \u001b[38;5;28mslice\u001b[39m(\u001b[38;5;28mself\u001b[39m\u001b[38;5;241m.\u001b[39mipntr[\u001b[38;5;241m0\u001b[39m] \u001b[38;5;241m-\u001b[39m \u001b[38;5;241m1\u001b[39m, \u001b[38;5;28mself\u001b[39m\u001b[38;5;241m.\u001b[39mipntr[\u001b[38;5;241m0\u001b[39m] \u001b[38;5;241m-\u001b[39m \u001b[38;5;241m1\u001b[39m \u001b[38;5;241m+\u001b[39m \u001b[38;5;28mself\u001b[39m\u001b[38;5;241m.\u001b[39mn)\n\u001b[1;32m    542\u001b[0m     yslice \u001b[38;5;241m=\u001b[39m \u001b[38;5;28mslice\u001b[39m(\u001b[38;5;28mself\u001b[39m\u001b[38;5;241m.\u001b[39mipntr[\u001b[38;5;241m1\u001b[39m] \u001b[38;5;241m-\u001b[39m \u001b[38;5;241m1\u001b[39m, \u001b[38;5;28mself\u001b[39m\u001b[38;5;241m.\u001b[39mipntr[\u001b[38;5;241m1\u001b[39m] \u001b[38;5;241m-\u001b[39m \u001b[38;5;241m1\u001b[39m \u001b[38;5;241m+\u001b[39m \u001b[38;5;28mself\u001b[39m\u001b[38;5;241m.\u001b[39mn)\n",
      "\u001b[0;31mKeyboardInterrupt\u001b[0m: "
     ]
    }
   ],
   "source": [
    "embedding = umap.UMAP(n_neighbors=50,\n",
    "                      metric='correlation').fit_transform(all_concat)"
   ]
  },
  {
   "cell_type": "code",
   "execution_count": null,
   "id": "eb1bf289-0ad5-46df-8328-a21b61233b49",
   "metadata": {},
   "outputs": [],
   "source": [
    "plt.scatter(\n",
    "    embedding[:, 0],\n",
    "    embedding[:, 1],\n",
    "    c=[x for x in patids])"
   ]
  },
  {
   "cell_type": "code",
   "execution_count": null,
   "id": "b4681a54-8619-4ba2-95f2-4d07242cc9df",
   "metadata": {},
   "outputs": [],
   "source": []
  }
 ],
 "metadata": {
  "kernelspec": {
   "display_name": "marugoto",
   "language": "python",
   "name": "marugoto"
  },
  "language_info": {
   "codemirror_mode": {
    "name": "ipython",
    "version": 3
   },
   "file_extension": ".py",
   "mimetype": "text/x-python",
   "name": "python",
   "nbconvert_exporter": "python",
   "pygments_lexer": "ipython3",
   "version": "3.9.16"
  }
 },
 "nbformat": 4,
 "nbformat_minor": 5
}
