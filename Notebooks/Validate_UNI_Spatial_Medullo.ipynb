{
 "cells": [
  {
   "cell_type": "code",
   "execution_count": 1,
   "id": "59266045-c6f9-446f-881a-6f2312c8b2a9",
   "metadata": {},
   "outputs": [],
   "source": [
    "import numpy as np\n",
    "import pandas as pd\n",
    "import os\n",
    "import glob\n",
    "import h5py\n",
    "import wandb\n",
    "\n",
    "import string\n",
    "import random\n",
    "\n",
    "import torch \n",
    "from torch.utils.data import Dataset, DataLoader\n",
    "import torch.nn as nn\n",
    "import torch.nn.functional as F\n",
    "\n",
    "import lightning as L\n",
    "from lightning.pytorch.loggers import WandbLogger\n",
    "from lightning.pytorch.callbacks import ModelCheckpoint\n",
    "\n",
    "\n",
    "from torch import optim, utils, Tensor\n",
    "\n",
    "import matplotlib.pyplot as plt\n",
    "from sklearn.metrics import RocCurveDisplay, PrecisionRecallDisplay\n",
    "import sklearn.linear_model\n",
    "\n",
    "\n",
    "from itables import show\n",
    "from src.model.SimpleMILModels import Attention, MaxMIL, AttentionResNet\n",
    "from src.dataloaders.DataLoaders import RetCCLFeatureLoader, RetCCLFeatureLoaderMem\n",
    "\n",
    "\n",
    "import zarr\n",
    "import seaborn as sns\n",
    "\n",
    "recompute_attn = False"
   ]
  },
  {
   "cell_type": "code",
   "execution_count": 2,
   "id": "451747b6-8b79-4507-bc0e-dc686d1a504c",
   "metadata": {},
   "outputs": [],
   "source": [
    "def sigmoid_array(x):\n",
    "    return 1 / (1 + np.exp(-x))"
   ]
  },
  {
   "cell_type": "code",
   "execution_count": 3,
   "id": "686eaf7a-756c-4295-bc0b-b5c017bd0a8c",
   "metadata": {},
   "outputs": [],
   "source": [
    "\n",
    "\n",
    "import os\n",
    "os.environ['HTTP_PROXY']=\"http://www-int.dkfz-heidelberg.de:80\"\n",
    "os.environ['HTTPS_PROXY']=\"http://www-int.dkfz-heidelberg.de:80\"\n"
   ]
  },
  {
   "cell_type": "code",
   "execution_count": 4,
   "id": "78da8760-889c-4579-91af-d871c3921745",
   "metadata": {},
   "outputs": [],
   "source": [
    "group = \"6X01HP\""
   ]
  },
  {
   "cell_type": "code",
   "execution_count": 5,
   "id": "79e534dd-6813-4613-932c-e91515e8dc81",
   "metadata": {},
   "outputs": [],
   "source": [
    "\n",
    "api = wandb.Api()\n"
   ]
  },
  {
   "cell_type": "code",
   "execution_count": 6,
   "id": "793d221d-8f81-46aa-80c1-af0e41b9f4f8",
   "metadata": {},
   "outputs": [],
   "source": [
    "runs = api.runs(path=\"psmirnov/UKHD_RetCLL_299_CT\", filters={\"group\": group})"
   ]
  },
  {
   "cell_type": "code",
   "execution_count": 7,
   "id": "7e4e6452",
   "metadata": {},
   "outputs": [
    {
     "data": {
      "text/plain": [
       "<Runs psmirnov/UKHD_RetCLL_299_CT>"
      ]
     },
     "execution_count": 7,
     "metadata": {},
     "output_type": "execute_result"
    }
   ],
   "source": [
    "runs"
   ]
  },
  {
   "cell_type": "markdown",
   "id": "fc2c9b30-0872-4260-9f2b-7a24ff457977",
   "metadata": {},
   "source": [
    "Load in the features (not too much memory needed)"
   ]
  },
  {
   "cell_type": "code",
   "execution_count": 10,
   "id": "25423f2c-c8c1-4a98-9b94-27a2c8b8f125",
   "metadata": {},
   "outputs": [],
   "source": [
    "path_to_extracted_features = '/home/p163v/histopathology/spatial_medullo/UNI_embeddings/pt'"
   ]
  },
  {
   "cell_type": "code",
   "execution_count": 11,
   "id": "e3b3dd57-edc3-4a5e-88be-0ae58d6f876c",
   "metadata": {},
   "outputs": [],
   "source": [
    "slide_names = ['1.1','1.2','1.3','2.1','2.2','2.3','3.1','3.4','4.1','4.2','4.3','4.4','5.1','5.2','5.3','5.4']"
   ]
  },
  {
   "cell_type": "code",
   "execution_count": 22,
   "id": "68421f5d-2c35-4156-bd16-1c28479b457d",
   "metadata": {},
   "outputs": [],
   "source": [
    "test_features = [torch.load(path_to_extracted_features + \"/\" + file + \".pt\").numpy() for file in slide_names]"
   ]
  },
  {
   "cell_type": "code",
   "execution_count": 23,
   "id": "0a82e044-e5e1-4600-b697-066ae9f71b38",
   "metadata": {},
   "outputs": [
    {
     "data": {
      "text/plain": [
       "[(9366, 1024),\n",
       " (12771, 1024),\n",
       " (9345, 1024),\n",
       " (2095, 1024),\n",
       " (645, 1024),\n",
       " (304, 1024),\n",
       " (1401, 1024),\n",
       " (6323, 1024),\n",
       " (3557, 1024),\n",
       " (13051, 1024),\n",
       " (3674, 1024),\n",
       " (3706, 1024),\n",
       " (2192, 1024),\n",
       " (5170, 1024),\n",
       " (25360, 1024),\n",
       " (11410, 1024)]"
      ]
     },
     "execution_count": 23,
     "metadata": {},
     "output_type": "execute_result"
    }
   ],
   "source": [
    "[x.shape for x in test_features]"
   ]
  },
  {
   "cell_type": "code",
   "execution_count": 24,
   "id": "754fa4cb-35f6-43b8-97fa-c10906963b79",
   "metadata": {},
   "outputs": [],
   "source": [
    "test_labels = [0 for x in test_features]"
   ]
  },
  {
   "cell_type": "markdown",
   "id": "e86e9442-4c59-4408-ba97-a686866791d3",
   "metadata": {},
   "source": [
    "# Loss"
   ]
  },
  {
   "cell_type": "markdown",
   "id": "efd811b6-abd4-45f2-9b0a-f226f45b290d",
   "metadata": {},
   "source": [
    "We use the loss as the early stopping criteria\n"
   ]
  },
  {
   "cell_type": "code",
   "execution_count": 25,
   "id": "4b017628-c5dc-4e09-95e2-6c75694b1ad4",
   "metadata": {},
   "outputs": [],
   "source": [
    "model_list = list()\n",
    "attention_list = list()\n",
    "prob_list = list()\n",
    "pred_list = list()\n",
    "cv =  lambda x: np.std(x) / np.mean(x)"
   ]
  },
  {
   "cell_type": "code",
   "execution_count": 26,
   "id": "6a41ed02-176f-4332-b86a-ff1bb29cd2fa",
   "metadata": {},
   "outputs": [],
   "source": [
    "test_data = RetCCLFeatureLoaderMem(test_features, np.array(test_labels), patches_per_iter='all')\n",
    "\n",
    "RetCCLTest = DataLoader(test_data, batch_size=1, num_workers=1)#, sampler=valid_Sampler)\n"
   ]
  },
  {
   "cell_type": "code",
   "execution_count": 27,
   "id": "f3fc2638-28d6-473b-915c-b43a9dcdc65a",
   "metadata": {
    "tags": []
   },
   "outputs": [],
   "source": [
    "for ii in range(len(runs)):\n",
    "    \n",
    "    arts = runs[ii].logged_artifacts()\n",
    "    arts_dict = {a.name.removesuffix(':'+a.version).split('-')[0]: a for a in arts}\n",
    "    checkpoint_folder_name = arts_dict['model'].name.split('-')[1].removesuffix(':'+arts_dict['model'].version)\n",
    "    args = runs[0].config\n",
    "\n",
    "    model = Attention(1024, lr=args['lr'], weight_decay=args['weight_decay'], hidden_dim=args['hidden_dim'], attention_dim=args['attention_dim'], class_weights=torch.tensor(float(args['class_weights'])))\n",
    "    chkpt_file = glob.glob('lightning_logs/'+checkpoint_folder_name+'/checkpoints/best_loss*')[0]\n",
    "    model = model.load_from_checkpoint(chkpt_file, map_location=torch.device('cpu'))\n",
    "    model.eval()\n",
    "    model_list.append(model)\n",
    "    model_forward = [model.forward(x.to(model.device)) for x,y in iter(RetCCLTest)]\n",
    "    model_attention = [x[2].detach().numpy() for x in model_forward]\n",
    "    model_prob = [x[0].detach().numpy() for x in model_forward]\n",
    "    model_pred = [x[1].detach().numpy() for x in model_forward]\n",
    "\n",
    "    attention_list.append(model_attention)\n",
    "    prob_list.append(model_prob)\n",
    "    pred_list.append(model_pred)\n",
    "    "
   ]
  },
  {
   "cell_type": "code",
   "execution_count": 30,
   "id": "b488eaf9-dc69-4e0f-8412-608def5f1f46",
   "metadata": {},
   "outputs": [],
   "source": [
    "prob_list = [np.concatenate(x) for x in prob_list]\n",
    "pred_list = [np.concatenate(x) for x in pred_list]\n"
   ]
  },
  {
   "cell_type": "code",
   "execution_count": 81,
   "id": "9a656094-8cce-47cc-8207-809a70aa7cb9",
   "metadata": {},
   "outputs": [
    {
     "data": {
      "text/plain": [
       "[array([0., 0., 1., 0., 1., 1., 0., 1., 0., 0., 0., 0., 0., 0., 0., 0.],\n",
       "       dtype=float32),\n",
       " array([0., 0., 1., 0., 1., 1., 0., 1., 0., 0., 0., 0., 0., 0., 0., 1.],\n",
       "       dtype=float32),\n",
       " array([0., 0., 1., 1., 1., 1., 0., 1., 0., 0., 0., 0., 0., 0., 0., 1.],\n",
       "       dtype=float32),\n",
       " array([0., 0., 1., 0., 1., 1., 0., 1., 0., 0., 0., 0., 0., 0., 0., 0.],\n",
       "       dtype=float32),\n",
       " array([0., 0., 1., 0., 0., 0., 0., 1., 0., 0., 0., 0., 0., 0., 0., 0.],\n",
       "       dtype=float32)]"
      ]
     },
     "execution_count": 81,
     "metadata": {},
     "output_type": "execute_result"
    }
   ],
   "source": [
    "pred_list"
   ]
  },
  {
   "cell_type": "code",
   "execution_count": 79,
   "id": "c0d79abd-f8be-4d5a-9a96-3cc1e1a54ea0",
   "metadata": {},
   "outputs": [],
   "source": [
    "pred_test = np.mean(np.vstack(pred_list), axis=0)"
   ]
  },
  {
   "cell_type": "code",
   "execution_count": 80,
   "id": "789bb7b9-e260-4b10-8e83-55111de515a4",
   "metadata": {},
   "outputs": [
    {
     "data": {
      "text/plain": [
       "array([False, False,  True, False,  True,  True, False,  True, False,\n",
       "       False, False, False, False, False, False, False])"
      ]
     },
     "execution_count": 80,
     "metadata": {},
     "output_type": "execute_result"
    }
   ],
   "source": [
    "pred_test"
   ]
  },
  {
   "cell_type": "code",
   "execution_count": 74,
   "id": "26ea995b-0f57-4dd9-bc51-bc6e7d50ce10",
   "metadata": {},
   "outputs": [],
   "source": [
    "prob_test = np.mean(np.vstack(prob_list), axis=0)"
   ]
  },
  {
   "cell_type": "code",
   "execution_count": 43,
   "id": "1763f304-ee8e-4104-a037-7dd38b9428d5",
   "metadata": {},
   "outputs": [],
   "source": [
    "# prob_test = np.mean(np.vstack([sigmoid_array(x) for x in prob_list]), axis=0)\n",
    "\n",
    "\n",
    "\n"
   ]
  },
  {
   "cell_type": "markdown",
   "id": "0e8e5a41-2dda-49a7-8df5-fce699e9de7a",
   "metadata": {},
   "source": [
    "Lets load in the real test labels."
   ]
  },
  {
   "cell_type": "code",
   "execution_count": 47,
   "id": "1344f8bc-7583-425a-b3ef-56da71df23ac",
   "metadata": {},
   "outputs": [],
   "source": [
    "human_sample_map = {\n",
    "    \"1.1\": 1,\n",
    "    \"1.2\": 1,\n",
    "    \"1.3\": 1,\n",
    "    \"3.4\": 1,\n",
    "    \"2.1\": 1,\n",
    "    \"2.2\": 1,\n",
    "    \"2.4\": 1,\n",
    "    \"3.1\": 1,\n",
    "    \"4.1\": 0,\n",
    "    \"4.3\": 0,\n",
    "    \"5.2\": 0,\n",
    "    \"5.3\": 0,\n",
    "    \"5.4\": 0\n",
    "}\n"
   ]
  },
  {
   "cell_type": "code",
   "execution_count": 50,
   "id": "358ec824-979d-4c18-874e-4d4269acb6de",
   "metadata": {},
   "outputs": [],
   "source": [
    "test_labels = [human_sample_map[x] for x in slide_names if x in human_sample_map]"
   ]
  },
  {
   "cell_type": "code",
   "execution_count": 75,
   "id": "fb438af6-665f-450d-9942-7079675c58e1",
   "metadata": {},
   "outputs": [
    {
     "data": {
      "image/png": "[encoded data removed]",
      "text/plain": [
       "<Figure size 640x480 with 1 Axes>"
      ]
     },
     "metadata": {},
     "output_type": "display_data"
    }
   ],
   "source": [
    "\n",
    "\n",
    "fig, ax = plt.subplots()\n",
    "RocCurveDisplay.from_predictions(\n",
    "    np.array(test_labels),\n",
    "    prob_test[[x in human_sample_map for x in slide_names]],\n",
    "    name=\"CT Prediction Images\",\n",
    "    color=\"darkorange\",\n",
    "    plot_chance_level=True,\n",
    "    ax=ax\n",
    ")\n",
    "plt.axis(\"square\")\n",
    "plt.xlabel(\"False Positive Rate\")\n",
    "plt.ylabel(\"True Positive Rate\")\n",
    "plt.title(\"\")\n",
    "plt.legend()\n",
    "plt.savefig(\"/home/p163v/histopathology/Notebooks/SpatialMedullo_ROC.png\")\n",
    "plt.show()\n"
   ]
  },
  {
   "cell_type": "code",
   "execution_count": 76,
   "id": "8c085cec-69fb-4f78-aee8-64421f942707",
   "metadata": {},
   "outputs": [
    {
     "data": {
      "image/png": "[encoded data removed]",
      "text/plain": [
       "<Figure size 640x480 with 1 Axes>"
      ]
     },
     "metadata": {},
     "output_type": "display_data"
    }
   ],
   "source": [
    "fig, ax = plt.subplots()\n",
    "PrecisionRecallDisplay.from_predictions(\n",
    "    np.array(test_labels),\n",
    "    prob_test[[x in human_sample_map for x in slide_names]],\n",
    "    name=\"CT Prediction Images\",\n",
    "    color=\"darkorange\",\n",
    "    plot_chance_level=True,\n",
    "    ax=ax\n",
    ")\n",
    "plt.axis(\"square\")\n",
    "plt.xlabel(\"False Positive Rate\")\n",
    "plt.ylabel(\"True Positive Rate\")\n",
    "plt.title(\"\")\n",
    "plt.legend()\n",
    "plt.savefig(\"/home/p163v/histopathology/Notebooks/Spatial_Medullo_Validation_AUPR_UNI.png\")\n",
    "plt.show()"
   ]
  },
  {
   "cell_type": "code",
   "execution_count": 64,
   "id": "1f668419-5db1-4279-a82b-929446f91a4e",
   "metadata": {},
   "outputs": [
    {
     "data": {
      "text/plain": [
       "array([1, 1, 1, 1, 1, 1, 1, 0, 0, 0, 0, 0])"
      ]
     },
     "execution_count": 64,
     "metadata": {},
     "output_type": "execute_result"
    }
   ],
   "source": [
    "np.array(test_labels)"
   ]
  },
  {
   "cell_type": "code",
   "execution_count": 77,
   "id": "ae615bb1-0d85-45dc-90f5-0fcedd4cfea5",
   "metadata": {},
   "outputs": [
    {
     "data": {
      "text/plain": [
       "array([-0.5708208 , -0.8194804 ,  0.6803135 , -0.13930836,  0.48819017,\n",
       "       -0.6618797 ,  1.6025183 , -2.0573845 , -2.223454  , -0.97018737,\n",
       "       -2.629653  , -0.20183325], dtype=float32)"
      ]
     },
     "execution_count": 77,
     "metadata": {},
     "output_type": "execute_result"
    }
   ],
   "source": [
    "prob_test[[x in human_sample_map for x in slide_names]]"
   ]
  },
  {
   "cell_type": "code",
   "execution_count": 85,
   "id": "18e537fb-ba78-4b6b-9da6-aa857067f833",
   "metadata": {},
   "outputs": [
    {
     "data": {
      "text/plain": [
       "array([False, False,  True,  True,  True, False,  True, False, False,\n",
       "       False, False, False])"
      ]
     },
     "execution_count": 85,
     "metadata": {},
     "output_type": "execute_result"
    }
   ],
   "source": [
    "prob_test[[x in human_sample_map for x in slide_names]]>-0.2"
   ]
  },
  {
   "cell_type": "code",
   "execution_count": 82,
   "id": "c7e22174-5529-48c6-a6b5-26c95526fe92",
   "metadata": {},
   "outputs": [
    {
     "data": {
      "text/plain": [
       "array([False, False,  True, False,  True, False,  True, False, False,\n",
       "       False, False, False])"
      ]
     },
     "execution_count": 82,
     "metadata": {},
     "output_type": "execute_result"
    }
   ],
   "source": [
    "pred_test[[x in human_sample_map for x in slide_names]]"
   ]
  },
  {
   "cell_type": "code",
   "execution_count": 83,
   "id": "8ce52ad6-74cf-42cd-8826-7a58f24da84c",
   "metadata": {},
   "outputs": [
    {
     "data": {
      "text/plain": [
       "array([1, 1, 1, 1, 1, 1, 1, 0, 0, 0, 0, 0])"
      ]
     },
     "execution_count": 83,
     "metadata": {},
     "output_type": "execute_result"
    }
   ],
   "source": [
    "np.array(test_labels)"
   ]
  },
  {
   "cell_type": "code",
   "execution_count": 70,
   "id": "0715a61d-e638-4e90-9177-5237f16f393f",
   "metadata": {},
   "outputs": [
    {
     "data": {
      "text/plain": [
       "['1.1',\n",
       " '1.2',\n",
       " '1.3',\n",
       " '2.1',\n",
       " '2.2',\n",
       " '3.1',\n",
       " '3.4',\n",
       " '4.1',\n",
       " '4.3',\n",
       " '5.2',\n",
       " '5.3',\n",
       " '5.4']"
      ]
     },
     "execution_count": 70,
     "metadata": {},
     "output_type": "execute_result"
    }
   ],
   "source": [
    "[x for x in slide_names if x in human_sample_map]"
   ]
  },
  {
   "cell_type": "markdown",
   "id": "810d9f88-deb4-4d73-a6c4-3ab8d4ca9467",
   "metadata": {},
   "source": [
    "It looks like we have two issues in general:\n",
    "\n",
    "1. The model is not very well calibrated. Could this be the number of tiles we use in the inference is so much larger? In theory, we normalize the attention, but I should think about if this is a multiplicative effect. \\[It could also be due to our terrible accuracy in the actual training labels...\\] \n",
    "2. some tiles are misclassified, specifically 5.4, 1.1 and 1.2"
   ]
  },
  {
   "cell_type": "code",
   "execution_count": 86,
   "id": "a884c313-3dd1-435a-829d-8dcdb8989425",
   "metadata": {
    "collapsed": true,
    "jupyter": {
     "outputs_hidden": true
    },
    "tags": []
   },
   "outputs": [
    {
     "data": {
      "text/plain": [
       "[array([[[4.7229238e-05, 7.8991929e-05, 2.6659001e-04, ...,\n",
       "          4.9688657e-05, 2.8723478e-05, 1.0803978e-04]]], dtype=float32),\n",
       " array([[[4.6924255e-05, 4.7319994e-05, 1.5131356e-04, ...,\n",
       "          2.8882656e-05, 1.3053539e-04, 4.7242811e-05]]], dtype=float32),\n",
       " array([[[1.1806309e-04, 3.6188227e-05, 1.0808467e-04, ...,\n",
       "          9.6537558e-05, 6.6526605e-05, 1.6437910e-04]]], dtype=float32),\n",
       " array([[[0.00080988, 0.00017306, 0.00015909, ..., 0.00021964,\n",
       "          0.00022908, 0.00026596]]], dtype=float32),\n",
       " array([[[0.00090216, 0.00133377, 0.00094064, 0.00333099, 0.00134083,\n",
       "          0.00163747, 0.00144631, 0.00115724, 0.00081026, 0.00264642,\n",
       "          0.0013052 , 0.00130009, 0.00127588, 0.00119168, 0.00143427,\n",
       "          0.0010394 , 0.0018061 , 0.0011748 , 0.0016106 , 0.00158278,\n",
       "          0.00143191, 0.001456  , 0.00097431, 0.00096242, 0.00117899,\n",
       "          0.00101074, 0.00154411, 0.00146852, 0.00082835, 0.00451006,\n",
       "          0.00180385, 0.00110132, 0.00182998, 0.00137918, 0.00290894,\n",
       "          0.00120562, 0.00166709, 0.00088984, 0.00279635, 0.00118303,\n",
       "          0.00221714, 0.00096897, 0.0015211 , 0.00167367, 0.00149387,\n",
       "          0.00338975, 0.00106602, 0.00129682, 0.00105599, 0.00242023,\n",
       "          0.001537  , 0.00112948, 0.00125679, 0.00347467, 0.00145783,\n",
       "          0.00092004, 0.00107668, 0.00138269, 0.00126983, 0.00097023,\n",
       "          0.00151402, 0.00149933, 0.001192  , 0.00103035, 0.0024948 ,\n",
       "          0.00178075, 0.00096093, 0.00083769, 0.00139476, 0.00116877,\n",
       "          0.00139611, 0.00104644, 0.00152615, 0.00173061, 0.0012489 ,\n",
       "          0.00107894, 0.00186497, 0.00117223, 0.00125398, 0.0012628 ,\n",
       "          0.00099722, 0.00126964, 0.00122022, 0.00146236, 0.00163151,\n",
       "          0.0011614 , 0.00120867, 0.00129414, 0.00118267, 0.00115513,\n",
       "          0.00268616, 0.00251447, 0.00111781, 0.00396648, 0.00116146,\n",
       "          0.00157577, 0.00156777, 0.00227973, 0.00090306, 0.0007999 ,\n",
       "          0.00080318, 0.0026691 , 0.00070529, 0.00183434, 0.00167824,\n",
       "          0.00175182, 0.00156714, 0.00181155, 0.00248273, 0.00144281,\n",
       "          0.0018163 , 0.00228749, 0.00246396, 0.00079557, 0.00208104,\n",
       "          0.00097376, 0.0006884 , 0.00152826, 0.00163334, 0.00089557,\n",
       "          0.00083956, 0.00115687, 0.00100093, 0.00107742, 0.00103872,\n",
       "          0.00113983, 0.00169897, 0.00138927, 0.00095819, 0.00103424,\n",
       "          0.00106672, 0.00141119, 0.0011073 , 0.00171074, 0.00179743,\n",
       "          0.00154183, 0.00095727, 0.00140126, 0.00153885, 0.00090417,\n",
       "          0.00160346, 0.00143641, 0.00080675, 0.00117762, 0.00159911,\n",
       "          0.00159034, 0.00187982, 0.00103928, 0.00150411, 0.00099092,\n",
       "          0.00113398, 0.00118409, 0.0019826 , 0.00245728, 0.00210725,\n",
       "          0.00154178, 0.00227792, 0.00411971, 0.00130673, 0.0025134 ,\n",
       "          0.00088869, 0.00066142, 0.00102862, 0.00174635, 0.00122218,\n",
       "          0.00170465, 0.00094519, 0.00150658, 0.0013499 , 0.00177337,\n",
       "          0.001364  , 0.00085203, 0.00106903, 0.00102577, 0.00105349,\n",
       "          0.00224412, 0.00160629, 0.00091141, 0.00104103, 0.00299746,\n",
       "          0.0012563 , 0.0008798 , 0.00168791, 0.00232037, 0.00125166,\n",
       "          0.00117777, 0.00147605, 0.0012572 , 0.0013872 , 0.00101928,\n",
       "          0.00126275, 0.00077402, 0.00095815, 0.00157171, 0.00233499,\n",
       "          0.00133004, 0.00254466, 0.00119177, 0.00120159, 0.00169379,\n",
       "          0.00249818, 0.00149058, 0.0010824 , 0.00160036, 0.00077339,\n",
       "          0.00101963, 0.00180314, 0.00136412, 0.00218362, 0.00139551,\n",
       "          0.00158458, 0.00095423, 0.00177483, 0.00147687, 0.00160669,\n",
       "          0.00156317, 0.00068362, 0.00122001, 0.0011581 , 0.00085031,\n",
       "          0.00180365, 0.00162767, 0.00122695, 0.00078311, 0.00146919,\n",
       "          0.00121846, 0.0009369 , 0.00135825, 0.00281639, 0.00275144,\n",
       "          0.00120468, 0.00297269, 0.00184394, 0.00121441, 0.00121942,\n",
       "          0.00294143, 0.00127766, 0.00138844, 0.00097806, 0.0010606 ,\n",
       "          0.00265914, 0.00118398, 0.0012832 , 0.00080336, 0.00175741,\n",
       "          0.00314393, 0.00209156, 0.00092404, 0.00154446, 0.00293907,\n",
       "          0.00134428, 0.00085003, 0.00144615, 0.00137425, 0.00152266,\n",
       "          0.00315105, 0.00243889, 0.00199864, 0.00252094, 0.00141872,\n",
       "          0.0018729 , 0.0023434 , 0.00399388, 0.00091259, 0.00106521,\n",
       "          0.00100666, 0.00185597, 0.00167093, 0.00179193, 0.00154164,\n",
       "          0.0007726 , 0.00139073, 0.00078615, 0.00132326, 0.00153912,\n",
       "          0.00144905, 0.00109989, 0.00177741, 0.00077611, 0.00149047,\n",
       "          0.00088442, 0.00245734, 0.00114985, 0.00071301, 0.00185385,\n",
       "          0.00102353, 0.00117946, 0.00148882, 0.0012324 , 0.00138091,\n",
       "          0.00212637, 0.00082387, 0.00080032, 0.00074809, 0.00231963,\n",
       "          0.00086806, 0.0026986 , 0.00139426, 0.00149024, 0.00122544,\n",
       "          0.00107468, 0.00122935, 0.00368497, 0.00142043, 0.00146822,\n",
       "          0.00114095, 0.00175324, 0.00160823, 0.00066983, 0.0017186 ,\n",
       "          0.00092263, 0.0014312 , 0.00116802, 0.00120509, 0.00106767,\n",
       "          0.00144767, 0.00134606, 0.00187255, 0.00088701, 0.00269737,\n",
       "          0.00093294, 0.00074794, 0.0012427 , 0.00259198, 0.00090333,\n",
       "          0.0008931 , 0.00129453, 0.00106594, 0.00136356, 0.00105794,\n",
       "          0.00221156, 0.00103678, 0.00210951, 0.00102198, 0.00366069,\n",
       "          0.00125993, 0.001817  , 0.00294426, 0.00149717, 0.00086009,\n",
       "          0.00094871, 0.00068473, 0.0021265 , 0.00112017, 0.00238301,\n",
       "          0.00144109, 0.00166158, 0.00214322, 0.00108118, 0.00135505,\n",
       "          0.00127539, 0.00107139, 0.0027155 , 0.00205584, 0.00135971,\n",
       "          0.00212817, 0.00229025, 0.00147355, 0.0012296 , 0.00215036,\n",
       "          0.00147065, 0.00178548, 0.00111838, 0.00248471, 0.00123686,\n",
       "          0.00098852, 0.00128765, 0.00111834, 0.00166391, 0.0016569 ,\n",
       "          0.00103919, 0.00132132, 0.00114987, 0.00329385, 0.00093783,\n",
       "          0.00137824, 0.00198055, 0.00144872, 0.00070586, 0.00189627,\n",
       "          0.00173767, 0.00355184, 0.00128769, 0.00121775, 0.00231107,\n",
       "          0.001697  , 0.00204693, 0.00142078, 0.00122476, 0.00150025,\n",
       "          0.00278969, 0.00176053, 0.00094708, 0.00189087, 0.00114419,\n",
       "          0.00120628, 0.0013208 , 0.00133757, 0.0008907 , 0.00302829,\n",
       "          0.00119979, 0.00205994, 0.00149307, 0.00157393, 0.00343922,\n",
       "          0.00099242, 0.00172471, 0.00221429, 0.00109194, 0.0013821 ,\n",
       "          0.00167107, 0.00249567, 0.00250615, 0.00099101, 0.00145938,\n",
       "          0.00097642, 0.00136511, 0.00151075, 0.00132519, 0.0014402 ,\n",
       "          0.00242104, 0.00098917, 0.00338995, 0.00089085, 0.00250719,\n",
       "          0.00172751, 0.0037246 , 0.00111233, 0.00277818, 0.00129817,\n",
       "          0.00111107, 0.00273796, 0.00148889, 0.00154719, 0.00135295,\n",
       "          0.00130891, 0.00153884, 0.00097689, 0.000867  , 0.00096529,\n",
       "          0.00092329, 0.00127132, 0.00154001, 0.00139066, 0.00261713,\n",
       "          0.00113537, 0.00241901, 0.00337876, 0.00128624, 0.00309738,\n",
       "          0.00299243, 0.00091503, 0.00378043, 0.00111801, 0.00106686,\n",
       "          0.00125275, 0.00149142, 0.00116684, 0.00138598, 0.00090793,\n",
       "          0.00100369, 0.00225665, 0.00159203, 0.00127758, 0.00113907,\n",
       "          0.00172421, 0.0011341 , 0.00088898, 0.00251544, 0.00122251,\n",
       "          0.00172059, 0.00105326, 0.00125698, 0.00152052, 0.00089287,\n",
       "          0.00148808, 0.00111863, 0.00130957, 0.00094467, 0.00126685,\n",
       "          0.00128645, 0.00117508, 0.00159154, 0.00129061, 0.00163508,\n",
       "          0.00109453, 0.00169194, 0.00090562, 0.00257073, 0.00114285,\n",
       "          0.00131425, 0.0010186 , 0.00054344, 0.00152858, 0.00170588,\n",
       "          0.00129104, 0.00128803, 0.00363388, 0.00148044, 0.00187142,\n",
       "          0.00138151, 0.00240782, 0.0018138 , 0.00192537, 0.00480191,\n",
       "          0.00244071, 0.00110375, 0.001407  , 0.00444646, 0.00102309,\n",
       "          0.00091984, 0.00097112, 0.00084515, 0.00147035, 0.00082013,\n",
       "          0.00262289, 0.0014736 , 0.00086952, 0.00087756, 0.00209415,\n",
       "          0.00147654, 0.00124074, 0.00163329, 0.00184655, 0.00107875,\n",
       "          0.00127513, 0.00129041, 0.00197251, 0.00137381, 0.00140846,\n",
       "          0.00283141, 0.0012174 , 0.00116349, 0.00105926, 0.00167616,\n",
       "          0.00128036, 0.00114244, 0.00140839, 0.00213912, 0.00198971,\n",
       "          0.00110055, 0.00122633, 0.00090621, 0.00114271, 0.00079599,\n",
       "          0.00276334, 0.00127808, 0.00256269, 0.00191205, 0.00115191,\n",
       "          0.00264708, 0.00104887, 0.00208027, 0.00119946, 0.0021886 ,\n",
       "          0.0015926 , 0.0016622 , 0.00114739, 0.00186191, 0.00088477,\n",
       "          0.00105963, 0.00162499, 0.00179115, 0.0011951 , 0.00247971,\n",
       "          0.00182652, 0.0015962 , 0.00070749, 0.00271715, 0.00278194,\n",
       "          0.0011254 , 0.00193562, 0.00377058, 0.00109169, 0.00131302,\n",
       "          0.00133734, 0.00225896, 0.00104282, 0.00094934, 0.00095969,\n",
       "          0.00163626, 0.00151916, 0.00128304, 0.00127726, 0.00208549,\n",
       "          0.00088579, 0.00132613, 0.00113442, 0.00125475, 0.00102288,\n",
       "          0.00086469, 0.00096753, 0.00104096, 0.00310246, 0.00141931,\n",
       "          0.00112778, 0.00172828, 0.0017786 , 0.00114956, 0.00138586,\n",
       "          0.00148407, 0.00093521, 0.00269185, 0.00288057, 0.0011253 ,\n",
       "          0.00140817, 0.00146576, 0.0009914 , 0.00091122, 0.00209311,\n",
       "          0.00109304, 0.00107599, 0.00092098, 0.0013168 , 0.00115543,\n",
       "          0.00136876, 0.00094232, 0.00075279, 0.00099476, 0.00099792,\n",
       "          0.00238206, 0.00130872, 0.00278902, 0.00146961, 0.00166201,\n",
       "          0.00222062, 0.00095498, 0.0022051 , 0.00107129, 0.00107162,\n",
       "          0.00198823, 0.00221427, 0.00267294, 0.00163603, 0.00059013,\n",
       "          0.00165614, 0.00205455, 0.00144987, 0.00142111, 0.00223023,\n",
       "          0.00138441, 0.00174162, 0.00321174, 0.00162787, 0.00100817]]],\n",
       "       dtype=float32),\n",
       " array([[[0.00181035, 0.003905  , 0.00221372, 0.00179113, 0.00269262,\n",
       "          0.00348527, 0.00251166, 0.00236338, 0.00425233, 0.001692  ,\n",
       "          0.00339045, 0.00205075, 0.00237066, 0.00238403, 0.00216528,\n",
       "          0.00131635, 0.00311507, 0.00184474, 0.00229602, 0.0022262 ,\n",
       "          0.00246187, 0.00314077, 0.00277569, 0.00265781, 0.00243791,\n",
       "          0.00243381, 0.00220634, 0.00320562, 0.00596063, 0.00211853,\n",
       "          0.00248362, 0.00133992, 0.00166025, 0.00223302, 0.00208299,\n",
       "          0.00233951, 0.00187708, 0.00197984, 0.00500963, 0.00387309,\n",
       "          0.00224331, 0.00169979, 0.00531132, 0.00312804, 0.00212948,\n",
       "          0.0024524 , 0.00211706, 0.00223185, 0.00572117, 0.00204267,\n",
       "          0.00272265, 0.00241131, 0.00310275, 0.00599539, 0.00282392,\n",
       "          0.00185063, 0.00266626, 0.00530266, 0.00229317, 0.00474556,\n",
       "          0.0021145 , 0.00219023, 0.00230082, 0.00502665, 0.00233802,\n",
       "          0.00249534, 0.00469425, 0.00221149, 0.00175269, 0.00331192,\n",
       "          0.00240914, 0.00148708, 0.00180984, 0.00135831, 0.00346192,\n",
       "          0.00189037, 0.0028256 , 0.00247935, 0.00281651, 0.00240324,\n",
       "          0.00198536, 0.00250648, 0.00248685, 0.00195103, 0.0020165 ,\n",
       "          0.00224338, 0.01694184, 0.00212257, 0.002747  , 0.00208463,\n",
       "          0.00244127, 0.00153104, 0.00244371, 0.00782782, 0.00346937,\n",
       "          0.00351486, 0.00542448, 0.00257692, 0.00277085, 0.00210397,\n",
       "          0.00227881, 0.01130916, 0.00237779, 0.00195453, 0.00223672,\n",
       "          0.00104054, 0.00128947, 0.00423733, 0.00524155, 0.00228119,\n",
       "          0.00282522, 0.00142727, 0.00273293, 0.00231549, 0.00141607,\n",
       "          0.00609323, 0.00210961, 0.00183867, 0.00262156, 0.00274961,\n",
       "          0.00141407, 0.00552076, 0.00213168, 0.0007744 , 0.00092233,\n",
       "          0.01388957, 0.00264861, 0.00637693, 0.00197979, 0.00245918,\n",
       "          0.00226077, 0.0021703 , 0.00308842, 0.00268435, 0.0020848 ,\n",
       "          0.00301404, 0.00240304, 0.00292767, 0.00262596, 0.01106862,\n",
       "          0.00157034, 0.00271908, 0.002974  , 0.00260891, 0.00242838,\n",
       "          0.00429509, 0.00148853, 0.00199161, 0.00996972, 0.00276714,\n",
       "          0.00237511, 0.0026662 , 0.00464444, 0.00181642, 0.00280354,\n",
       "          0.004122  , 0.00521191, 0.00211348, 0.00228775, 0.00212812,\n",
       "          0.00240998, 0.00543696, 0.00298876, 0.01262409, 0.0020239 ,\n",
       "          0.00386758, 0.00276591, 0.00264557, 0.00222839, 0.00144308,\n",
       "          0.00261103, 0.00270088, 0.00186807, 0.00168823, 0.00225663,\n",
       "          0.00208124, 0.00222496, 0.00479492, 0.01413096, 0.00643218,\n",
       "          0.00096617, 0.00282864, 0.00285156, 0.00233268, 0.0027878 ,\n",
       "          0.00627197, 0.00238981, 0.0090313 , 0.00236437, 0.00176192,\n",
       "          0.00095751, 0.00149064, 0.0023787 , 0.00912819, 0.00188828,\n",
       "          0.00230098, 0.00209369, 0.00126233, 0.00187984, 0.00197388,\n",
       "          0.00250382, 0.00238005, 0.0024527 , 0.00240592, 0.0025446 ,\n",
       "          0.00268161, 0.00266543, 0.00252881, 0.00249264, 0.00223715,\n",
       "          0.00174442, 0.00662603, 0.00290919, 0.00234077, 0.00261116,\n",
       "          0.00260752, 0.0025098 , 0.0023722 , 0.00288793, 0.00166948,\n",
       "          0.00391006, 0.00292957, 0.00204063, 0.00336326, 0.00514432,\n",
       "          0.00260408, 0.00638346, 0.00378621, 0.00297592, 0.00156618,\n",
       "          0.00157325, 0.00238785, 0.00238208, 0.00585776, 0.00275717,\n",
       "          0.00226478, 0.00508555, 0.00313946, 0.01328667, 0.00207094,\n",
       "          0.00440428, 0.00262615, 0.01783202, 0.00222808, 0.00639478,\n",
       "          0.00263077, 0.00275459, 0.00286799, 0.00154592, 0.00190825,\n",
       "          0.0018251 , 0.00261926, 0.00226272, 0.00443646, 0.00456847,\n",
       "          0.00200316, 0.01174836, 0.00258376, 0.00723142, 0.00415925,\n",
       "          0.00240491, 0.00210086, 0.00393264, 0.00154047, 0.00171023,\n",
       "          0.00227777, 0.00205711, 0.00387915, 0.00292049, 0.00212675,\n",
       "          0.00273052, 0.00225363, 0.01336248, 0.00251476, 0.00248472,\n",
       "          0.00312016, 0.00253969, 0.00693356, 0.00263519, 0.00231337,\n",
       "          0.00485764, 0.00666625, 0.0044048 , 0.0025345 , 0.00150719,\n",
       "          0.00235619, 0.00213456, 0.01355571, 0.00387533, 0.00240632,\n",
       "          0.00153284, 0.00897304, 0.00268218, 0.00208764, 0.00582122,\n",
       "          0.00199164, 0.00266017, 0.00401271, 0.00404036, 0.00243919,\n",
       "          0.00295942, 0.0018599 , 0.00498191, 0.0028287 ]]], dtype=float32),\n",
       " array([[[0.00124123, 0.00166121, 0.0011417 , ..., 0.00072434,\n",
       "          0.00031958, 0.00026177]]], dtype=float32),\n",
       " array([[[2.0778683e-04, 1.9104261e-04, 4.9001355e-05, ...,\n",
       "          4.2727229e-04, 2.5968056e-04, 2.9392706e-04]]], dtype=float32),\n",
       " array([[[0.00046535, 0.00036473, 0.00016016, ..., 0.00025971,\n",
       "          0.0002402 , 0.00034266]]], dtype=float32),\n",
       " array([[[5.9906179e-05, 9.4457668e-05, 8.3413193e-05, ...,\n",
       "          3.8080110e-05, 9.4504278e-05, 6.0453287e-05]]], dtype=float32),\n",
       " array([[[0.00018368, 0.00021936, 0.00010168, ..., 0.00030293,\n",
       "          0.00029897, 0.00026894]]], dtype=float32),\n",
       " array([[[0.00046187, 0.00027059, 0.00021641, ..., 0.00018078,\n",
       "          0.000369  , 0.00017333]]], dtype=float32),\n",
       " array([[[0.0005116 , 0.00084276, 0.00047101, ..., 0.00094375,\n",
       "          0.00037334, 0.00087734]]], dtype=float32),\n",
       " array([[[1.0271560e-04, 2.3578292e-04, 1.0146217e-04, ...,\n",
       "          7.3041258e-05, 1.4602838e-04, 1.3414453e-04]]], dtype=float32),\n",
       " array([[[3.4382268e-05, 2.2900385e-05, 4.2271382e-05, ...,\n",
       "          1.9042283e-05, 4.5933477e-05, 5.5978566e-05]]], dtype=float32),\n",
       " array([[[1.4460951e-04, 5.5278033e-05, 3.1033192e-05, ...,\n",
       "          1.4148308e-04, 1.0666751e-04, 1.1872767e-04]]], dtype=float32)]"
      ]
     },
     "execution_count": 86,
     "metadata": {},
     "output_type": "execute_result"
    }
   ],
   "source": [
    "model_attention"
   ]
  },
  {
   "cell_type": "code",
   "execution_count": 90,
   "id": "ac6bd989-4ecc-4109-8b6a-0db5ba00b317",
   "metadata": {},
   "outputs": [
    {
     "data": {
      "text/plain": [
       "array([[[4.7229238e-05, 7.8991929e-05, 2.6659001e-04, ...,\n",
       "         4.9688657e-05, 2.8723478e-05, 1.0803978e-04]]], dtype=float32)"
      ]
     },
     "execution_count": 90,
     "metadata": {},
     "output_type": "execute_result"
    }
   ],
   "source": [
    "model_attention[0]"
   ]
  },
  {
   "cell_type": "code",
   "execution_count": 91,
   "id": "82d98c54-f2de-4e70-9f43-f741dba3e184",
   "metadata": {},
   "outputs": [],
   "source": [
    "attention_combined = [np.hstack(x) for x in zip(*attention_list)]"
   ]
  },
  {
   "cell_type": "code",
   "execution_count": 97,
   "id": "16c65501-2bf3-4a56-aeb6-7a2f252d1e9e",
   "metadata": {},
   "outputs": [
    {
     "name": "stdout",
     "output_type": "stream",
     "text": [
      "Writing Attention Map 1.1\n",
      "Writing Attention Map 1.2\n",
      "Writing Attention Map 1.3\n",
      "Writing Attention Map 2.1\n",
      "Writing Attention Map 2.2\n",
      "Writing Attention Map 2.3\n",
      "Writing Attention Map 3.1\n",
      "Writing Attention Map 3.4\n",
      "Writing Attention Map 4.1\n",
      "Writing Attention Map 4.2\n",
      "Writing Attention Map 4.3\n",
      "Writing Attention Map 4.4\n",
      "Writing Attention Map 5.1\n",
      "Writing Attention Map 5.2\n",
      "Writing Attention Map 5.3\n",
      "Writing Attention Map 5.4\n"
     ]
    }
   ],
   "source": [
    "for jj, file in enumerate(slide_names):\n",
    "        slidename = file\n",
    "        print('Writing Attention Map ' + slidename)\n",
    "        coords = torch.load(path_to_extracted_features + \"/\" + file + \"_coords.pt\").numpy()\n",
    "        outarray_root = zarr.open(\"/home/p163v/histopathology/attention_maps/spatial_medullo/\"+ group + \"/\"+ slidename + \"_per_tile_attention.zarr\", mode='w') \n",
    "        outarray_root['coords'] = coords\n",
    "        outarray_root['attn'] = np.mean(attention_combined[jj], axis=1)[0]"
   ]
  },
  {
   "cell_type": "code",
   "execution_count": 98,
   "id": "77b70955-7880-423a-9d7d-cdf5ece0c3c8",
   "metadata": {},
   "outputs": [
    {
     "data": {
      "text/plain": [
       "(11410,)"
      ]
     },
     "execution_count": 98,
     "metadata": {},
     "output_type": "execute_result"
    }
   ],
   "source": [
    "np.mean(attention_combined[jj], axis=1)[0].shape"
   ]
  },
  {
   "cell_type": "code",
   "execution_count": null,
   "id": "23fba63e-7826-4d57-92cf-c35cb2f77a0a",
   "metadata": {},
   "outputs": [],
   "source": []
  }
 ],
 "metadata": {
  "kernelspec": {
   "display_name": "marugoto",
   "language": "python",
   "name": "marugoto"
  },
  "language_info": {
   "codemirror_mode": {
    "name": "ipython",
    "version": 3
   },
   "file_extension": ".py",
   "mimetype": "text/x-python",
   "name": "python",
   "nbconvert_exporter": "python",
   "pygments_lexer": "ipython3",
   "version": "3.9.16"
  }
 },
 "nbformat": 4,
 "nbformat_minor": 5
}
