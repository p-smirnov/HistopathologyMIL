{
 "cells": [
  {
   "cell_type": "code",
   "execution_count": 1,
   "id": "ca5ba120-a5d8-4b62-bf61-82252878f3f1",
   "metadata": {},
   "outputs": [],
   "source": [
    "import numpy as np\n",
    "import sklearn\n",
    "import pandas as pd\n",
    "import h5py\n",
    "import glob\n",
    "\n",
    "import matplotlib.pyplot as plt\n",
    "\n",
    "from skimage.transform import resize, pyramid_gaussian\n",
    "from sklearn.model_selection import train_test_split\n",
    "from sklearn.model_selection import KFold, StratifiedKFold\n",
    "\n",
    "import zarr\n",
    "\n",
    "import os\n",
    "import sys\n",
    "import re\n",
    "\n",
    "import openslide\n",
    "\n",
    "from sklearn.metrics import RocCurveDisplay, PrecisionRecallDisplay\n",
    "\n"
   ]
  },
  {
   "cell_type": "code",
   "execution_count": 2,
   "id": "e7e795ae-f265-4816-b67d-f101b14e9512",
   "metadata": {},
   "outputs": [],
   "source": [
    "ct_scoring = pd.read_csv(\"/home/p163v/MethCTScoring/snp6_CT_labels_11_1MB_10.csv\")\n"
   ]
  },
  {
   "cell_type": "code",
   "execution_count": 3,
   "id": "8c81d365-2b32-4691-9ffd-02ed91f6dcdb",
   "metadata": {},
   "outputs": [],
   "source": [
    "duplicated_cases = ct_scoring.loc[ct_scoring.TCGA_Case.duplicated()].TCGA_Case\n",
    "for case in duplicated_cases:\n",
    "    ct_scoring.loc[ct_scoring.TCGA_Case == case]\n",
    "    if np.any(ct_scoring.loc[ct_scoring.TCGA_Case == case].CT_Status == \"Chromothripsis\"):\n",
    "        ct_scoring.loc[ct_scoring.TCGA_Case == case,\"CT_Status\"] = \"Chromothripsis\"\n",
    "    elif np.any(ct_scoring.loc[ct_scoring.TCGA_Case == case].CT_Status == \"Unsure\"):\n",
    "        ct_scoring.loc[ct_scoring.TCGA_Case == case,\"CT_Status\"] = \"Unsure\"\n",
    "    else: \n",
    "         ct_scoring.loc[ct_scoring.TCGA_Case == case,\"CT_Status\"] = \"No Chromothripsis\"\n"
   ]
  },
  {
   "cell_type": "code",
   "execution_count": 4,
   "id": "f1253abf-7599-47d6-864c-da91cbaadb39",
   "metadata": {},
   "outputs": [],
   "source": [
    "ct_scoring = ct_scoring.loc[~ct_scoring.TCGA_Case.duplicated()]"
   ]
  },
  {
   "cell_type": "code",
   "execution_count": 5,
   "id": "c16f01d8-5752-4601-8c98-2ac52e4862a4",
   "metadata": {},
   "outputs": [],
   "source": [
    "tcga_projects = [os.path.basename(x).split(\"_\")[0].split(\"-\")[1] for x in glob.glob(\"../metadata/TCGA/slides_list/*_primary.txt\")]"
   ]
  },
  {
   "cell_type": "code",
   "execution_count": 6,
   "id": "9ed75907-8201-4afd-976b-662156916d54",
   "metadata": {},
   "outputs": [
    {
     "data": {
      "text/plain": [
       "['COAD',\n",
       " 'HNSC',\n",
       " 'MESO',\n",
       " 'SKCM',\n",
       " 'PAAD',\n",
       " 'TGCT',\n",
       " 'CESC',\n",
       " 'CHOL',\n",
       " 'OV',\n",
       " 'GBM',\n",
       " 'LGG',\n",
       " 'LUAD',\n",
       " 'THCA',\n",
       " 'SARC',\n",
       " 'DLBC',\n",
       " 'BRCA',\n",
       " 'THYM',\n",
       " 'ACC',\n",
       " 'KIRP',\n",
       " 'KIRC',\n",
       " 'PCPG',\n",
       " 'UCEC',\n",
       " 'READ',\n",
       " 'UVM',\n",
       " 'LIHC',\n",
       " 'BLCA',\n",
       " 'KICH',\n",
       " 'UCS',\n",
       " 'ESCA',\n",
       " 'STAD',\n",
       " 'LUSC',\n",
       " 'PRAD']"
      ]
     },
     "execution_count": 6,
     "metadata": {},
     "output_type": "execute_result"
    }
   ],
   "source": [
    "tcga_projects"
   ]
  },
  {
   "cell_type": "code",
   "execution_count": 7,
   "id": "a5be3113-2d56-4a63-bab0-a31292f348bf",
   "metadata": {},
   "outputs": [],
   "source": [
    "tcga_file_lists = [pd.read_csv(x, header=None) for x in glob.glob(\"../metadata/TCGA/slides_list/*_primary.txt\")]"
   ]
  },
  {
   "cell_type": "code",
   "execution_count": 8,
   "id": "72355404-19f3-4583-8090-935221e37334",
   "metadata": {},
   "outputs": [],
   "source": [
    "for x,y in zip(tcga_file_lists, tcga_projects):\n",
    "    x.loc[:,\"project\"] = y\n"
   ]
  },
  {
   "cell_type": "code",
   "execution_count": 9,
   "id": "9f47b8a5-df7e-4415-b1c6-fe824ce1a3c3",
   "metadata": {},
   "outputs": [],
   "source": [
    "tcga_slide_map = pd.concat(tcga_file_lists)"
   ]
  },
  {
   "cell_type": "code",
   "execution_count": 10,
   "id": "f3b31806-af20-4ceb-9428-21d65f3adbc0",
   "metadata": {},
   "outputs": [],
   "source": [
    "tcga_slide_map.loc[:, \"PatientID\"] = [\"-\".join(x.split(\"-\")[0:3]) for x in tcga_slide_map.loc[:,0]]"
   ]
  },
  {
   "cell_type": "code",
   "execution_count": 11,
   "id": "01fc6e19-8dfa-4e69-ad73-2c8ead710a49",
   "metadata": {},
   "outputs": [],
   "source": [
    "tcga_slide_map.loc[:,\"slide_id\"] = [x.split(\".\")[0] for x in tcga_slide_map.loc[:,0]]"
   ]
  },
  {
   "cell_type": "code",
   "execution_count": 12,
   "id": "e48450b9-a4d3-40c1-83f2-1c14e84aa7d4",
   "metadata": {},
   "outputs": [
    {
     "data": {
      "text/html": [
       "<div>\n",
       "<style scoped>\n",
       "    .dataframe tbody tr th:only-of-type {\n",
       "        vertical-align: middle;\n",
       "    }\n",
       "\n",
       "    .dataframe tbody tr th {\n",
       "        vertical-align: top;\n",
       "    }\n",
       "\n",
       "    .dataframe thead th {\n",
       "        text-align: right;\n",
       "    }\n",
       "</style>\n",
       "<table border=\"1\" class=\"dataframe\">\n",
       "  <thead>\n",
       "    <tr style=\"text-align: right;\">\n",
       "      <th></th>\n",
       "      <th>0</th>\n",
       "      <th>project</th>\n",
       "      <th>PatientID</th>\n",
       "      <th>slide_id</th>\n",
       "    </tr>\n",
       "  </thead>\n",
       "  <tbody>\n",
       "    <tr>\n",
       "      <th>0</th>\n",
       "      <td>TCGA-3L-AA1B-01Z-00-DX1.8923A151-A690-40B7-9E5...</td>\n",
       "      <td>COAD</td>\n",
       "      <td>TCGA-3L-AA1B</td>\n",
       "      <td>TCGA-3L-AA1B-01Z-00-DX1</td>\n",
       "    </tr>\n",
       "    <tr>\n",
       "      <th>1</th>\n",
       "      <td>TCGA-3L-AA1B-01Z-00-DX2.17CE3683-F4B1-4978-A28...</td>\n",
       "      <td>COAD</td>\n",
       "      <td>TCGA-3L-AA1B</td>\n",
       "      <td>TCGA-3L-AA1B-01Z-00-DX2</td>\n",
       "    </tr>\n",
       "    <tr>\n",
       "      <th>2</th>\n",
       "      <td>TCGA-4N-A93T-01Z-00-DX1.82E240B1-22C3-46E3-891...</td>\n",
       "      <td>COAD</td>\n",
       "      <td>TCGA-4N-A93T</td>\n",
       "      <td>TCGA-4N-A93T-01Z-00-DX1</td>\n",
       "    </tr>\n",
       "    <tr>\n",
       "      <th>3</th>\n",
       "      <td>TCGA-4N-A93T-01Z-00-DX2.875E7F95-A6D4-4BEB-A33...</td>\n",
       "      <td>COAD</td>\n",
       "      <td>TCGA-4N-A93T</td>\n",
       "      <td>TCGA-4N-A93T-01Z-00-DX2</td>\n",
       "    </tr>\n",
       "    <tr>\n",
       "      <th>4</th>\n",
       "      <td>TCGA-4T-AA8H-01Z-00-DX1.A46C759C-74A2-4724-B6B...</td>\n",
       "      <td>COAD</td>\n",
       "      <td>TCGA-4T-AA8H</td>\n",
       "      <td>TCGA-4T-AA8H-01Z-00-DX1</td>\n",
       "    </tr>\n",
       "    <tr>\n",
       "      <th>...</th>\n",
       "      <td>...</td>\n",
       "      <td>...</td>\n",
       "      <td>...</td>\n",
       "      <td>...</td>\n",
       "    </tr>\n",
       "    <tr>\n",
       "      <th>425</th>\n",
       "      <td>TCGA-YL-A9WJ-01Z-00-DX1.ECE31D79-8A8E-45DB-8BC...</td>\n",
       "      <td>PRAD</td>\n",
       "      <td>TCGA-YL-A9WJ</td>\n",
       "      <td>TCGA-YL-A9WJ-01Z-00-DX1</td>\n",
       "    </tr>\n",
       "    <tr>\n",
       "      <th>426</th>\n",
       "      <td>TCGA-YL-A9WK-01Z-00-DX1.8541045E-7FD4-4E74-BA1...</td>\n",
       "      <td>PRAD</td>\n",
       "      <td>TCGA-YL-A9WK</td>\n",
       "      <td>TCGA-YL-A9WK-01Z-00-DX1</td>\n",
       "    </tr>\n",
       "    <tr>\n",
       "      <th>427</th>\n",
       "      <td>TCGA-YL-A9WL-01Z-00-DX1.4EE10C9A-18EA-4DB0-BE2...</td>\n",
       "      <td>PRAD</td>\n",
       "      <td>TCGA-YL-A9WL</td>\n",
       "      <td>TCGA-YL-A9WL-01Z-00-DX1</td>\n",
       "    </tr>\n",
       "    <tr>\n",
       "      <th>428</th>\n",
       "      <td>TCGA-YL-A9WX-01Z-00-DX1.20B40B9A-C210-419D-B9A...</td>\n",
       "      <td>PRAD</td>\n",
       "      <td>TCGA-YL-A9WX</td>\n",
       "      <td>TCGA-YL-A9WX-01Z-00-DX1</td>\n",
       "    </tr>\n",
       "    <tr>\n",
       "      <th>429</th>\n",
       "      <td>TCGA-YL-A9WY-01Z-00-DX1.16415C29-1D79-4560-8F4...</td>\n",
       "      <td>PRAD</td>\n",
       "      <td>TCGA-YL-A9WY</td>\n",
       "      <td>TCGA-YL-A9WY-01Z-00-DX1</td>\n",
       "    </tr>\n",
       "  </tbody>\n",
       "</table>\n",
       "<p>10838 rows × 4 columns</p>\n",
       "</div>"
      ],
      "text/plain": [
       "                                                     0 project     PatientID  \\\n",
       "0    TCGA-3L-AA1B-01Z-00-DX1.8923A151-A690-40B7-9E5...    COAD  TCGA-3L-AA1B   \n",
       "1    TCGA-3L-AA1B-01Z-00-DX2.17CE3683-F4B1-4978-A28...    COAD  TCGA-3L-AA1B   \n",
       "2    TCGA-4N-A93T-01Z-00-DX1.82E240B1-22C3-46E3-891...    COAD  TCGA-4N-A93T   \n",
       "3    TCGA-4N-A93T-01Z-00-DX2.875E7F95-A6D4-4BEB-A33...    COAD  TCGA-4N-A93T   \n",
       "4    TCGA-4T-AA8H-01Z-00-DX1.A46C759C-74A2-4724-B6B...    COAD  TCGA-4T-AA8H   \n",
       "..                                                 ...     ...           ...   \n",
       "425  TCGA-YL-A9WJ-01Z-00-DX1.ECE31D79-8A8E-45DB-8BC...    PRAD  TCGA-YL-A9WJ   \n",
       "426  TCGA-YL-A9WK-01Z-00-DX1.8541045E-7FD4-4E74-BA1...    PRAD  TCGA-YL-A9WK   \n",
       "427  TCGA-YL-A9WL-01Z-00-DX1.4EE10C9A-18EA-4DB0-BE2...    PRAD  TCGA-YL-A9WL   \n",
       "428  TCGA-YL-A9WX-01Z-00-DX1.20B40B9A-C210-419D-B9A...    PRAD  TCGA-YL-A9WX   \n",
       "429  TCGA-YL-A9WY-01Z-00-DX1.16415C29-1D79-4560-8F4...    PRAD  TCGA-YL-A9WY   \n",
       "\n",
       "                    slide_id  \n",
       "0    TCGA-3L-AA1B-01Z-00-DX1  \n",
       "1    TCGA-3L-AA1B-01Z-00-DX2  \n",
       "2    TCGA-4N-A93T-01Z-00-DX1  \n",
       "3    TCGA-4N-A93T-01Z-00-DX2  \n",
       "4    TCGA-4T-AA8H-01Z-00-DX1  \n",
       "..                       ...  \n",
       "425  TCGA-YL-A9WJ-01Z-00-DX1  \n",
       "426  TCGA-YL-A9WK-01Z-00-DX1  \n",
       "427  TCGA-YL-A9WL-01Z-00-DX1  \n",
       "428  TCGA-YL-A9WX-01Z-00-DX1  \n",
       "429  TCGA-YL-A9WY-01Z-00-DX1  \n",
       "\n",
       "[10838 rows x 4 columns]"
      ]
     },
     "execution_count": 12,
     "metadata": {},
     "output_type": "execute_result"
    }
   ],
   "source": [
    "tcga_slide_map"
   ]
  },
  {
   "cell_type": "code",
   "execution_count": 13,
   "id": "2c44cde7-97b2-4ab7-926d-cf802e36265d",
   "metadata": {},
   "outputs": [
    {
     "data": {
      "text/html": [
       "<div>\n",
       "<style scoped>\n",
       "    .dataframe tbody tr th:only-of-type {\n",
       "        vertical-align: middle;\n",
       "    }\n",
       "\n",
       "    .dataframe tbody tr th {\n",
       "        vertical-align: top;\n",
       "    }\n",
       "\n",
       "    .dataframe thead th {\n",
       "        text-align: right;\n",
       "    }\n",
       "</style>\n",
       "<table border=\"1\" class=\"dataframe\">\n",
       "  <thead>\n",
       "    <tr style=\"text-align: right;\">\n",
       "      <th></th>\n",
       "      <th>0</th>\n",
       "      <th>project</th>\n",
       "      <th>PatientID</th>\n",
       "      <th>slide_id</th>\n",
       "    </tr>\n",
       "  </thead>\n",
       "  <tbody>\n",
       "    <tr>\n",
       "      <th>141</th>\n",
       "      <td>TCGA-06-0152-01Z-00-DX6.b20146eb-b6a1-4f9f-842...</td>\n",
       "      <td>GBM</td>\n",
       "      <td>TCGA-06-0152</td>\n",
       "      <td>TCGA-06-0152-01Z-00-DX6</td>\n",
       "    </tr>\n",
       "  </tbody>\n",
       "</table>\n",
       "</div>"
      ],
      "text/plain": [
       "                                                     0 project     PatientID  \\\n",
       "141  TCGA-06-0152-01Z-00-DX6.b20146eb-b6a1-4f9f-842...     GBM  TCGA-06-0152   \n",
       "\n",
       "                    slide_id  \n",
       "141  TCGA-06-0152-01Z-00-DX6  "
      ]
     },
     "execution_count": 13,
     "metadata": {},
     "output_type": "execute_result"
    }
   ],
   "source": [
    "tcga_slide_map.loc[tcga_slide_map.slide_id == \"TCGA-06-0152-01Z-00-DX6\"]\n"
   ]
  },
  {
   "cell_type": "code",
   "execution_count": 14,
   "id": "e06a2b8e-a7f7-4de1-9a14-46ef50baefe3",
   "metadata": {},
   "outputs": [],
   "source": [
    "slide_annots = pd.merge(ct_scoring, tcga_slide_map, how=\"outer\", left_on = \"TCGA_Case\", right_on = \"PatientID\")"
   ]
  },
  {
   "cell_type": "code",
   "execution_count": 15,
   "id": "d1183c98-fd90-49ab-93fa-1c0f2bc40db7",
   "metadata": {},
   "outputs": [
    {
     "data": {
      "text/plain": [
       "0        TCGA-DC-4745-01Z-00-DX1\n",
       "1        TCGA-EW-A1OV-01Z-00-DX1\n",
       "2        TCGA-02-0003-01Z-00-DX1\n",
       "3        TCGA-02-0003-01Z-00-DX2\n",
       "4        TCGA-02-0003-01Z-00-DX3\n",
       "                  ...           \n",
       "12955    TCGA-HC-7749-01Z-00-DX1\n",
       "12956    TCGA-HC-8212-01Z-00-DX1\n",
       "12957    TCGA-KK-A5A1-01Z-00-DX1\n",
       "12958    TCGA-YL-A8HO-01Z-00-DX1\n",
       "12959    TCGA-YL-A9WK-01Z-00-DX1\n",
       "Name: slide_id, Length: 12960, dtype: object"
      ]
     },
     "execution_count": 15,
     "metadata": {},
     "output_type": "execute_result"
    }
   ],
   "source": [
    "slide_annots.slide_id"
   ]
  },
  {
   "cell_type": "code",
   "execution_count": 16,
   "id": "73049a4d-a541-4ec2-b2a6-6bef6d47a6f6",
   "metadata": {},
   "outputs": [],
   "source": [
    "slide_annots.dropna(axis = 0, how = 'any', inplace = True)"
   ]
  },
  {
   "cell_type": "code",
   "execution_count": null,
   "id": "baa01049-9a53-497b-a9d5-f1dc962cd10a",
   "metadata": {},
   "outputs": [],
   "source": [
    "path_to_extracted_features = '/home/p163v/histopathology/TCGA/ffpe/299/'\n",
    "\n",
    "\n",
    "patch_num = []\n",
    "for x in slide_annots.slide_id:\n",
    "    fl = path_to_extracted_features+x+\".h5\"\n",
    "    if(os.path.exists(fl)):\n",
    "        patch_num.append(h5py.File(fl)['feats'].shape[0])\n",
    "    else:\n",
    "        patch_num.append(0)"
   ]
  },
  {
   "cell_type": "code",
   "execution_count": null,
   "id": "377e18f5-d1c1-4564-8b77-ef81ef0a8ac4",
   "metadata": {},
   "outputs": [],
   "source": [
    "slide_annots['patches'] = patch_num"
   ]
  },
  {
   "cell_type": "code",
   "execution_count": null,
   "id": "207e7fcb-8c04-4a64-832d-e4e855189def",
   "metadata": {},
   "outputs": [],
   "source": [
    "slide_annots"
   ]
  },
  {
   "cell_type": "code",
   "execution_count": null,
   "id": "c593c6a9-ace4-4273-9768-d9f180c931c8",
   "metadata": {},
   "outputs": [],
   "source": [
    "slide_annots = slide_annots[slide_annots.patches >0]"
   ]
  },
  {
   "cell_type": "code",
   "execution_count": null,
   "id": "295d7430-942d-4af3-ae51-c972cf2ed581",
   "metadata": {},
   "outputs": [],
   "source": [
    "slide_annots = slide_annots[slide_annots.CT_Status != \"Unsure\"]"
   ]
  },
  {
   "cell_type": "code",
   "execution_count": null,
   "id": "94ed8829-7944-4f6c-8416-865f94497f0b",
   "metadata": {},
   "outputs": [],
   "source": [
    "slide_annots.TCGA_Case.unique().shape"
   ]
  },
  {
   "cell_type": "code",
   "execution_count": null,
   "id": "d4d2d66d-d85b-4857-9008-6d64b181cc36",
   "metadata": {},
   "outputs": [],
   "source": [
    "slide_annots.loc[:,'labels'] = np.abs(1-slide_annots.CT_Status.factorize(sort=True)[0])"
   ]
  },
  {
   "cell_type": "code",
   "execution_count": null,
   "id": "dfeea4d0-7b7d-49a5-a9eb-cf9e97f29315",
   "metadata": {},
   "outputs": [],
   "source": [
    "unique_patient_labels = slide_annots.loc[:,[\"TCGA_Case\",\"labels\"]]\n",
    "unique_patient_labels = unique_patient_labels.drop_duplicates(ignore_index=True)\n",
    "unique_patient_labels"
   ]
  },
  {
   "cell_type": "code",
   "execution_count": null,
   "id": "b9cdcc6e-f708-4394-922e-1ae22be59e25",
   "metadata": {},
   "outputs": [],
   "source": [
    "np.random.seed(42)\n",
    "\n",
    "\n",
    "kfold = StratifiedKFold(5)\n",
    "kfold_test_splits = [x for x in kfold.split(np.array(unique_patient_labels.TCGA_Case), np.array(unique_patient_labels.labels))]\n",
    "\n",
    "\n"
   ]
  },
  {
   "cell_type": "code",
   "execution_count": null,
   "id": "ed940a6d-82d7-4ee0-b5d5-1abfba7a94c1",
   "metadata": {},
   "outputs": [],
   "source": [
    "kfold_train_valid_test_splits = [train_test_split(x[0], train_size=0.75, stratify = np.array(slide_annots.labels)[x[0]]) + [x[1]] for x in kfold_test_splits]\n",
    "\n",
    "\n"
   ]
  },
  {
   "cell_type": "code",
   "execution_count": null,
   "id": "d370c875-bfae-4d56-9fb1-5124b54c1b33",
   "metadata": {},
   "outputs": [],
   "source": [
    "i = 0\n",
    "for i in range(5):\n",
    "    print('starting: '+str(i))\n",
    "    os.makedirs('/omics/odcf/analysis/OE0585_projects/chromothripsis/histopathology/splits/TCGA/18032024/'+str(i),exist_ok=True)\n",
    "    train_table = pd.merge(unique_patient_labels.loc[kfold_train_valid_test_splits[i][0], \"TCGA_Case\"], slide_annots, how=\"left\") \n",
    "    valid_table = pd.merge(unique_patient_labels.loc[kfold_train_valid_test_splits[i][1], \"TCGA_Case\"], slide_annots, how=\"left\") \n",
    "    test_table = pd.merge(unique_patient_labels.loc[kfold_train_valid_test_splits[i][2], \"TCGA_Case\"], slide_annots, how=\"left\") \n",
    "    train_table['features'] = path_to_extracted_features + train_table.slide_id + \".h5\"\n",
    "    valid_table['features'] = path_to_extracted_features + valid_table.slide_id + \".h5\"\n",
    "    test_table['features'] = path_to_extracted_features + test_table.slide_id + \".h5\"\n",
    "\n",
    "    train_table.to_csv('/omics/odcf/analysis/OE0585_projects/chromothripsis/histopathology/splits/TCGA/18032024/'+str(i)+'/train_set.csv')\n",
    "    valid_table.to_csv('/omics/odcf/analysis/OE0585_projects/chromothripsis/histopathology/splits/TCGA/18032024/'+str(i)+'/valid_set.csv')\n",
    "    test_table.to_csv('/omics/odcf/analysis/OE0585_projects/chromothripsis/histopathology/splits/TCGA/18032024/'+str(i)+'/test_set.csv')\n",
    "\n",
    "\n"
   ]
  },
  {
   "cell_type": "code",
   "execution_count": null,
   "id": "56157f63-b3fb-49d7-aa5c-58df67dae37a",
   "metadata": {},
   "outputs": [],
   "source": [
    "slide_annots.to_csv('/omics/odcf/analysis/OE0585_projects/chromothripsis/histopathology/metadata/tcga_labeled_data.csv')"
   ]
  },
  {
   "cell_type": "code",
   "execution_count": null,
   "id": "a7250de7-f226-48d1-a7f9-e0dba901d5fd",
   "metadata": {},
   "outputs": [],
   "source": [
    "slide_annots"
   ]
  },
  {
   "cell_type": "code",
   "execution_count": null,
   "id": "5b2dddf0-0c74-4aab-835a-d0c35941e045",
   "metadata": {},
   "outputs": [],
   "source": []
  }
 ],
 "metadata": {
  "kernelspec": {
   "display_name": "Python [conda env:mambaforge-marugoto]",
   "language": "python",
   "name": "conda-env-mambaforge-marugoto-py"
  },
  "language_info": {
   "codemirror_mode": {
    "name": "ipython",
    "version": 3
   },
   "file_extension": ".py",
   "mimetype": "text/x-python",
   "name": "python",
   "nbconvert_exporter": "python",
   "pygments_lexer": "ipython3",
   "version": "3.9.16"
  }
 },
 "nbformat": 4,
 "nbformat_minor": 5
}
